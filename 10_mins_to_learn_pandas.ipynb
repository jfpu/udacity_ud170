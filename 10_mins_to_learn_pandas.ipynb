{
 "cells": [
  {
   "cell_type": "markdown",
   "metadata": {},
   "source": [
    "# 10 mins to learn Pandas\n",
    "\n",
    "[十分钟搞定pandas](http://www.cnblogs.com/chaosimple/p/4153083.html)"
   ]
  },
  {
   "cell_type": "code",
   "execution_count": 1,
   "metadata": {
    "collapsed": true
   },
   "outputs": [],
   "source": [
    "import pandas as pd\n",
    "import numpy as np\n",
    "import matplotlib.pyplot as plt"
   ]
  },
  {
   "cell_type": "markdown",
   "metadata": {},
   "source": [
    "---\n",
    "\n",
    "## 1.Create Object\n",
    "\n",
    "详情请参考 [Data Structure Intro Section](http://pandas.pydata.org/pandas-docs/stable/dsintro.html#dsintro)"
   ]
  },
  {
   "cell_type": "code",
   "execution_count": 2,
   "metadata": {},
   "outputs": [
    {
     "data": {
      "text/plain": [
       "0    1.0\n",
       "1    3.0\n",
       "2    5.0\n",
       "3    NaN\n",
       "4    6.0\n",
       "5    8.0\n",
       "dtype: float64"
      ]
     },
     "execution_count": 2,
     "metadata": {},
     "output_type": "execute_result"
    }
   ],
   "source": [
    "s = pd.Series([1, 3, 5, np.nan, 6, 8])\n",
    "s"
   ]
  },
  {
   "cell_type": "code",
   "execution_count": 3,
   "metadata": {},
   "outputs": [
    {
     "data": {
      "text/plain": [
       "DatetimeIndex(['2013-01-01', '2013-01-02', '2013-01-03', '2013-01-04',\n",
       "               '2013-01-05', '2013-01-06'],\n",
       "              dtype='datetime64[ns]', freq='D')"
      ]
     },
     "execution_count": 3,
     "metadata": {},
     "output_type": "execute_result"
    }
   ],
   "source": [
    "dates = pd.date_range('20130101', periods=6)\n",
    "dates"
   ]
  },
  {
   "cell_type": "code",
   "execution_count": 4,
   "metadata": {},
   "outputs": [
    {
     "data": {
      "text/html": [
       "<div>\n",
       "<style>\n",
       "    .dataframe thead tr:only-child th {\n",
       "        text-align: right;\n",
       "    }\n",
       "\n",
       "    .dataframe thead th {\n",
       "        text-align: left;\n",
       "    }\n",
       "\n",
       "    .dataframe tbody tr th {\n",
       "        vertical-align: top;\n",
       "    }\n",
       "</style>\n",
       "<table border=\"1\" class=\"dataframe\">\n",
       "  <thead>\n",
       "    <tr style=\"text-align: right;\">\n",
       "      <th></th>\n",
       "      <th>A</th>\n",
       "      <th>B</th>\n",
       "      <th>C</th>\n",
       "      <th>D</th>\n",
       "    </tr>\n",
       "  </thead>\n",
       "  <tbody>\n",
       "    <tr>\n",
       "      <th>2013-01-01</th>\n",
       "      <td>-2.128528</td>\n",
       "      <td>0.730516</td>\n",
       "      <td>0.739890</td>\n",
       "      <td>0.591151</td>\n",
       "    </tr>\n",
       "    <tr>\n",
       "      <th>2013-01-02</th>\n",
       "      <td>0.898003</td>\n",
       "      <td>-0.369102</td>\n",
       "      <td>0.545741</td>\n",
       "      <td>-0.008239</td>\n",
       "    </tr>\n",
       "    <tr>\n",
       "      <th>2013-01-03</th>\n",
       "      <td>-0.182511</td>\n",
       "      <td>0.632319</td>\n",
       "      <td>1.489056</td>\n",
       "      <td>0.171114</td>\n",
       "    </tr>\n",
       "    <tr>\n",
       "      <th>2013-01-04</th>\n",
       "      <td>-0.455393</td>\n",
       "      <td>-0.165455</td>\n",
       "      <td>-1.526940</td>\n",
       "      <td>1.869737</td>\n",
       "    </tr>\n",
       "    <tr>\n",
       "      <th>2013-01-05</th>\n",
       "      <td>-0.845402</td>\n",
       "      <td>-0.500368</td>\n",
       "      <td>-1.019309</td>\n",
       "      <td>-1.618274</td>\n",
       "    </tr>\n",
       "    <tr>\n",
       "      <th>2013-01-06</th>\n",
       "      <td>0.134862</td>\n",
       "      <td>0.475744</td>\n",
       "      <td>-1.585539</td>\n",
       "      <td>1.000327</td>\n",
       "    </tr>\n",
       "  </tbody>\n",
       "</table>\n",
       "</div>"
      ],
      "text/plain": [
       "                   A         B         C         D\n",
       "2013-01-01 -2.128528  0.730516  0.739890  0.591151\n",
       "2013-01-02  0.898003 -0.369102  0.545741 -0.008239\n",
       "2013-01-03 -0.182511  0.632319  1.489056  0.171114\n",
       "2013-01-04 -0.455393 -0.165455 -1.526940  1.869737\n",
       "2013-01-05 -0.845402 -0.500368 -1.019309 -1.618274\n",
       "2013-01-06  0.134862  0.475744 -1.585539  1.000327"
      ]
     },
     "execution_count": 4,
     "metadata": {},
     "output_type": "execute_result"
    }
   ],
   "source": [
    "df = pd.DataFrame(np.random.randn(6, 4), index=dates, columns=list('ABCD'))\n",
    "df"
   ]
  },
  {
   "cell_type": "code",
   "execution_count": 5,
   "metadata": {},
   "outputs": [
    {
     "data": {
      "text/html": [
       "<div>\n",
       "<style>\n",
       "    .dataframe thead tr:only-child th {\n",
       "        text-align: right;\n",
       "    }\n",
       "\n",
       "    .dataframe thead th {\n",
       "        text-align: left;\n",
       "    }\n",
       "\n",
       "    .dataframe tbody tr th {\n",
       "        vertical-align: top;\n",
       "    }\n",
       "</style>\n",
       "<table border=\"1\" class=\"dataframe\">\n",
       "  <thead>\n",
       "    <tr style=\"text-align: right;\">\n",
       "      <th></th>\n",
       "      <th>A</th>\n",
       "      <th>B</th>\n",
       "      <th>C</th>\n",
       "      <th>D</th>\n",
       "      <th>E</th>\n",
       "      <th>F</th>\n",
       "    </tr>\n",
       "  </thead>\n",
       "  <tbody>\n",
       "    <tr>\n",
       "      <th>0</th>\n",
       "      <td>1.0</td>\n",
       "      <td>2013-01-02</td>\n",
       "      <td>1.0</td>\n",
       "      <td>3</td>\n",
       "      <td>test</td>\n",
       "      <td>foo</td>\n",
       "    </tr>\n",
       "    <tr>\n",
       "      <th>1</th>\n",
       "      <td>1.0</td>\n",
       "      <td>2013-01-02</td>\n",
       "      <td>1.0</td>\n",
       "      <td>3</td>\n",
       "      <td>train</td>\n",
       "      <td>foo</td>\n",
       "    </tr>\n",
       "    <tr>\n",
       "      <th>2</th>\n",
       "      <td>1.0</td>\n",
       "      <td>2013-01-02</td>\n",
       "      <td>1.0</td>\n",
       "      <td>3</td>\n",
       "      <td>test</td>\n",
       "      <td>foo</td>\n",
       "    </tr>\n",
       "    <tr>\n",
       "      <th>3</th>\n",
       "      <td>1.0</td>\n",
       "      <td>2013-01-02</td>\n",
       "      <td>1.0</td>\n",
       "      <td>3</td>\n",
       "      <td>train</td>\n",
       "      <td>foo</td>\n",
       "    </tr>\n",
       "  </tbody>\n",
       "</table>\n",
       "</div>"
      ],
      "text/plain": [
       "     A          B    C  D      E    F\n",
       "0  1.0 2013-01-02  1.0  3   test  foo\n",
       "1  1.0 2013-01-02  1.0  3  train  foo\n",
       "2  1.0 2013-01-02  1.0  3   test  foo\n",
       "3  1.0 2013-01-02  1.0  3  train  foo"
      ]
     },
     "execution_count": 5,
     "metadata": {},
     "output_type": "execute_result"
    }
   ],
   "source": [
    "df2 = pd.DataFrame({'A' : 1.,\n",
    "                    'B' : pd.Timestamp('20130102'),\n",
    "                    'C' : pd.Series(1, index=list(range(4)), dtype='float32'),\n",
    "                    'D' : np.array([3] * 4, dtype='int32'),\n",
    "                    'E' : pd.Categorical([\"test\", \"train\", \"test\", \"train\"]),\n",
    "                    'F' : 'foo'  })\n",
    "df2"
   ]
  },
  {
   "cell_type": "code",
   "execution_count": 6,
   "metadata": {},
   "outputs": [
    {
     "data": {
      "text/plain": [
       "A           float64\n",
       "B    datetime64[ns]\n",
       "C           float32\n",
       "D             int32\n",
       "E          category\n",
       "F            object\n",
       "dtype: object"
      ]
     },
     "execution_count": 6,
     "metadata": {},
     "output_type": "execute_result"
    }
   ],
   "source": [
    "df2.dtypes"
   ]
  },
  {
   "cell_type": "code",
   "execution_count": 7,
   "metadata": {},
   "outputs": [
    {
     "data": {
      "text/plain": [
       "0    1.0\n",
       "1    1.0\n",
       "2    1.0\n",
       "3    1.0\n",
       "Name: A, dtype: float64"
      ]
     },
     "execution_count": 7,
     "metadata": {},
     "output_type": "execute_result"
    }
   ],
   "source": [
    "df2.A"
   ]
  },
  {
   "cell_type": "markdown",
   "metadata": {},
   "source": [
    "---\n",
    "\n",
    "## 2.Show Datas\n",
    "\n",
    "详情请参考 [Basics Section](http://pandas.pydata.org/pandas-docs/stable/basics.html#basics)"
   ]
  },
  {
   "cell_type": "code",
   "execution_count": 8,
   "metadata": {},
   "outputs": [
    {
     "data": {
      "text/html": [
       "<div>\n",
       "<style>\n",
       "    .dataframe thead tr:only-child th {\n",
       "        text-align: right;\n",
       "    }\n",
       "\n",
       "    .dataframe thead th {\n",
       "        text-align: left;\n",
       "    }\n",
       "\n",
       "    .dataframe tbody tr th {\n",
       "        vertical-align: top;\n",
       "    }\n",
       "</style>\n",
       "<table border=\"1\" class=\"dataframe\">\n",
       "  <thead>\n",
       "    <tr style=\"text-align: right;\">\n",
       "      <th></th>\n",
       "      <th>A</th>\n",
       "      <th>B</th>\n",
       "      <th>C</th>\n",
       "      <th>D</th>\n",
       "    </tr>\n",
       "  </thead>\n",
       "  <tbody>\n",
       "    <tr>\n",
       "      <th>2013-01-01</th>\n",
       "      <td>-2.128528</td>\n",
       "      <td>0.730516</td>\n",
       "      <td>0.739890</td>\n",
       "      <td>0.591151</td>\n",
       "    </tr>\n",
       "    <tr>\n",
       "      <th>2013-01-02</th>\n",
       "      <td>0.898003</td>\n",
       "      <td>-0.369102</td>\n",
       "      <td>0.545741</td>\n",
       "      <td>-0.008239</td>\n",
       "    </tr>\n",
       "    <tr>\n",
       "      <th>2013-01-03</th>\n",
       "      <td>-0.182511</td>\n",
       "      <td>0.632319</td>\n",
       "      <td>1.489056</td>\n",
       "      <td>0.171114</td>\n",
       "    </tr>\n",
       "    <tr>\n",
       "      <th>2013-01-04</th>\n",
       "      <td>-0.455393</td>\n",
       "      <td>-0.165455</td>\n",
       "      <td>-1.526940</td>\n",
       "      <td>1.869737</td>\n",
       "    </tr>\n",
       "    <tr>\n",
       "      <th>2013-01-05</th>\n",
       "      <td>-0.845402</td>\n",
       "      <td>-0.500368</td>\n",
       "      <td>-1.019309</td>\n",
       "      <td>-1.618274</td>\n",
       "    </tr>\n",
       "  </tbody>\n",
       "</table>\n",
       "</div>"
      ],
      "text/plain": [
       "                   A         B         C         D\n",
       "2013-01-01 -2.128528  0.730516  0.739890  0.591151\n",
       "2013-01-02  0.898003 -0.369102  0.545741 -0.008239\n",
       "2013-01-03 -0.182511  0.632319  1.489056  0.171114\n",
       "2013-01-04 -0.455393 -0.165455 -1.526940  1.869737\n",
       "2013-01-05 -0.845402 -0.500368 -1.019309 -1.618274"
      ]
     },
     "execution_count": 8,
     "metadata": {},
     "output_type": "execute_result"
    }
   ],
   "source": [
    "df.head()"
   ]
  },
  {
   "cell_type": "code",
   "execution_count": 9,
   "metadata": {},
   "outputs": [
    {
     "data": {
      "text/html": [
       "<div>\n",
       "<style>\n",
       "    .dataframe thead tr:only-child th {\n",
       "        text-align: right;\n",
       "    }\n",
       "\n",
       "    .dataframe thead th {\n",
       "        text-align: left;\n",
       "    }\n",
       "\n",
       "    .dataframe tbody tr th {\n",
       "        vertical-align: top;\n",
       "    }\n",
       "</style>\n",
       "<table border=\"1\" class=\"dataframe\">\n",
       "  <thead>\n",
       "    <tr style=\"text-align: right;\">\n",
       "      <th></th>\n",
       "      <th>A</th>\n",
       "      <th>B</th>\n",
       "      <th>C</th>\n",
       "      <th>D</th>\n",
       "    </tr>\n",
       "  </thead>\n",
       "  <tbody>\n",
       "    <tr>\n",
       "      <th>2013-01-02</th>\n",
       "      <td>0.898003</td>\n",
       "      <td>-0.369102</td>\n",
       "      <td>0.545741</td>\n",
       "      <td>-0.008239</td>\n",
       "    </tr>\n",
       "    <tr>\n",
       "      <th>2013-01-03</th>\n",
       "      <td>-0.182511</td>\n",
       "      <td>0.632319</td>\n",
       "      <td>1.489056</td>\n",
       "      <td>0.171114</td>\n",
       "    </tr>\n",
       "    <tr>\n",
       "      <th>2013-01-04</th>\n",
       "      <td>-0.455393</td>\n",
       "      <td>-0.165455</td>\n",
       "      <td>-1.526940</td>\n",
       "      <td>1.869737</td>\n",
       "    </tr>\n",
       "    <tr>\n",
       "      <th>2013-01-05</th>\n",
       "      <td>-0.845402</td>\n",
       "      <td>-0.500368</td>\n",
       "      <td>-1.019309</td>\n",
       "      <td>-1.618274</td>\n",
       "    </tr>\n",
       "    <tr>\n",
       "      <th>2013-01-06</th>\n",
       "      <td>0.134862</td>\n",
       "      <td>0.475744</td>\n",
       "      <td>-1.585539</td>\n",
       "      <td>1.000327</td>\n",
       "    </tr>\n",
       "  </tbody>\n",
       "</table>\n",
       "</div>"
      ],
      "text/plain": [
       "                   A         B         C         D\n",
       "2013-01-02  0.898003 -0.369102  0.545741 -0.008239\n",
       "2013-01-03 -0.182511  0.632319  1.489056  0.171114\n",
       "2013-01-04 -0.455393 -0.165455 -1.526940  1.869737\n",
       "2013-01-05 -0.845402 -0.500368 -1.019309 -1.618274\n",
       "2013-01-06  0.134862  0.475744 -1.585539  1.000327"
      ]
     },
     "execution_count": 9,
     "metadata": {},
     "output_type": "execute_result"
    }
   ],
   "source": [
    "df.tail()"
   ]
  },
  {
   "cell_type": "code",
   "execution_count": 10,
   "metadata": {},
   "outputs": [
    {
     "data": {
      "text/plain": [
       "DatetimeIndex(['2013-01-01', '2013-01-02', '2013-01-03', '2013-01-04',\n",
       "               '2013-01-05', '2013-01-06'],\n",
       "              dtype='datetime64[ns]', freq='D')"
      ]
     },
     "execution_count": 10,
     "metadata": {},
     "output_type": "execute_result"
    }
   ],
   "source": [
    "df.index"
   ]
  },
  {
   "cell_type": "code",
   "execution_count": 11,
   "metadata": {},
   "outputs": [
    {
     "data": {
      "text/plain": [
       "Index(['A', 'B', 'C', 'D'], dtype='object')"
      ]
     },
     "execution_count": 11,
     "metadata": {},
     "output_type": "execute_result"
    }
   ],
   "source": [
    "df.columns"
   ]
  },
  {
   "cell_type": "code",
   "execution_count": 12,
   "metadata": {},
   "outputs": [
    {
     "data": {
      "text/plain": [
       "array([[-2.12852765,  0.7305164 ,  0.73988971,  0.59115085],\n",
       "       [ 0.89800259, -0.36910222,  0.54574088, -0.00823863],\n",
       "       [-0.18251143,  0.63231928,  1.48905569,  0.17111351],\n",
       "       [-0.4553933 , -0.16545521, -1.52693982,  1.86973669],\n",
       "       [-0.84540204, -0.50036792, -1.01930871, -1.61827395],\n",
       "       [ 0.13486164,  0.47574406, -1.58553933,  1.00032746]])"
      ]
     },
     "execution_count": 12,
     "metadata": {},
     "output_type": "execute_result"
    }
   ],
   "source": [
    "df.values"
   ]
  },
  {
   "cell_type": "code",
   "execution_count": 13,
   "metadata": {},
   "outputs": [
    {
     "data": {
      "text/html": [
       "<div>\n",
       "<style>\n",
       "    .dataframe thead tr:only-child th {\n",
       "        text-align: right;\n",
       "    }\n",
       "\n",
       "    .dataframe thead th {\n",
       "        text-align: left;\n",
       "    }\n",
       "\n",
       "    .dataframe tbody tr th {\n",
       "        vertical-align: top;\n",
       "    }\n",
       "</style>\n",
       "<table border=\"1\" class=\"dataframe\">\n",
       "  <thead>\n",
       "    <tr style=\"text-align: right;\">\n",
       "      <th></th>\n",
       "      <th>A</th>\n",
       "      <th>B</th>\n",
       "      <th>C</th>\n",
       "      <th>D</th>\n",
       "    </tr>\n",
       "  </thead>\n",
       "  <tbody>\n",
       "    <tr>\n",
       "      <th>count</th>\n",
       "      <td>6.000000</td>\n",
       "      <td>6.000000</td>\n",
       "      <td>6.000000</td>\n",
       "      <td>6.000000</td>\n",
       "    </tr>\n",
       "    <tr>\n",
       "      <th>mean</th>\n",
       "      <td>-0.429828</td>\n",
       "      <td>0.133942</td>\n",
       "      <td>-0.226184</td>\n",
       "      <td>0.334303</td>\n",
       "    </tr>\n",
       "    <tr>\n",
       "      <th>std</th>\n",
       "      <td>1.020011</td>\n",
       "      <td>0.541507</td>\n",
       "      <td>1.314540</td>\n",
       "      <td>1.168216</td>\n",
       "    </tr>\n",
       "    <tr>\n",
       "      <th>min</th>\n",
       "      <td>-2.128528</td>\n",
       "      <td>-0.500368</td>\n",
       "      <td>-1.585539</td>\n",
       "      <td>-1.618274</td>\n",
       "    </tr>\n",
       "    <tr>\n",
       "      <th>25%</th>\n",
       "      <td>-0.747900</td>\n",
       "      <td>-0.318190</td>\n",
       "      <td>-1.400032</td>\n",
       "      <td>0.036599</td>\n",
       "    </tr>\n",
       "    <tr>\n",
       "      <th>50%</th>\n",
       "      <td>-0.318952</td>\n",
       "      <td>0.155144</td>\n",
       "      <td>-0.236784</td>\n",
       "      <td>0.381132</td>\n",
       "    </tr>\n",
       "    <tr>\n",
       "      <th>75%</th>\n",
       "      <td>0.055518</td>\n",
       "      <td>0.593175</td>\n",
       "      <td>0.691353</td>\n",
       "      <td>0.898033</td>\n",
       "    </tr>\n",
       "    <tr>\n",
       "      <th>max</th>\n",
       "      <td>0.898003</td>\n",
       "      <td>0.730516</td>\n",
       "      <td>1.489056</td>\n",
       "      <td>1.869737</td>\n",
       "    </tr>\n",
       "  </tbody>\n",
       "</table>\n",
       "</div>"
      ],
      "text/plain": [
       "              A         B         C         D\n",
       "count  6.000000  6.000000  6.000000  6.000000\n",
       "mean  -0.429828  0.133942 -0.226184  0.334303\n",
       "std    1.020011  0.541507  1.314540  1.168216\n",
       "min   -2.128528 -0.500368 -1.585539 -1.618274\n",
       "25%   -0.747900 -0.318190 -1.400032  0.036599\n",
       "50%   -0.318952  0.155144 -0.236784  0.381132\n",
       "75%    0.055518  0.593175  0.691353  0.898033\n",
       "max    0.898003  0.730516  1.489056  1.869737"
      ]
     },
     "execution_count": 13,
     "metadata": {},
     "output_type": "execute_result"
    }
   ],
   "source": [
    "df.describe()"
   ]
  },
  {
   "cell_type": "code",
   "execution_count": 14,
   "metadata": {},
   "outputs": [
    {
     "data": {
      "text/html": [
       "<div>\n",
       "<style>\n",
       "    .dataframe thead tr:only-child th {\n",
       "        text-align: right;\n",
       "    }\n",
       "\n",
       "    .dataframe thead th {\n",
       "        text-align: left;\n",
       "    }\n",
       "\n",
       "    .dataframe tbody tr th {\n",
       "        vertical-align: top;\n",
       "    }\n",
       "</style>\n",
       "<table border=\"1\" class=\"dataframe\">\n",
       "  <thead>\n",
       "    <tr style=\"text-align: right;\">\n",
       "      <th></th>\n",
       "      <th>2013-01-01 00:00:00</th>\n",
       "      <th>2013-01-02 00:00:00</th>\n",
       "      <th>2013-01-03 00:00:00</th>\n",
       "      <th>2013-01-04 00:00:00</th>\n",
       "      <th>2013-01-05 00:00:00</th>\n",
       "      <th>2013-01-06 00:00:00</th>\n",
       "    </tr>\n",
       "  </thead>\n",
       "  <tbody>\n",
       "    <tr>\n",
       "      <th>A</th>\n",
       "      <td>-2.128528</td>\n",
       "      <td>0.898003</td>\n",
       "      <td>-0.182511</td>\n",
       "      <td>-0.455393</td>\n",
       "      <td>-0.845402</td>\n",
       "      <td>0.134862</td>\n",
       "    </tr>\n",
       "    <tr>\n",
       "      <th>B</th>\n",
       "      <td>0.730516</td>\n",
       "      <td>-0.369102</td>\n",
       "      <td>0.632319</td>\n",
       "      <td>-0.165455</td>\n",
       "      <td>-0.500368</td>\n",
       "      <td>0.475744</td>\n",
       "    </tr>\n",
       "    <tr>\n",
       "      <th>C</th>\n",
       "      <td>0.739890</td>\n",
       "      <td>0.545741</td>\n",
       "      <td>1.489056</td>\n",
       "      <td>-1.526940</td>\n",
       "      <td>-1.019309</td>\n",
       "      <td>-1.585539</td>\n",
       "    </tr>\n",
       "    <tr>\n",
       "      <th>D</th>\n",
       "      <td>0.591151</td>\n",
       "      <td>-0.008239</td>\n",
       "      <td>0.171114</td>\n",
       "      <td>1.869737</td>\n",
       "      <td>-1.618274</td>\n",
       "      <td>1.000327</td>\n",
       "    </tr>\n",
       "  </tbody>\n",
       "</table>\n",
       "</div>"
      ],
      "text/plain": [
       "   2013-01-01  2013-01-02  2013-01-03  2013-01-04  2013-01-05  2013-01-06\n",
       "A   -2.128528    0.898003   -0.182511   -0.455393   -0.845402    0.134862\n",
       "B    0.730516   -0.369102    0.632319   -0.165455   -0.500368    0.475744\n",
       "C    0.739890    0.545741    1.489056   -1.526940   -1.019309   -1.585539\n",
       "D    0.591151   -0.008239    0.171114    1.869737   -1.618274    1.000327"
      ]
     },
     "execution_count": 14,
     "metadata": {},
     "output_type": "execute_result"
    }
   ],
   "source": [
    "df.T"
   ]
  },
  {
   "cell_type": "markdown",
   "metadata": {},
   "source": [
    "``按轴进行排序``"
   ]
  },
  {
   "cell_type": "code",
   "execution_count": 15,
   "metadata": {},
   "outputs": [
    {
     "data": {
      "text/html": [
       "<div>\n",
       "<style>\n",
       "    .dataframe thead tr:only-child th {\n",
       "        text-align: right;\n",
       "    }\n",
       "\n",
       "    .dataframe thead th {\n",
       "        text-align: left;\n",
       "    }\n",
       "\n",
       "    .dataframe tbody tr th {\n",
       "        vertical-align: top;\n",
       "    }\n",
       "</style>\n",
       "<table border=\"1\" class=\"dataframe\">\n",
       "  <thead>\n",
       "    <tr style=\"text-align: right;\">\n",
       "      <th></th>\n",
       "      <th>D</th>\n",
       "      <th>C</th>\n",
       "      <th>B</th>\n",
       "      <th>A</th>\n",
       "    </tr>\n",
       "  </thead>\n",
       "  <tbody>\n",
       "    <tr>\n",
       "      <th>2013-01-01</th>\n",
       "      <td>0.591151</td>\n",
       "      <td>0.739890</td>\n",
       "      <td>0.730516</td>\n",
       "      <td>-2.128528</td>\n",
       "    </tr>\n",
       "    <tr>\n",
       "      <th>2013-01-02</th>\n",
       "      <td>-0.008239</td>\n",
       "      <td>0.545741</td>\n",
       "      <td>-0.369102</td>\n",
       "      <td>0.898003</td>\n",
       "    </tr>\n",
       "    <tr>\n",
       "      <th>2013-01-03</th>\n",
       "      <td>0.171114</td>\n",
       "      <td>1.489056</td>\n",
       "      <td>0.632319</td>\n",
       "      <td>-0.182511</td>\n",
       "    </tr>\n",
       "    <tr>\n",
       "      <th>2013-01-04</th>\n",
       "      <td>1.869737</td>\n",
       "      <td>-1.526940</td>\n",
       "      <td>-0.165455</td>\n",
       "      <td>-0.455393</td>\n",
       "    </tr>\n",
       "    <tr>\n",
       "      <th>2013-01-05</th>\n",
       "      <td>-1.618274</td>\n",
       "      <td>-1.019309</td>\n",
       "      <td>-0.500368</td>\n",
       "      <td>-0.845402</td>\n",
       "    </tr>\n",
       "    <tr>\n",
       "      <th>2013-01-06</th>\n",
       "      <td>1.000327</td>\n",
       "      <td>-1.585539</td>\n",
       "      <td>0.475744</td>\n",
       "      <td>0.134862</td>\n",
       "    </tr>\n",
       "  </tbody>\n",
       "</table>\n",
       "</div>"
      ],
      "text/plain": [
       "                   D         C         B         A\n",
       "2013-01-01  0.591151  0.739890  0.730516 -2.128528\n",
       "2013-01-02 -0.008239  0.545741 -0.369102  0.898003\n",
       "2013-01-03  0.171114  1.489056  0.632319 -0.182511\n",
       "2013-01-04  1.869737 -1.526940 -0.165455 -0.455393\n",
       "2013-01-05 -1.618274 -1.019309 -0.500368 -0.845402\n",
       "2013-01-06  1.000327 -1.585539  0.475744  0.134862"
      ]
     },
     "execution_count": 15,
     "metadata": {},
     "output_type": "execute_result"
    }
   ],
   "source": [
    "df.sort_index(axis=1, ascending=False)"
   ]
  },
  {
   "cell_type": "markdown",
   "metadata": {},
   "source": [
    "``按值进行排序``"
   ]
  },
  {
   "cell_type": "code",
   "execution_count": 16,
   "metadata": {},
   "outputs": [
    {
     "data": {
      "text/html": [
       "<div>\n",
       "<style>\n",
       "    .dataframe thead tr:only-child th {\n",
       "        text-align: right;\n",
       "    }\n",
       "\n",
       "    .dataframe thead th {\n",
       "        text-align: left;\n",
       "    }\n",
       "\n",
       "    .dataframe tbody tr th {\n",
       "        vertical-align: top;\n",
       "    }\n",
       "</style>\n",
       "<table border=\"1\" class=\"dataframe\">\n",
       "  <thead>\n",
       "    <tr style=\"text-align: right;\">\n",
       "      <th></th>\n",
       "      <th>A</th>\n",
       "      <th>B</th>\n",
       "      <th>C</th>\n",
       "      <th>D</th>\n",
       "    </tr>\n",
       "  </thead>\n",
       "  <tbody>\n",
       "    <tr>\n",
       "      <th>2013-01-05</th>\n",
       "      <td>-0.845402</td>\n",
       "      <td>-0.500368</td>\n",
       "      <td>-1.019309</td>\n",
       "      <td>-1.618274</td>\n",
       "    </tr>\n",
       "    <tr>\n",
       "      <th>2013-01-02</th>\n",
       "      <td>0.898003</td>\n",
       "      <td>-0.369102</td>\n",
       "      <td>0.545741</td>\n",
       "      <td>-0.008239</td>\n",
       "    </tr>\n",
       "    <tr>\n",
       "      <th>2013-01-04</th>\n",
       "      <td>-0.455393</td>\n",
       "      <td>-0.165455</td>\n",
       "      <td>-1.526940</td>\n",
       "      <td>1.869737</td>\n",
       "    </tr>\n",
       "    <tr>\n",
       "      <th>2013-01-06</th>\n",
       "      <td>0.134862</td>\n",
       "      <td>0.475744</td>\n",
       "      <td>-1.585539</td>\n",
       "      <td>1.000327</td>\n",
       "    </tr>\n",
       "    <tr>\n",
       "      <th>2013-01-03</th>\n",
       "      <td>-0.182511</td>\n",
       "      <td>0.632319</td>\n",
       "      <td>1.489056</td>\n",
       "      <td>0.171114</td>\n",
       "    </tr>\n",
       "    <tr>\n",
       "      <th>2013-01-01</th>\n",
       "      <td>-2.128528</td>\n",
       "      <td>0.730516</td>\n",
       "      <td>0.739890</td>\n",
       "      <td>0.591151</td>\n",
       "    </tr>\n",
       "  </tbody>\n",
       "</table>\n",
       "</div>"
      ],
      "text/plain": [
       "                   A         B         C         D\n",
       "2013-01-05 -0.845402 -0.500368 -1.019309 -1.618274\n",
       "2013-01-02  0.898003 -0.369102  0.545741 -0.008239\n",
       "2013-01-04 -0.455393 -0.165455 -1.526940  1.869737\n",
       "2013-01-06  0.134862  0.475744 -1.585539  1.000327\n",
       "2013-01-03 -0.182511  0.632319  1.489056  0.171114\n",
       "2013-01-01 -2.128528  0.730516  0.739890  0.591151"
      ]
     },
     "execution_count": 16,
     "metadata": {},
     "output_type": "execute_result"
    }
   ],
   "source": [
    "df.sort_values('B')"
   ]
  },
  {
   "cell_type": "markdown",
   "metadata": {},
   "source": [
    "---\n",
    "\n",
    "## 3.Select\n",
    "\n",
    "虽然标准的Python/Numpy的选择和设置表达式都能够直接派上用场，但是作为工程使用的代码，我们推荐使用经过优化的pandas数据访问方式： .at, .iat, .loc, .iloc 和 .ix\n",
    "\n",
    "详情请参阅 [Indexing and Selecing Data](http://pandas.pydata.org/pandas-docs/stable/indexing.html#indexing)、[MultiIndex](http://pandas.pydata.org/pandas-docs/stable/advanced.html#advanced)、[Advanced Indexing](http://pandas.pydata.org/pandas-docs/stable/advanced.html#advanced)"
   ]
  },
  {
   "cell_type": "markdown",
   "metadata": {},
   "source": [
    "选择单独列，返回一个Series"
   ]
  },
  {
   "cell_type": "code",
   "execution_count": 17,
   "metadata": {},
   "outputs": [
    {
     "data": {
      "text/plain": [
       "2013-01-01   -2.128528\n",
       "2013-01-02    0.898003\n",
       "2013-01-03   -0.182511\n",
       "2013-01-04   -0.455393\n",
       "2013-01-05   -0.845402\n",
       "2013-01-06    0.134862\n",
       "Freq: D, Name: A, dtype: float64"
      ]
     },
     "execution_count": 17,
     "metadata": {},
     "output_type": "execute_result"
    }
   ],
   "source": [
    "df['A']"
   ]
  },
  {
   "cell_type": "markdown",
   "metadata": {},
   "source": [
    "通过[]进行选择，这将会对行进行切片"
   ]
  },
  {
   "cell_type": "code",
   "execution_count": 18,
   "metadata": {},
   "outputs": [
    {
     "data": {
      "text/html": [
       "<div>\n",
       "<style>\n",
       "    .dataframe thead tr:only-child th {\n",
       "        text-align: right;\n",
       "    }\n",
       "\n",
       "    .dataframe thead th {\n",
       "        text-align: left;\n",
       "    }\n",
       "\n",
       "    .dataframe tbody tr th {\n",
       "        vertical-align: top;\n",
       "    }\n",
       "</style>\n",
       "<table border=\"1\" class=\"dataframe\">\n",
       "  <thead>\n",
       "    <tr style=\"text-align: right;\">\n",
       "      <th></th>\n",
       "      <th>A</th>\n",
       "      <th>B</th>\n",
       "      <th>C</th>\n",
       "      <th>D</th>\n",
       "    </tr>\n",
       "  </thead>\n",
       "  <tbody>\n",
       "    <tr>\n",
       "      <th>2013-01-01</th>\n",
       "      <td>-2.128528</td>\n",
       "      <td>0.730516</td>\n",
       "      <td>0.739890</td>\n",
       "      <td>0.591151</td>\n",
       "    </tr>\n",
       "    <tr>\n",
       "      <th>2013-01-02</th>\n",
       "      <td>0.898003</td>\n",
       "      <td>-0.369102</td>\n",
       "      <td>0.545741</td>\n",
       "      <td>-0.008239</td>\n",
       "    </tr>\n",
       "    <tr>\n",
       "      <th>2013-01-03</th>\n",
       "      <td>-0.182511</td>\n",
       "      <td>0.632319</td>\n",
       "      <td>1.489056</td>\n",
       "      <td>0.171114</td>\n",
       "    </tr>\n",
       "  </tbody>\n",
       "</table>\n",
       "</div>"
      ],
      "text/plain": [
       "                   A         B         C         D\n",
       "2013-01-01 -2.128528  0.730516  0.739890  0.591151\n",
       "2013-01-02  0.898003 -0.369102  0.545741 -0.008239\n",
       "2013-01-03 -0.182511  0.632319  1.489056  0.171114"
      ]
     },
     "execution_count": 18,
     "metadata": {},
     "output_type": "execute_result"
    }
   ],
   "source": [
    "df[0:3]"
   ]
  },
  {
   "cell_type": "markdown",
   "metadata": {},
   "source": [
    "### 通过标签选择"
   ]
  },
  {
   "cell_type": "markdown",
   "metadata": {},
   "source": [
    "使用标签来获取一个交叉的区域"
   ]
  },
  {
   "cell_type": "code",
   "execution_count": 19,
   "metadata": {},
   "outputs": [
    {
     "data": {
      "text/plain": [
       "A   -2.128528\n",
       "B    0.730516\n",
       "C    0.739890\n",
       "D    0.591151\n",
       "Name: 2013-01-01 00:00:00, dtype: float64"
      ]
     },
     "execution_count": 19,
     "metadata": {},
     "output_type": "execute_result"
    }
   ],
   "source": [
    "df.loc[dates[0]]"
   ]
  },
  {
   "cell_type": "markdown",
   "metadata": {},
   "source": [
    "通过标签来在多个轴上进行选择"
   ]
  },
  {
   "cell_type": "code",
   "execution_count": 20,
   "metadata": {},
   "outputs": [
    {
     "data": {
      "text/html": [
       "<div>\n",
       "<style>\n",
       "    .dataframe thead tr:only-child th {\n",
       "        text-align: right;\n",
       "    }\n",
       "\n",
       "    .dataframe thead th {\n",
       "        text-align: left;\n",
       "    }\n",
       "\n",
       "    .dataframe tbody tr th {\n",
       "        vertical-align: top;\n",
       "    }\n",
       "</style>\n",
       "<table border=\"1\" class=\"dataframe\">\n",
       "  <thead>\n",
       "    <tr style=\"text-align: right;\">\n",
       "      <th></th>\n",
       "      <th>A</th>\n",
       "      <th>B</th>\n",
       "    </tr>\n",
       "  </thead>\n",
       "  <tbody>\n",
       "    <tr>\n",
       "      <th>2013-01-01</th>\n",
       "      <td>-2.128528</td>\n",
       "      <td>0.730516</td>\n",
       "    </tr>\n",
       "    <tr>\n",
       "      <th>2013-01-02</th>\n",
       "      <td>0.898003</td>\n",
       "      <td>-0.369102</td>\n",
       "    </tr>\n",
       "    <tr>\n",
       "      <th>2013-01-03</th>\n",
       "      <td>-0.182511</td>\n",
       "      <td>0.632319</td>\n",
       "    </tr>\n",
       "    <tr>\n",
       "      <th>2013-01-04</th>\n",
       "      <td>-0.455393</td>\n",
       "      <td>-0.165455</td>\n",
       "    </tr>\n",
       "    <tr>\n",
       "      <th>2013-01-05</th>\n",
       "      <td>-0.845402</td>\n",
       "      <td>-0.500368</td>\n",
       "    </tr>\n",
       "    <tr>\n",
       "      <th>2013-01-06</th>\n",
       "      <td>0.134862</td>\n",
       "      <td>0.475744</td>\n",
       "    </tr>\n",
       "  </tbody>\n",
       "</table>\n",
       "</div>"
      ],
      "text/plain": [
       "                   A         B\n",
       "2013-01-01 -2.128528  0.730516\n",
       "2013-01-02  0.898003 -0.369102\n",
       "2013-01-03 -0.182511  0.632319\n",
       "2013-01-04 -0.455393 -0.165455\n",
       "2013-01-05 -0.845402 -0.500368\n",
       "2013-01-06  0.134862  0.475744"
      ]
     },
     "execution_count": 20,
     "metadata": {},
     "output_type": "execute_result"
    }
   ],
   "source": [
    "df.loc[:, ['A', 'B']]"
   ]
  },
  {
   "cell_type": "markdown",
   "metadata": {},
   "source": [
    "标签切片"
   ]
  },
  {
   "cell_type": "code",
   "execution_count": 21,
   "metadata": {},
   "outputs": [
    {
     "data": {
      "text/html": [
       "<div>\n",
       "<style>\n",
       "    .dataframe thead tr:only-child th {\n",
       "        text-align: right;\n",
       "    }\n",
       "\n",
       "    .dataframe thead th {\n",
       "        text-align: left;\n",
       "    }\n",
       "\n",
       "    .dataframe tbody tr th {\n",
       "        vertical-align: top;\n",
       "    }\n",
       "</style>\n",
       "<table border=\"1\" class=\"dataframe\">\n",
       "  <thead>\n",
       "    <tr style=\"text-align: right;\">\n",
       "      <th></th>\n",
       "      <th>A</th>\n",
       "      <th>B</th>\n",
       "    </tr>\n",
       "  </thead>\n",
       "  <tbody>\n",
       "    <tr>\n",
       "      <th>2013-01-02</th>\n",
       "      <td>0.898003</td>\n",
       "      <td>-0.369102</td>\n",
       "    </tr>\n",
       "    <tr>\n",
       "      <th>2013-01-03</th>\n",
       "      <td>-0.182511</td>\n",
       "      <td>0.632319</td>\n",
       "    </tr>\n",
       "    <tr>\n",
       "      <th>2013-01-04</th>\n",
       "      <td>-0.455393</td>\n",
       "      <td>-0.165455</td>\n",
       "    </tr>\n",
       "  </tbody>\n",
       "</table>\n",
       "</div>"
      ],
      "text/plain": [
       "                   A         B\n",
       "2013-01-02  0.898003 -0.369102\n",
       "2013-01-03 -0.182511  0.632319\n",
       "2013-01-04 -0.455393 -0.165455"
      ]
     },
     "execution_count": 21,
     "metadata": {},
     "output_type": "execute_result"
    }
   ],
   "source": [
    "df.loc['20130102' : '20130104', ['A', 'B']]"
   ]
  },
  {
   "cell_type": "markdown",
   "metadata": {},
   "source": [
    "对于返回的对象进行维度缩减"
   ]
  },
  {
   "cell_type": "code",
   "execution_count": 22,
   "metadata": {},
   "outputs": [
    {
     "data": {
      "text/plain": [
       "A    0.898003\n",
       "B   -0.369102\n",
       "Name: 2013-01-02 00:00:00, dtype: float64"
      ]
     },
     "execution_count": 22,
     "metadata": {},
     "output_type": "execute_result"
    }
   ],
   "source": [
    "df.loc['20130102', ['A', 'B']]"
   ]
  },
  {
   "cell_type": "markdown",
   "metadata": {},
   "source": [
    "获取一个标量"
   ]
  },
  {
   "cell_type": "code",
   "execution_count": 23,
   "metadata": {},
   "outputs": [
    {
     "data": {
      "text/plain": [
       "-2.1285276459399576"
      ]
     },
     "execution_count": 23,
     "metadata": {},
     "output_type": "execute_result"
    }
   ],
   "source": [
    "df.loc[dates[0], 'A']"
   ]
  },
  {
   "cell_type": "markdown",
   "metadata": {},
   "source": [
    "快速访问一个标量（与上一个方法等价）"
   ]
  },
  {
   "cell_type": "code",
   "execution_count": 24,
   "metadata": {},
   "outputs": [
    {
     "data": {
      "text/plain": [
       "-2.1285276459399576"
      ]
     },
     "execution_count": 24,
     "metadata": {},
     "output_type": "execute_result"
    }
   ],
   "source": [
    "df.at[dates[0], 'A']"
   ]
  },
  {
   "cell_type": "markdown",
   "metadata": {},
   "source": [
    "### 通过位置选择"
   ]
  },
  {
   "cell_type": "markdown",
   "metadata": {},
   "source": [
    "通过传递数值进行位置选择"
   ]
  },
  {
   "cell_type": "code",
   "execution_count": 25,
   "metadata": {},
   "outputs": [
    {
     "data": {
      "text/plain": [
       "A   -0.455393\n",
       "B   -0.165455\n",
       "C   -1.526940\n",
       "D    1.869737\n",
       "Name: 2013-01-04 00:00:00, dtype: float64"
      ]
     },
     "execution_count": 25,
     "metadata": {},
     "output_type": "execute_result"
    }
   ],
   "source": [
    "df.iloc[3]"
   ]
  },
  {
   "cell_type": "markdown",
   "metadata": {},
   "source": [
    "通过数值进行切片，与numpy/python中的情况类似"
   ]
  },
  {
   "cell_type": "code",
   "execution_count": 26,
   "metadata": {},
   "outputs": [
    {
     "data": {
      "text/html": [
       "<div>\n",
       "<style>\n",
       "    .dataframe thead tr:only-child th {\n",
       "        text-align: right;\n",
       "    }\n",
       "\n",
       "    .dataframe thead th {\n",
       "        text-align: left;\n",
       "    }\n",
       "\n",
       "    .dataframe tbody tr th {\n",
       "        vertical-align: top;\n",
       "    }\n",
       "</style>\n",
       "<table border=\"1\" class=\"dataframe\">\n",
       "  <thead>\n",
       "    <tr style=\"text-align: right;\">\n",
       "      <th></th>\n",
       "      <th>A</th>\n",
       "      <th>B</th>\n",
       "    </tr>\n",
       "  </thead>\n",
       "  <tbody>\n",
       "    <tr>\n",
       "      <th>2013-01-04</th>\n",
       "      <td>-0.455393</td>\n",
       "      <td>-0.165455</td>\n",
       "    </tr>\n",
       "    <tr>\n",
       "      <th>2013-01-05</th>\n",
       "      <td>-0.845402</td>\n",
       "      <td>-0.500368</td>\n",
       "    </tr>\n",
       "  </tbody>\n",
       "</table>\n",
       "</div>"
      ],
      "text/plain": [
       "                   A         B\n",
       "2013-01-04 -0.455393 -0.165455\n",
       "2013-01-05 -0.845402 -0.500368"
      ]
     },
     "execution_count": 26,
     "metadata": {},
     "output_type": "execute_result"
    }
   ],
   "source": [
    "df.iloc[3:5, 0:2]"
   ]
  },
  {
   "cell_type": "markdown",
   "metadata": {},
   "source": [
    "通过指定一个位置的列表，与numpy/python中的情况类似"
   ]
  },
  {
   "cell_type": "code",
   "execution_count": 27,
   "metadata": {},
   "outputs": [
    {
     "data": {
      "text/html": [
       "<div>\n",
       "<style>\n",
       "    .dataframe thead tr:only-child th {\n",
       "        text-align: right;\n",
       "    }\n",
       "\n",
       "    .dataframe thead th {\n",
       "        text-align: left;\n",
       "    }\n",
       "\n",
       "    .dataframe tbody tr th {\n",
       "        vertical-align: top;\n",
       "    }\n",
       "</style>\n",
       "<table border=\"1\" class=\"dataframe\">\n",
       "  <thead>\n",
       "    <tr style=\"text-align: right;\">\n",
       "      <th></th>\n",
       "      <th>A</th>\n",
       "      <th>C</th>\n",
       "    </tr>\n",
       "  </thead>\n",
       "  <tbody>\n",
       "    <tr>\n",
       "      <th>2013-01-02</th>\n",
       "      <td>0.898003</td>\n",
       "      <td>0.545741</td>\n",
       "    </tr>\n",
       "    <tr>\n",
       "      <th>2013-01-03</th>\n",
       "      <td>-0.182511</td>\n",
       "      <td>1.489056</td>\n",
       "    </tr>\n",
       "    <tr>\n",
       "      <th>2013-01-05</th>\n",
       "      <td>-0.845402</td>\n",
       "      <td>-1.019309</td>\n",
       "    </tr>\n",
       "  </tbody>\n",
       "</table>\n",
       "</div>"
      ],
      "text/plain": [
       "                   A         C\n",
       "2013-01-02  0.898003  0.545741\n",
       "2013-01-03 -0.182511  1.489056\n",
       "2013-01-05 -0.845402 -1.019309"
      ]
     },
     "execution_count": 27,
     "metadata": {},
     "output_type": "execute_result"
    }
   ],
   "source": [
    "df.iloc[[1, 2, 4], [0, 2]]"
   ]
  },
  {
   "cell_type": "markdown",
   "metadata": {},
   "source": [
    "对行进行切片"
   ]
  },
  {
   "cell_type": "code",
   "execution_count": 28,
   "metadata": {},
   "outputs": [
    {
     "data": {
      "text/html": [
       "<div>\n",
       "<style>\n",
       "    .dataframe thead tr:only-child th {\n",
       "        text-align: right;\n",
       "    }\n",
       "\n",
       "    .dataframe thead th {\n",
       "        text-align: left;\n",
       "    }\n",
       "\n",
       "    .dataframe tbody tr th {\n",
       "        vertical-align: top;\n",
       "    }\n",
       "</style>\n",
       "<table border=\"1\" class=\"dataframe\">\n",
       "  <thead>\n",
       "    <tr style=\"text-align: right;\">\n",
       "      <th></th>\n",
       "      <th>A</th>\n",
       "      <th>B</th>\n",
       "      <th>C</th>\n",
       "      <th>D</th>\n",
       "    </tr>\n",
       "  </thead>\n",
       "  <tbody>\n",
       "    <tr>\n",
       "      <th>2013-01-02</th>\n",
       "      <td>0.898003</td>\n",
       "      <td>-0.369102</td>\n",
       "      <td>0.545741</td>\n",
       "      <td>-0.008239</td>\n",
       "    </tr>\n",
       "    <tr>\n",
       "      <th>2013-01-03</th>\n",
       "      <td>-0.182511</td>\n",
       "      <td>0.632319</td>\n",
       "      <td>1.489056</td>\n",
       "      <td>0.171114</td>\n",
       "    </tr>\n",
       "  </tbody>\n",
       "</table>\n",
       "</div>"
      ],
      "text/plain": [
       "                   A         B         C         D\n",
       "2013-01-02  0.898003 -0.369102  0.545741 -0.008239\n",
       "2013-01-03 -0.182511  0.632319  1.489056  0.171114"
      ]
     },
     "execution_count": 28,
     "metadata": {},
     "output_type": "execute_result"
    }
   ],
   "source": [
    "df.iloc[1:3, :]"
   ]
  },
  {
   "cell_type": "markdown",
   "metadata": {},
   "source": [
    "对列进行切片"
   ]
  },
  {
   "cell_type": "code",
   "execution_count": 29,
   "metadata": {},
   "outputs": [
    {
     "data": {
      "text/html": [
       "<div>\n",
       "<style>\n",
       "    .dataframe thead tr:only-child th {\n",
       "        text-align: right;\n",
       "    }\n",
       "\n",
       "    .dataframe thead th {\n",
       "        text-align: left;\n",
       "    }\n",
       "\n",
       "    .dataframe tbody tr th {\n",
       "        vertical-align: top;\n",
       "    }\n",
       "</style>\n",
       "<table border=\"1\" class=\"dataframe\">\n",
       "  <thead>\n",
       "    <tr style=\"text-align: right;\">\n",
       "      <th></th>\n",
       "      <th>B</th>\n",
       "      <th>C</th>\n",
       "    </tr>\n",
       "  </thead>\n",
       "  <tbody>\n",
       "    <tr>\n",
       "      <th>2013-01-01</th>\n",
       "      <td>0.730516</td>\n",
       "      <td>0.739890</td>\n",
       "    </tr>\n",
       "    <tr>\n",
       "      <th>2013-01-02</th>\n",
       "      <td>-0.369102</td>\n",
       "      <td>0.545741</td>\n",
       "    </tr>\n",
       "    <tr>\n",
       "      <th>2013-01-03</th>\n",
       "      <td>0.632319</td>\n",
       "      <td>1.489056</td>\n",
       "    </tr>\n",
       "    <tr>\n",
       "      <th>2013-01-04</th>\n",
       "      <td>-0.165455</td>\n",
       "      <td>-1.526940</td>\n",
       "    </tr>\n",
       "    <tr>\n",
       "      <th>2013-01-05</th>\n",
       "      <td>-0.500368</td>\n",
       "      <td>-1.019309</td>\n",
       "    </tr>\n",
       "    <tr>\n",
       "      <th>2013-01-06</th>\n",
       "      <td>0.475744</td>\n",
       "      <td>-1.585539</td>\n",
       "    </tr>\n",
       "  </tbody>\n",
       "</table>\n",
       "</div>"
      ],
      "text/plain": [
       "                   B         C\n",
       "2013-01-01  0.730516  0.739890\n",
       "2013-01-02 -0.369102  0.545741\n",
       "2013-01-03  0.632319  1.489056\n",
       "2013-01-04 -0.165455 -1.526940\n",
       "2013-01-05 -0.500368 -1.019309\n",
       "2013-01-06  0.475744 -1.585539"
      ]
     },
     "execution_count": 29,
     "metadata": {},
     "output_type": "execute_result"
    }
   ],
   "source": [
    "df.iloc[:, 1:3]"
   ]
  },
  {
   "cell_type": "markdown",
   "metadata": {},
   "source": [
    "获取特定的值"
   ]
  },
  {
   "cell_type": "code",
   "execution_count": 30,
   "metadata": {},
   "outputs": [
    {
     "data": {
      "text/plain": [
       "-0.36910221698690143"
      ]
     },
     "execution_count": 30,
     "metadata": {},
     "output_type": "execute_result"
    }
   ],
   "source": [
    "df.iloc[1, 1]"
   ]
  },
  {
   "cell_type": "code",
   "execution_count": 31,
   "metadata": {},
   "outputs": [
    {
     "data": {
      "text/plain": [
       "-0.36910221698690143"
      ]
     },
     "execution_count": 31,
     "metadata": {},
     "output_type": "execute_result"
    }
   ],
   "source": [
    "df.iat[1, 1]"
   ]
  },
  {
   "cell_type": "markdown",
   "metadata": {},
   "source": [
    "### 布尔索引"
   ]
  },
  {
   "cell_type": "markdown",
   "metadata": {},
   "source": [
    "用一个单独列的值来选择数据："
   ]
  },
  {
   "cell_type": "code",
   "execution_count": 32,
   "metadata": {},
   "outputs": [
    {
     "data": {
      "text/html": [
       "<div>\n",
       "<style>\n",
       "    .dataframe thead tr:only-child th {\n",
       "        text-align: right;\n",
       "    }\n",
       "\n",
       "    .dataframe thead th {\n",
       "        text-align: left;\n",
       "    }\n",
       "\n",
       "    .dataframe tbody tr th {\n",
       "        vertical-align: top;\n",
       "    }\n",
       "</style>\n",
       "<table border=\"1\" class=\"dataframe\">\n",
       "  <thead>\n",
       "    <tr style=\"text-align: right;\">\n",
       "      <th></th>\n",
       "      <th>A</th>\n",
       "      <th>B</th>\n",
       "      <th>C</th>\n",
       "      <th>D</th>\n",
       "    </tr>\n",
       "  </thead>\n",
       "  <tbody>\n",
       "    <tr>\n",
       "      <th>2013-01-02</th>\n",
       "      <td>0.898003</td>\n",
       "      <td>-0.369102</td>\n",
       "      <td>0.545741</td>\n",
       "      <td>-0.008239</td>\n",
       "    </tr>\n",
       "    <tr>\n",
       "      <th>2013-01-06</th>\n",
       "      <td>0.134862</td>\n",
       "      <td>0.475744</td>\n",
       "      <td>-1.585539</td>\n",
       "      <td>1.000327</td>\n",
       "    </tr>\n",
       "  </tbody>\n",
       "</table>\n",
       "</div>"
      ],
      "text/plain": [
       "                   A         B         C         D\n",
       "2013-01-02  0.898003 -0.369102  0.545741 -0.008239\n",
       "2013-01-06  0.134862  0.475744 -1.585539  1.000327"
      ]
     },
     "execution_count": 32,
     "metadata": {},
     "output_type": "execute_result"
    }
   ],
   "source": [
    "df[df.A > 0]"
   ]
  },
  {
   "cell_type": "markdown",
   "metadata": {},
   "source": [
    "使用where操作来选择数据："
   ]
  },
  {
   "cell_type": "code",
   "execution_count": 33,
   "metadata": {},
   "outputs": [
    {
     "data": {
      "text/html": [
       "<div>\n",
       "<style>\n",
       "    .dataframe thead tr:only-child th {\n",
       "        text-align: right;\n",
       "    }\n",
       "\n",
       "    .dataframe thead th {\n",
       "        text-align: left;\n",
       "    }\n",
       "\n",
       "    .dataframe tbody tr th {\n",
       "        vertical-align: top;\n",
       "    }\n",
       "</style>\n",
       "<table border=\"1\" class=\"dataframe\">\n",
       "  <thead>\n",
       "    <tr style=\"text-align: right;\">\n",
       "      <th></th>\n",
       "      <th>A</th>\n",
       "      <th>B</th>\n",
       "      <th>C</th>\n",
       "      <th>D</th>\n",
       "    </tr>\n",
       "  </thead>\n",
       "  <tbody>\n",
       "    <tr>\n",
       "      <th>2013-01-01</th>\n",
       "      <td>NaN</td>\n",
       "      <td>0.730516</td>\n",
       "      <td>0.739890</td>\n",
       "      <td>0.591151</td>\n",
       "    </tr>\n",
       "    <tr>\n",
       "      <th>2013-01-02</th>\n",
       "      <td>0.898003</td>\n",
       "      <td>NaN</td>\n",
       "      <td>0.545741</td>\n",
       "      <td>NaN</td>\n",
       "    </tr>\n",
       "    <tr>\n",
       "      <th>2013-01-03</th>\n",
       "      <td>NaN</td>\n",
       "      <td>0.632319</td>\n",
       "      <td>1.489056</td>\n",
       "      <td>0.171114</td>\n",
       "    </tr>\n",
       "    <tr>\n",
       "      <th>2013-01-04</th>\n",
       "      <td>NaN</td>\n",
       "      <td>NaN</td>\n",
       "      <td>NaN</td>\n",
       "      <td>1.869737</td>\n",
       "    </tr>\n",
       "    <tr>\n",
       "      <th>2013-01-05</th>\n",
       "      <td>NaN</td>\n",
       "      <td>NaN</td>\n",
       "      <td>NaN</td>\n",
       "      <td>NaN</td>\n",
       "    </tr>\n",
       "    <tr>\n",
       "      <th>2013-01-06</th>\n",
       "      <td>0.134862</td>\n",
       "      <td>0.475744</td>\n",
       "      <td>NaN</td>\n",
       "      <td>1.000327</td>\n",
       "    </tr>\n",
       "  </tbody>\n",
       "</table>\n",
       "</div>"
      ],
      "text/plain": [
       "                   A         B         C         D\n",
       "2013-01-01       NaN  0.730516  0.739890  0.591151\n",
       "2013-01-02  0.898003       NaN  0.545741       NaN\n",
       "2013-01-03       NaN  0.632319  1.489056  0.171114\n",
       "2013-01-04       NaN       NaN       NaN  1.869737\n",
       "2013-01-05       NaN       NaN       NaN       NaN\n",
       "2013-01-06  0.134862  0.475744       NaN  1.000327"
      ]
     },
     "execution_count": 33,
     "metadata": {},
     "output_type": "execute_result"
    }
   ],
   "source": [
    "df[df > 0]"
   ]
  },
  {
   "cell_type": "markdown",
   "metadata": {},
   "source": [
    "使用isin()方法来过滤："
   ]
  },
  {
   "cell_type": "code",
   "execution_count": 34,
   "metadata": {},
   "outputs": [
    {
     "data": {
      "text/html": [
       "<div>\n",
       "<style>\n",
       "    .dataframe thead tr:only-child th {\n",
       "        text-align: right;\n",
       "    }\n",
       "\n",
       "    .dataframe thead th {\n",
       "        text-align: left;\n",
       "    }\n",
       "\n",
       "    .dataframe tbody tr th {\n",
       "        vertical-align: top;\n",
       "    }\n",
       "</style>\n",
       "<table border=\"1\" class=\"dataframe\">\n",
       "  <thead>\n",
       "    <tr style=\"text-align: right;\">\n",
       "      <th></th>\n",
       "      <th>A</th>\n",
       "      <th>B</th>\n",
       "      <th>C</th>\n",
       "      <th>D</th>\n",
       "      <th>E</th>\n",
       "    </tr>\n",
       "  </thead>\n",
       "  <tbody>\n",
       "    <tr>\n",
       "      <th>2013-01-01</th>\n",
       "      <td>-2.128528</td>\n",
       "      <td>0.730516</td>\n",
       "      <td>0.739890</td>\n",
       "      <td>0.591151</td>\n",
       "      <td>one</td>\n",
       "    </tr>\n",
       "    <tr>\n",
       "      <th>2013-01-02</th>\n",
       "      <td>0.898003</td>\n",
       "      <td>-0.369102</td>\n",
       "      <td>0.545741</td>\n",
       "      <td>-0.008239</td>\n",
       "      <td>one</td>\n",
       "    </tr>\n",
       "    <tr>\n",
       "      <th>2013-01-03</th>\n",
       "      <td>-0.182511</td>\n",
       "      <td>0.632319</td>\n",
       "      <td>1.489056</td>\n",
       "      <td>0.171114</td>\n",
       "      <td>two</td>\n",
       "    </tr>\n",
       "    <tr>\n",
       "      <th>2013-01-04</th>\n",
       "      <td>-0.455393</td>\n",
       "      <td>-0.165455</td>\n",
       "      <td>-1.526940</td>\n",
       "      <td>1.869737</td>\n",
       "      <td>three</td>\n",
       "    </tr>\n",
       "    <tr>\n",
       "      <th>2013-01-05</th>\n",
       "      <td>-0.845402</td>\n",
       "      <td>-0.500368</td>\n",
       "      <td>-1.019309</td>\n",
       "      <td>-1.618274</td>\n",
       "      <td>four</td>\n",
       "    </tr>\n",
       "    <tr>\n",
       "      <th>2013-01-06</th>\n",
       "      <td>0.134862</td>\n",
       "      <td>0.475744</td>\n",
       "      <td>-1.585539</td>\n",
       "      <td>1.000327</td>\n",
       "      <td>three</td>\n",
       "    </tr>\n",
       "  </tbody>\n",
       "</table>\n",
       "</div>"
      ],
      "text/plain": [
       "                   A         B         C         D      E\n",
       "2013-01-01 -2.128528  0.730516  0.739890  0.591151    one\n",
       "2013-01-02  0.898003 -0.369102  0.545741 -0.008239    one\n",
       "2013-01-03 -0.182511  0.632319  1.489056  0.171114    two\n",
       "2013-01-04 -0.455393 -0.165455 -1.526940  1.869737  three\n",
       "2013-01-05 -0.845402 -0.500368 -1.019309 -1.618274   four\n",
       "2013-01-06  0.134862  0.475744 -1.585539  1.000327  three"
      ]
     },
     "execution_count": 34,
     "metadata": {},
     "output_type": "execute_result"
    }
   ],
   "source": [
    "df2 = df.copy()\n",
    "df2['E'] = ['one', 'one', 'two', 'three', 'four', 'three']\n",
    "df2"
   ]
  },
  {
   "cell_type": "code",
   "execution_count": 35,
   "metadata": {},
   "outputs": [
    {
     "data": {
      "text/html": [
       "<div>\n",
       "<style>\n",
       "    .dataframe thead tr:only-child th {\n",
       "        text-align: right;\n",
       "    }\n",
       "\n",
       "    .dataframe thead th {\n",
       "        text-align: left;\n",
       "    }\n",
       "\n",
       "    .dataframe tbody tr th {\n",
       "        vertical-align: top;\n",
       "    }\n",
       "</style>\n",
       "<table border=\"1\" class=\"dataframe\">\n",
       "  <thead>\n",
       "    <tr style=\"text-align: right;\">\n",
       "      <th></th>\n",
       "      <th>A</th>\n",
       "      <th>B</th>\n",
       "      <th>C</th>\n",
       "      <th>D</th>\n",
       "      <th>E</th>\n",
       "    </tr>\n",
       "  </thead>\n",
       "  <tbody>\n",
       "    <tr>\n",
       "      <th>2013-01-03</th>\n",
       "      <td>-0.182511</td>\n",
       "      <td>0.632319</td>\n",
       "      <td>1.489056</td>\n",
       "      <td>0.171114</td>\n",
       "      <td>two</td>\n",
       "    </tr>\n",
       "    <tr>\n",
       "      <th>2013-01-05</th>\n",
       "      <td>-0.845402</td>\n",
       "      <td>-0.500368</td>\n",
       "      <td>-1.019309</td>\n",
       "      <td>-1.618274</td>\n",
       "      <td>four</td>\n",
       "    </tr>\n",
       "  </tbody>\n",
       "</table>\n",
       "</div>"
      ],
      "text/plain": [
       "                   A         B         C         D     E\n",
       "2013-01-03 -0.182511  0.632319  1.489056  0.171114   two\n",
       "2013-01-05 -0.845402 -0.500368 -1.019309 -1.618274  four"
      ]
     },
     "execution_count": 35,
     "metadata": {},
     "output_type": "execute_result"
    }
   ],
   "source": [
    "df2[df2['E'].isin(['two', 'four'])]"
   ]
  },
  {
   "cell_type": "markdown",
   "metadata": {},
   "source": [
    "### 设置"
   ]
  },
  {
   "cell_type": "markdown",
   "metadata": {},
   "source": [
    "设置一个新的列："
   ]
  },
  {
   "cell_type": "code",
   "execution_count": 36,
   "metadata": {},
   "outputs": [
    {
     "data": {
      "text/plain": [
       "2013-01-02    1\n",
       "2013-01-03    2\n",
       "2013-01-04    3\n",
       "2013-01-05    4\n",
       "2013-01-06    5\n",
       "2013-01-07    6\n",
       "Freq: D, dtype: int64"
      ]
     },
     "execution_count": 36,
     "metadata": {},
     "output_type": "execute_result"
    }
   ],
   "source": [
    "s1 = pd.Series([1, 2, 3, 4, 5, 6], index=pd.date_range('20130102', periods=6))\n",
    "s1"
   ]
  },
  {
   "cell_type": "markdown",
   "metadata": {},
   "source": [
    "通过标签设置新的值："
   ]
  },
  {
   "cell_type": "code",
   "execution_count": 39,
   "metadata": {},
   "outputs": [],
   "source": [
    "df.at[dates[0], 'A'] = 0"
   ]
  },
  {
   "cell_type": "markdown",
   "metadata": {},
   "source": [
    "通过位置设置新的值："
   ]
  },
  {
   "cell_type": "code",
   "execution_count": 41,
   "metadata": {},
   "outputs": [],
   "source": [
    "df.iat[0, 1] = 0"
   ]
  },
  {
   "cell_type": "markdown",
   "metadata": {},
   "source": [
    "通过一个numpy数组设置一组新值："
   ]
  },
  {
   "cell_type": "code",
   "execution_count": 43,
   "metadata": {},
   "outputs": [
    {
     "data": {
      "text/html": [
       "<div>\n",
       "<style>\n",
       "    .dataframe thead tr:only-child th {\n",
       "        text-align: right;\n",
       "    }\n",
       "\n",
       "    .dataframe thead th {\n",
       "        text-align: left;\n",
       "    }\n",
       "\n",
       "    .dataframe tbody tr th {\n",
       "        vertical-align: top;\n",
       "    }\n",
       "</style>\n",
       "<table border=\"1\" class=\"dataframe\">\n",
       "  <thead>\n",
       "    <tr style=\"text-align: right;\">\n",
       "      <th></th>\n",
       "      <th>A</th>\n",
       "      <th>B</th>\n",
       "      <th>C</th>\n",
       "      <th>D</th>\n",
       "    </tr>\n",
       "  </thead>\n",
       "  <tbody>\n",
       "    <tr>\n",
       "      <th>2013-01-01</th>\n",
       "      <td>0.000000</td>\n",
       "      <td>0.000000</td>\n",
       "      <td>0.739890</td>\n",
       "      <td>5</td>\n",
       "    </tr>\n",
       "    <tr>\n",
       "      <th>2013-01-02</th>\n",
       "      <td>0.898003</td>\n",
       "      <td>-0.369102</td>\n",
       "      <td>0.545741</td>\n",
       "      <td>5</td>\n",
       "    </tr>\n",
       "    <tr>\n",
       "      <th>2013-01-03</th>\n",
       "      <td>-0.182511</td>\n",
       "      <td>0.632319</td>\n",
       "      <td>1.489056</td>\n",
       "      <td>5</td>\n",
       "    </tr>\n",
       "    <tr>\n",
       "      <th>2013-01-04</th>\n",
       "      <td>-0.455393</td>\n",
       "      <td>-0.165455</td>\n",
       "      <td>-1.526940</td>\n",
       "      <td>5</td>\n",
       "    </tr>\n",
       "    <tr>\n",
       "      <th>2013-01-05</th>\n",
       "      <td>-0.845402</td>\n",
       "      <td>-0.500368</td>\n",
       "      <td>-1.019309</td>\n",
       "      <td>5</td>\n",
       "    </tr>\n",
       "    <tr>\n",
       "      <th>2013-01-06</th>\n",
       "      <td>0.134862</td>\n",
       "      <td>0.475744</td>\n",
       "      <td>-1.585539</td>\n",
       "      <td>5</td>\n",
       "    </tr>\n",
       "  </tbody>\n",
       "</table>\n",
       "</div>"
      ],
      "text/plain": [
       "                   A         B         C  D\n",
       "2013-01-01  0.000000  0.000000  0.739890  5\n",
       "2013-01-02  0.898003 -0.369102  0.545741  5\n",
       "2013-01-03 -0.182511  0.632319  1.489056  5\n",
       "2013-01-04 -0.455393 -0.165455 -1.526940  5\n",
       "2013-01-05 -0.845402 -0.500368 -1.019309  5\n",
       "2013-01-06  0.134862  0.475744 -1.585539  5"
      ]
     },
     "execution_count": 43,
     "metadata": {},
     "output_type": "execute_result"
    }
   ],
   "source": [
    "df.loc[:, 'D'] = np.array([5] * len(df))\n",
    "df"
   ]
  },
  {
   "cell_type": "markdown",
   "metadata": {},
   "source": [
    "通过where操作来设置新的值："
   ]
  },
  {
   "cell_type": "code",
   "execution_count": 45,
   "metadata": {},
   "outputs": [
    {
     "data": {
      "text/html": [
       "<div>\n",
       "<style>\n",
       "    .dataframe thead tr:only-child th {\n",
       "        text-align: right;\n",
       "    }\n",
       "\n",
       "    .dataframe thead th {\n",
       "        text-align: left;\n",
       "    }\n",
       "\n",
       "    .dataframe tbody tr th {\n",
       "        vertical-align: top;\n",
       "    }\n",
       "</style>\n",
       "<table border=\"1\" class=\"dataframe\">\n",
       "  <thead>\n",
       "    <tr style=\"text-align: right;\">\n",
       "      <th></th>\n",
       "      <th>A</th>\n",
       "      <th>B</th>\n",
       "      <th>C</th>\n",
       "      <th>D</th>\n",
       "    </tr>\n",
       "  </thead>\n",
       "  <tbody>\n",
       "    <tr>\n",
       "      <th>2013-01-01</th>\n",
       "      <td>0.000000</td>\n",
       "      <td>0.000000</td>\n",
       "      <td>-0.739890</td>\n",
       "      <td>-5</td>\n",
       "    </tr>\n",
       "    <tr>\n",
       "      <th>2013-01-02</th>\n",
       "      <td>-0.898003</td>\n",
       "      <td>-0.369102</td>\n",
       "      <td>-0.545741</td>\n",
       "      <td>-5</td>\n",
       "    </tr>\n",
       "    <tr>\n",
       "      <th>2013-01-03</th>\n",
       "      <td>-0.182511</td>\n",
       "      <td>-0.632319</td>\n",
       "      <td>-1.489056</td>\n",
       "      <td>-5</td>\n",
       "    </tr>\n",
       "    <tr>\n",
       "      <th>2013-01-04</th>\n",
       "      <td>-0.455393</td>\n",
       "      <td>-0.165455</td>\n",
       "      <td>-1.526940</td>\n",
       "      <td>-5</td>\n",
       "    </tr>\n",
       "    <tr>\n",
       "      <th>2013-01-05</th>\n",
       "      <td>-0.845402</td>\n",
       "      <td>-0.500368</td>\n",
       "      <td>-1.019309</td>\n",
       "      <td>-5</td>\n",
       "    </tr>\n",
       "    <tr>\n",
       "      <th>2013-01-06</th>\n",
       "      <td>-0.134862</td>\n",
       "      <td>-0.475744</td>\n",
       "      <td>-1.585539</td>\n",
       "      <td>-5</td>\n",
       "    </tr>\n",
       "  </tbody>\n",
       "</table>\n",
       "</div>"
      ],
      "text/plain": [
       "                   A         B         C  D\n",
       "2013-01-01  0.000000  0.000000 -0.739890 -5\n",
       "2013-01-02 -0.898003 -0.369102 -0.545741 -5\n",
       "2013-01-03 -0.182511 -0.632319 -1.489056 -5\n",
       "2013-01-04 -0.455393 -0.165455 -1.526940 -5\n",
       "2013-01-05 -0.845402 -0.500368 -1.019309 -5\n",
       "2013-01-06 -0.134862 -0.475744 -1.585539 -5"
      ]
     },
     "execution_count": 45,
     "metadata": {},
     "output_type": "execute_result"
    }
   ],
   "source": [
    "df2 = df.copy()\n",
    "df2[df2 > 0] = -df2\n",
    "df2"
   ]
  },
  {
   "cell_type": "markdown",
   "metadata": {},
   "source": [
    "---\n",
    "\n",
    "## 4.缺失值处理\n",
    "\n",
    "在pandas中，使用np.nan来代替缺失值，这些值将默认不会包含在计算中\n",
    "\n",
    "详情请参阅：[Missing Data Section](http://pandas.pydata.org/pandas-docs/stable/missing_data.html#missing-data)"
   ]
  },
  {
   "cell_type": "markdown",
   "metadata": {},
   "source": [
    "在pandas中，使用np.nan来代替缺失值，这些值将默认不会包含在计算中"
   ]
  },
  {
   "cell_type": "markdown",
   "metadata": {},
   "source": [
    "reindex()方法可以对指定轴上的索引进行改变/增加/删除操作，这将返回原始数据的一个拷贝：、"
   ]
  },
  {
   "cell_type": "code",
   "execution_count": 50,
   "metadata": {},
   "outputs": [
    {
     "data": {
      "text/html": [
       "<div>\n",
       "<style>\n",
       "    .dataframe thead tr:only-child th {\n",
       "        text-align: right;\n",
       "    }\n",
       "\n",
       "    .dataframe thead th {\n",
       "        text-align: left;\n",
       "    }\n",
       "\n",
       "    .dataframe tbody tr th {\n",
       "        vertical-align: top;\n",
       "    }\n",
       "</style>\n",
       "<table border=\"1\" class=\"dataframe\">\n",
       "  <thead>\n",
       "    <tr style=\"text-align: right;\">\n",
       "      <th></th>\n",
       "      <th>A</th>\n",
       "      <th>B</th>\n",
       "      <th>C</th>\n",
       "      <th>D</th>\n",
       "      <th>E</th>\n",
       "    </tr>\n",
       "  </thead>\n",
       "  <tbody>\n",
       "    <tr>\n",
       "      <th>2013-01-01</th>\n",
       "      <td>0.000000</td>\n",
       "      <td>0.000000</td>\n",
       "      <td>0.739890</td>\n",
       "      <td>5</td>\n",
       "      <td>1.0</td>\n",
       "    </tr>\n",
       "    <tr>\n",
       "      <th>2013-01-02</th>\n",
       "      <td>0.898003</td>\n",
       "      <td>-0.369102</td>\n",
       "      <td>0.545741</td>\n",
       "      <td>5</td>\n",
       "      <td>1.0</td>\n",
       "    </tr>\n",
       "    <tr>\n",
       "      <th>2013-01-03</th>\n",
       "      <td>-0.182511</td>\n",
       "      <td>0.632319</td>\n",
       "      <td>1.489056</td>\n",
       "      <td>5</td>\n",
       "      <td>NaN</td>\n",
       "    </tr>\n",
       "    <tr>\n",
       "      <th>2013-01-04</th>\n",
       "      <td>-0.455393</td>\n",
       "      <td>-0.165455</td>\n",
       "      <td>-1.526940</td>\n",
       "      <td>5</td>\n",
       "      <td>NaN</td>\n",
       "    </tr>\n",
       "  </tbody>\n",
       "</table>\n",
       "</div>"
      ],
      "text/plain": [
       "                   A         B         C  D    E\n",
       "2013-01-01  0.000000  0.000000  0.739890  5  1.0\n",
       "2013-01-02  0.898003 -0.369102  0.545741  5  1.0\n",
       "2013-01-03 -0.182511  0.632319  1.489056  5  NaN\n",
       "2013-01-04 -0.455393 -0.165455 -1.526940  5  NaN"
      ]
     },
     "execution_count": 50,
     "metadata": {},
     "output_type": "execute_result"
    }
   ],
   "source": [
    "# df1 = df.reindex(index=dates[0:4], columns==list(df.columns) + ['E'])\n",
    "df1 = df.reindex(index=dates[0:4])\n",
    "df1.loc[dates[0] : dates[1], 'E'] = 1\n",
    "df1"
   ]
  },
  {
   "cell_type": "markdown",
   "metadata": {},
   "source": [
    "去掉包含缺失值的行："
   ]
  },
  {
   "cell_type": "code",
   "execution_count": 51,
   "metadata": {},
   "outputs": [
    {
     "data": {
      "text/html": [
       "<div>\n",
       "<style>\n",
       "    .dataframe thead tr:only-child th {\n",
       "        text-align: right;\n",
       "    }\n",
       "\n",
       "    .dataframe thead th {\n",
       "        text-align: left;\n",
       "    }\n",
       "\n",
       "    .dataframe tbody tr th {\n",
       "        vertical-align: top;\n",
       "    }\n",
       "</style>\n",
       "<table border=\"1\" class=\"dataframe\">\n",
       "  <thead>\n",
       "    <tr style=\"text-align: right;\">\n",
       "      <th></th>\n",
       "      <th>A</th>\n",
       "      <th>B</th>\n",
       "      <th>C</th>\n",
       "      <th>D</th>\n",
       "    </tr>\n",
       "  </thead>\n",
       "  <tbody>\n",
       "    <tr>\n",
       "      <th>2013-01-01</th>\n",
       "      <td>0.000000</td>\n",
       "      <td>0.000000</td>\n",
       "      <td>0.739890</td>\n",
       "      <td>5</td>\n",
       "    </tr>\n",
       "    <tr>\n",
       "      <th>2013-01-02</th>\n",
       "      <td>0.898003</td>\n",
       "      <td>-0.369102</td>\n",
       "      <td>0.545741</td>\n",
       "      <td>5</td>\n",
       "    </tr>\n",
       "    <tr>\n",
       "      <th>2013-01-03</th>\n",
       "      <td>-0.182511</td>\n",
       "      <td>0.632319</td>\n",
       "      <td>1.489056</td>\n",
       "      <td>5</td>\n",
       "    </tr>\n",
       "    <tr>\n",
       "      <th>2013-01-04</th>\n",
       "      <td>-0.455393</td>\n",
       "      <td>-0.165455</td>\n",
       "      <td>-1.526940</td>\n",
       "      <td>5</td>\n",
       "    </tr>\n",
       "    <tr>\n",
       "      <th>2013-01-05</th>\n",
       "      <td>-0.845402</td>\n",
       "      <td>-0.500368</td>\n",
       "      <td>-1.019309</td>\n",
       "      <td>5</td>\n",
       "    </tr>\n",
       "    <tr>\n",
       "      <th>2013-01-06</th>\n",
       "      <td>0.134862</td>\n",
       "      <td>0.475744</td>\n",
       "      <td>-1.585539</td>\n",
       "      <td>5</td>\n",
       "    </tr>\n",
       "  </tbody>\n",
       "</table>\n",
       "</div>"
      ],
      "text/plain": [
       "                   A         B         C  D\n",
       "2013-01-01  0.000000  0.000000  0.739890  5\n",
       "2013-01-02  0.898003 -0.369102  0.545741  5\n",
       "2013-01-03 -0.182511  0.632319  1.489056  5\n",
       "2013-01-04 -0.455393 -0.165455 -1.526940  5\n",
       "2013-01-05 -0.845402 -0.500368 -1.019309  5\n",
       "2013-01-06  0.134862  0.475744 -1.585539  5"
      ]
     },
     "execution_count": 51,
     "metadata": {},
     "output_type": "execute_result"
    }
   ],
   "source": [
    "df.dropna(how='any')"
   ]
  },
  {
   "cell_type": "markdown",
   "metadata": {},
   "source": [
    "对缺失值进行填充："
   ]
  },
  {
   "cell_type": "code",
   "execution_count": 52,
   "metadata": {},
   "outputs": [
    {
     "data": {
      "text/html": [
       "<div>\n",
       "<style>\n",
       "    .dataframe thead tr:only-child th {\n",
       "        text-align: right;\n",
       "    }\n",
       "\n",
       "    .dataframe thead th {\n",
       "        text-align: left;\n",
       "    }\n",
       "\n",
       "    .dataframe tbody tr th {\n",
       "        vertical-align: top;\n",
       "    }\n",
       "</style>\n",
       "<table border=\"1\" class=\"dataframe\">\n",
       "  <thead>\n",
       "    <tr style=\"text-align: right;\">\n",
       "      <th></th>\n",
       "      <th>A</th>\n",
       "      <th>B</th>\n",
       "      <th>C</th>\n",
       "      <th>D</th>\n",
       "      <th>E</th>\n",
       "    </tr>\n",
       "  </thead>\n",
       "  <tbody>\n",
       "    <tr>\n",
       "      <th>2013-01-01</th>\n",
       "      <td>0.000000</td>\n",
       "      <td>0.000000</td>\n",
       "      <td>0.739890</td>\n",
       "      <td>5</td>\n",
       "      <td>1.0</td>\n",
       "    </tr>\n",
       "    <tr>\n",
       "      <th>2013-01-02</th>\n",
       "      <td>0.898003</td>\n",
       "      <td>-0.369102</td>\n",
       "      <td>0.545741</td>\n",
       "      <td>5</td>\n",
       "      <td>1.0</td>\n",
       "    </tr>\n",
       "    <tr>\n",
       "      <th>2013-01-03</th>\n",
       "      <td>-0.182511</td>\n",
       "      <td>0.632319</td>\n",
       "      <td>1.489056</td>\n",
       "      <td>5</td>\n",
       "      <td>5.0</td>\n",
       "    </tr>\n",
       "    <tr>\n",
       "      <th>2013-01-04</th>\n",
       "      <td>-0.455393</td>\n",
       "      <td>-0.165455</td>\n",
       "      <td>-1.526940</td>\n",
       "      <td>5</td>\n",
       "      <td>5.0</td>\n",
       "    </tr>\n",
       "  </tbody>\n",
       "</table>\n",
       "</div>"
      ],
      "text/plain": [
       "                   A         B         C  D    E\n",
       "2013-01-01  0.000000  0.000000  0.739890  5  1.0\n",
       "2013-01-02  0.898003 -0.369102  0.545741  5  1.0\n",
       "2013-01-03 -0.182511  0.632319  1.489056  5  5.0\n",
       "2013-01-04 -0.455393 -0.165455 -1.526940  5  5.0"
      ]
     },
     "execution_count": 52,
     "metadata": {},
     "output_type": "execute_result"
    }
   ],
   "source": [
    "df1.fillna(value=5)"
   ]
  },
  {
   "cell_type": "markdown",
   "metadata": {},
   "source": [
    "对数据进行布尔填充："
   ]
  },
  {
   "cell_type": "code",
   "execution_count": 53,
   "metadata": {},
   "outputs": [
    {
     "data": {
      "text/html": [
       "<div>\n",
       "<style>\n",
       "    .dataframe thead tr:only-child th {\n",
       "        text-align: right;\n",
       "    }\n",
       "\n",
       "    .dataframe thead th {\n",
       "        text-align: left;\n",
       "    }\n",
       "\n",
       "    .dataframe tbody tr th {\n",
       "        vertical-align: top;\n",
       "    }\n",
       "</style>\n",
       "<table border=\"1\" class=\"dataframe\">\n",
       "  <thead>\n",
       "    <tr style=\"text-align: right;\">\n",
       "      <th></th>\n",
       "      <th>A</th>\n",
       "      <th>B</th>\n",
       "      <th>C</th>\n",
       "      <th>D</th>\n",
       "      <th>E</th>\n",
       "    </tr>\n",
       "  </thead>\n",
       "  <tbody>\n",
       "    <tr>\n",
       "      <th>2013-01-01</th>\n",
       "      <td>False</td>\n",
       "      <td>False</td>\n",
       "      <td>False</td>\n",
       "      <td>False</td>\n",
       "      <td>False</td>\n",
       "    </tr>\n",
       "    <tr>\n",
       "      <th>2013-01-02</th>\n",
       "      <td>False</td>\n",
       "      <td>False</td>\n",
       "      <td>False</td>\n",
       "      <td>False</td>\n",
       "      <td>False</td>\n",
       "    </tr>\n",
       "    <tr>\n",
       "      <th>2013-01-03</th>\n",
       "      <td>False</td>\n",
       "      <td>False</td>\n",
       "      <td>False</td>\n",
       "      <td>False</td>\n",
       "      <td>True</td>\n",
       "    </tr>\n",
       "    <tr>\n",
       "      <th>2013-01-04</th>\n",
       "      <td>False</td>\n",
       "      <td>False</td>\n",
       "      <td>False</td>\n",
       "      <td>False</td>\n",
       "      <td>True</td>\n",
       "    </tr>\n",
       "  </tbody>\n",
       "</table>\n",
       "</div>"
      ],
      "text/plain": [
       "                A      B      C      D      E\n",
       "2013-01-01  False  False  False  False  False\n",
       "2013-01-02  False  False  False  False  False\n",
       "2013-01-03  False  False  False  False   True\n",
       "2013-01-04  False  False  False  False   True"
      ]
     },
     "execution_count": 53,
     "metadata": {},
     "output_type": "execute_result"
    }
   ],
   "source": [
    "pd.isnull(df1)"
   ]
  },
  {
   "cell_type": "markdown",
   "metadata": {},
   "source": [
    "---\n",
    "\n",
    "## 5.相关操作"
   ]
  },
  {
   "cell_type": "markdown",
   "metadata": {},
   "source": [
    "详情请参考 [Basic Section On Binary Ops](http://pandas.pydata.org/pandas-docs/stable/basics.html#basics-binop)"
   ]
  },
  {
   "cell_type": "markdown",
   "metadata": {},
   "source": [
    "执行描述性统计："
   ]
  },
  {
   "cell_type": "code",
   "execution_count": 54,
   "metadata": {},
   "outputs": [
    {
     "data": {
      "text/plain": [
       "A   -0.075074\n",
       "B    0.012190\n",
       "C   -0.226184\n",
       "D    5.000000\n",
       "dtype: float64"
      ]
     },
     "execution_count": 54,
     "metadata": {},
     "output_type": "execute_result"
    }
   ],
   "source": [
    "df.mean()"
   ]
  },
  {
   "cell_type": "markdown",
   "metadata": {},
   "source": [
    "在其他轴上进行相同的操作："
   ]
  },
  {
   "cell_type": "raw",
   "metadata": {},
   "source": [
    "在其他轴上进行相同的操作："
   ]
  },
  {
   "cell_type": "code",
   "execution_count": 55,
   "metadata": {},
   "outputs": [
    {
     "data": {
      "text/plain": [
       "2013-01-01    1.434972\n",
       "2013-01-02    1.518660\n",
       "2013-01-03    1.734716\n",
       "2013-01-04    0.713053\n",
       "2013-01-05    0.658730\n",
       "2013-01-06    1.006267\n",
       "Freq: D, dtype: float64"
      ]
     },
     "execution_count": 55,
     "metadata": {},
     "output_type": "execute_result"
    }
   ],
   "source": [
    "df.mean(1)"
   ]
  },
  {
   "cell_type": "raw",
   "metadata": {},
   "source": [
    "对于拥有不同维度，需要对齐的对象进行操作。Pandas会自动的沿着指定的维度进行广播："
   ]
  },
  {
   "cell_type": "code",
   "execution_count": 60,
   "metadata": {},
   "outputs": [
    {
     "data": {
      "text/plain": [
       "2013-01-01    NaN\n",
       "2013-01-02    NaN\n",
       "2013-01-03    1.0\n",
       "2013-01-04    3.0\n",
       "2013-01-05    5.0\n",
       "2013-01-06    NaN\n",
       "Freq: D, dtype: float64"
      ]
     },
     "execution_count": 60,
     "metadata": {},
     "output_type": "execute_result"
    }
   ],
   "source": [
    "s = pd.Series([1, 3, 5, np.nan, 6, 8], index=dates).shift(2)\n",
    "s"
   ]
  },
  {
   "cell_type": "code",
   "execution_count": 61,
   "metadata": {},
   "outputs": [
    {
     "data": {
      "text/html": [
       "<div>\n",
       "<style>\n",
       "    .dataframe thead tr:only-child th {\n",
       "        text-align: right;\n",
       "    }\n",
       "\n",
       "    .dataframe thead th {\n",
       "        text-align: left;\n",
       "    }\n",
       "\n",
       "    .dataframe tbody tr th {\n",
       "        vertical-align: top;\n",
       "    }\n",
       "</style>\n",
       "<table border=\"1\" class=\"dataframe\">\n",
       "  <thead>\n",
       "    <tr style=\"text-align: right;\">\n",
       "      <th></th>\n",
       "      <th>A</th>\n",
       "      <th>B</th>\n",
       "      <th>C</th>\n",
       "      <th>D</th>\n",
       "    </tr>\n",
       "  </thead>\n",
       "  <tbody>\n",
       "    <tr>\n",
       "      <th>2013-01-01</th>\n",
       "      <td>NaN</td>\n",
       "      <td>NaN</td>\n",
       "      <td>NaN</td>\n",
       "      <td>NaN</td>\n",
       "    </tr>\n",
       "    <tr>\n",
       "      <th>2013-01-02</th>\n",
       "      <td>NaN</td>\n",
       "      <td>NaN</td>\n",
       "      <td>NaN</td>\n",
       "      <td>NaN</td>\n",
       "    </tr>\n",
       "    <tr>\n",
       "      <th>2013-01-03</th>\n",
       "      <td>-1.182511</td>\n",
       "      <td>-0.367681</td>\n",
       "      <td>0.489056</td>\n",
       "      <td>4.0</td>\n",
       "    </tr>\n",
       "    <tr>\n",
       "      <th>2013-01-04</th>\n",
       "      <td>-3.455393</td>\n",
       "      <td>-3.165455</td>\n",
       "      <td>-4.526940</td>\n",
       "      <td>2.0</td>\n",
       "    </tr>\n",
       "    <tr>\n",
       "      <th>2013-01-05</th>\n",
       "      <td>-5.845402</td>\n",
       "      <td>-5.500368</td>\n",
       "      <td>-6.019309</td>\n",
       "      <td>0.0</td>\n",
       "    </tr>\n",
       "    <tr>\n",
       "      <th>2013-01-06</th>\n",
       "      <td>NaN</td>\n",
       "      <td>NaN</td>\n",
       "      <td>NaN</td>\n",
       "      <td>NaN</td>\n",
       "    </tr>\n",
       "  </tbody>\n",
       "</table>\n",
       "</div>"
      ],
      "text/plain": [
       "                   A         B         C    D\n",
       "2013-01-01       NaN       NaN       NaN  NaN\n",
       "2013-01-02       NaN       NaN       NaN  NaN\n",
       "2013-01-03 -1.182511 -0.367681  0.489056  4.0\n",
       "2013-01-04 -3.455393 -3.165455 -4.526940  2.0\n",
       "2013-01-05 -5.845402 -5.500368 -6.019309  0.0\n",
       "2013-01-06       NaN       NaN       NaN  NaN"
      ]
     },
     "execution_count": 61,
     "metadata": {},
     "output_type": "execute_result"
    }
   ],
   "source": [
    "df.sub(s, axis='index')"
   ]
  },
  {
   "cell_type": "markdown",
   "metadata": {},
   "source": [
    "### Apply\n",
    "\n",
    "对数据应用函数"
   ]
  },
  {
   "cell_type": "code",
   "execution_count": 63,
   "metadata": {},
   "outputs": [
    {
     "data": {
      "text/html": [
       "<div>\n",
       "<style>\n",
       "    .dataframe thead tr:only-child th {\n",
       "        text-align: right;\n",
       "    }\n",
       "\n",
       "    .dataframe thead th {\n",
       "        text-align: left;\n",
       "    }\n",
       "\n",
       "    .dataframe tbody tr th {\n",
       "        vertical-align: top;\n",
       "    }\n",
       "</style>\n",
       "<table border=\"1\" class=\"dataframe\">\n",
       "  <thead>\n",
       "    <tr style=\"text-align: right;\">\n",
       "      <th></th>\n",
       "      <th>A</th>\n",
       "      <th>B</th>\n",
       "      <th>C</th>\n",
       "      <th>D</th>\n",
       "    </tr>\n",
       "  </thead>\n",
       "  <tbody>\n",
       "    <tr>\n",
       "      <th>2013-01-01</th>\n",
       "      <td>0.000000</td>\n",
       "      <td>0.000000</td>\n",
       "      <td>0.739890</td>\n",
       "      <td>5</td>\n",
       "    </tr>\n",
       "    <tr>\n",
       "      <th>2013-01-02</th>\n",
       "      <td>0.898003</td>\n",
       "      <td>-0.369102</td>\n",
       "      <td>1.285631</td>\n",
       "      <td>10</td>\n",
       "    </tr>\n",
       "    <tr>\n",
       "      <th>2013-01-03</th>\n",
       "      <td>0.715491</td>\n",
       "      <td>0.263217</td>\n",
       "      <td>2.774686</td>\n",
       "      <td>15</td>\n",
       "    </tr>\n",
       "    <tr>\n",
       "      <th>2013-01-04</th>\n",
       "      <td>0.260098</td>\n",
       "      <td>0.097762</td>\n",
       "      <td>1.247746</td>\n",
       "      <td>20</td>\n",
       "    </tr>\n",
       "    <tr>\n",
       "      <th>2013-01-05</th>\n",
       "      <td>-0.585304</td>\n",
       "      <td>-0.402606</td>\n",
       "      <td>0.228438</td>\n",
       "      <td>25</td>\n",
       "    </tr>\n",
       "    <tr>\n",
       "      <th>2013-01-06</th>\n",
       "      <td>-0.450443</td>\n",
       "      <td>0.073138</td>\n",
       "      <td>-1.357102</td>\n",
       "      <td>30</td>\n",
       "    </tr>\n",
       "  </tbody>\n",
       "</table>\n",
       "</div>"
      ],
      "text/plain": [
       "                   A         B         C   D\n",
       "2013-01-01  0.000000  0.000000  0.739890   5\n",
       "2013-01-02  0.898003 -0.369102  1.285631  10\n",
       "2013-01-03  0.715491  0.263217  2.774686  15\n",
       "2013-01-04  0.260098  0.097762  1.247746  20\n",
       "2013-01-05 -0.585304 -0.402606  0.228438  25\n",
       "2013-01-06 -0.450443  0.073138 -1.357102  30"
      ]
     },
     "execution_count": 63,
     "metadata": {},
     "output_type": "execute_result"
    }
   ],
   "source": [
    "df.apply(np.cumsum)"
   ]
  },
  {
   "cell_type": "code",
   "execution_count": 64,
   "metadata": {},
   "outputs": [
    {
     "data": {
      "text/plain": [
       "A    1.743405\n",
       "B    1.132687\n",
       "C    3.074595\n",
       "D    0.000000\n",
       "dtype: float64"
      ]
     },
     "execution_count": 64,
     "metadata": {},
     "output_type": "execute_result"
    }
   ],
   "source": [
    "df.apply(lambda x: x.max() - x.min())"
   ]
  },
  {
   "cell_type": "markdown",
   "metadata": {},
   "source": [
    "### 直方图\n",
    "\n",
    "详情请参考 [Histogramming and Discretization](http://pandas.pydata.org/pandas-docs/stable/basics.html#basics-discretization)"
   ]
  },
  {
   "cell_type": "code",
   "execution_count": 66,
   "metadata": {},
   "outputs": [
    {
     "data": {
      "text/plain": [
       "0    6\n",
       "1    0\n",
       "2    6\n",
       "3    2\n",
       "4    1\n",
       "5    3\n",
       "6    6\n",
       "7    3\n",
       "8    0\n",
       "9    5\n",
       "dtype: int32"
      ]
     },
     "execution_count": 66,
     "metadata": {},
     "output_type": "execute_result"
    }
   ],
   "source": [
    "s = pd.Series(np.random.randint(0, 7, size=10))\n",
    "s"
   ]
  },
  {
   "cell_type": "code",
   "execution_count": 67,
   "metadata": {},
   "outputs": [
    {
     "data": {
      "text/plain": [
       "6    3\n",
       "3    2\n",
       "0    2\n",
       "5    1\n",
       "2    1\n",
       "1    1\n",
       "dtype: int64"
      ]
     },
     "execution_count": 67,
     "metadata": {},
     "output_type": "execute_result"
    }
   ],
   "source": [
    "s.value_counts()"
   ]
  },
  {
   "cell_type": "markdown",
   "metadata": {},
   "source": [
    "字符串方法\n",
    "\n",
    "Series对象在其str属性中配备了一组字符串处理方法，可以很容易的应用到数组中的每个元素，如下段代码所示。\n",
    "\n",
    "更多详情请参考：[Vectorized String Methods](http://pandas.pydata.org/pandas-docs/stable/text.html#text-string-methods)"
   ]
  },
  {
   "cell_type": "code",
   "execution_count": 68,
   "metadata": {},
   "outputs": [
    {
     "data": {
      "text/plain": [
       "0       a\n",
       "1       b\n",
       "2       c\n",
       "3    aaba\n",
       "4    baca\n",
       "5     NaN\n",
       "6    caba\n",
       "7     dog\n",
       "8     cat\n",
       "dtype: object"
      ]
     },
     "execution_count": 68,
     "metadata": {},
     "output_type": "execute_result"
    }
   ],
   "source": [
    "s = pd.Series(['A', 'B', 'C', 'Aaba', 'Baca', np.nan, 'CABA', 'dog', 'cat'])\n",
    "s.str.lower()"
   ]
  },
  {
   "cell_type": "markdown",
   "metadata": {},
   "source": [
    "---\n",
    "\n",
    "## 6.合并\n",
    "\n",
    "Pandas提供了大量的方法能够轻松的对Series，DataFrame和Panel对象进行各种符合各种逻辑关系的合并操作。\n",
    "\n",
    "具体请参阅：[Merging section](http://pandas.pydata.org/pandas-docs/stable/merging.html#merging)"
   ]
  },
  {
   "cell_type": "markdown",
   "metadata": {},
   "source": [
    "### Concat"
   ]
  },
  {
   "cell_type": "code",
   "execution_count": 70,
   "metadata": {},
   "outputs": [
    {
     "data": {
      "text/html": [
       "<div>\n",
       "<style>\n",
       "    .dataframe thead tr:only-child th {\n",
       "        text-align: right;\n",
       "    }\n",
       "\n",
       "    .dataframe thead th {\n",
       "        text-align: left;\n",
       "    }\n",
       "\n",
       "    .dataframe tbody tr th {\n",
       "        vertical-align: top;\n",
       "    }\n",
       "</style>\n",
       "<table border=\"1\" class=\"dataframe\">\n",
       "  <thead>\n",
       "    <tr style=\"text-align: right;\">\n",
       "      <th></th>\n",
       "      <th>0</th>\n",
       "      <th>1</th>\n",
       "      <th>2</th>\n",
       "      <th>3</th>\n",
       "    </tr>\n",
       "  </thead>\n",
       "  <tbody>\n",
       "    <tr>\n",
       "      <th>0</th>\n",
       "      <td>0.960039</td>\n",
       "      <td>-1.220641</td>\n",
       "      <td>0.375090</td>\n",
       "      <td>-1.344782</td>\n",
       "    </tr>\n",
       "    <tr>\n",
       "      <th>1</th>\n",
       "      <td>1.107196</td>\n",
       "      <td>1.572461</td>\n",
       "      <td>-0.061880</td>\n",
       "      <td>-1.248606</td>\n",
       "    </tr>\n",
       "    <tr>\n",
       "      <th>2</th>\n",
       "      <td>-0.246691</td>\n",
       "      <td>1.879222</td>\n",
       "      <td>-0.642615</td>\n",
       "      <td>-0.896952</td>\n",
       "    </tr>\n",
       "    <tr>\n",
       "      <th>3</th>\n",
       "      <td>-0.751268</td>\n",
       "      <td>-1.272980</td>\n",
       "      <td>-0.582762</td>\n",
       "      <td>-0.546126</td>\n",
       "    </tr>\n",
       "    <tr>\n",
       "      <th>4</th>\n",
       "      <td>-1.425619</td>\n",
       "      <td>-0.586508</td>\n",
       "      <td>0.755898</td>\n",
       "      <td>0.556970</td>\n",
       "    </tr>\n",
       "    <tr>\n",
       "      <th>5</th>\n",
       "      <td>2.873071</td>\n",
       "      <td>-0.443632</td>\n",
       "      <td>2.967620</td>\n",
       "      <td>-0.354731</td>\n",
       "    </tr>\n",
       "    <tr>\n",
       "      <th>6</th>\n",
       "      <td>0.017955</td>\n",
       "      <td>1.012599</td>\n",
       "      <td>2.535126</td>\n",
       "      <td>-1.006726</td>\n",
       "    </tr>\n",
       "    <tr>\n",
       "      <th>7</th>\n",
       "      <td>-0.073752</td>\n",
       "      <td>0.588043</td>\n",
       "      <td>-0.413232</td>\n",
       "      <td>0.407647</td>\n",
       "    </tr>\n",
       "    <tr>\n",
       "      <th>8</th>\n",
       "      <td>-1.602526</td>\n",
       "      <td>-0.721921</td>\n",
       "      <td>1.725866</td>\n",
       "      <td>1.862174</td>\n",
       "    </tr>\n",
       "    <tr>\n",
       "      <th>9</th>\n",
       "      <td>-0.425503</td>\n",
       "      <td>0.362048</td>\n",
       "      <td>-0.987228</td>\n",
       "      <td>1.875441</td>\n",
       "    </tr>\n",
       "  </tbody>\n",
       "</table>\n",
       "</div>"
      ],
      "text/plain": [
       "          0         1         2         3\n",
       "0  0.960039 -1.220641  0.375090 -1.344782\n",
       "1  1.107196  1.572461 -0.061880 -1.248606\n",
       "2 -0.246691  1.879222 -0.642615 -0.896952\n",
       "3 -0.751268 -1.272980 -0.582762 -0.546126\n",
       "4 -1.425619 -0.586508  0.755898  0.556970\n",
       "5  2.873071 -0.443632  2.967620 -0.354731\n",
       "6  0.017955  1.012599  2.535126 -1.006726\n",
       "7 -0.073752  0.588043 -0.413232  0.407647\n",
       "8 -1.602526 -0.721921  1.725866  1.862174\n",
       "9 -0.425503  0.362048 -0.987228  1.875441"
      ]
     },
     "execution_count": 70,
     "metadata": {},
     "output_type": "execute_result"
    }
   ],
   "source": [
    "df = pd.DataFrame(np.random.randn(10, 4))\n",
    "df"
   ]
  },
  {
   "cell_type": "code",
   "execution_count": 71,
   "metadata": {},
   "outputs": [
    {
     "data": {
      "text/html": [
       "<div>\n",
       "<style>\n",
       "    .dataframe thead tr:only-child th {\n",
       "        text-align: right;\n",
       "    }\n",
       "\n",
       "    .dataframe thead th {\n",
       "        text-align: left;\n",
       "    }\n",
       "\n",
       "    .dataframe tbody tr th {\n",
       "        vertical-align: top;\n",
       "    }\n",
       "</style>\n",
       "<table border=\"1\" class=\"dataframe\">\n",
       "  <thead>\n",
       "    <tr style=\"text-align: right;\">\n",
       "      <th></th>\n",
       "      <th>0</th>\n",
       "      <th>1</th>\n",
       "      <th>2</th>\n",
       "      <th>3</th>\n",
       "    </tr>\n",
       "  </thead>\n",
       "  <tbody>\n",
       "    <tr>\n",
       "      <th>0</th>\n",
       "      <td>0.960039</td>\n",
       "      <td>-1.220641</td>\n",
       "      <td>0.375090</td>\n",
       "      <td>-1.344782</td>\n",
       "    </tr>\n",
       "    <tr>\n",
       "      <th>1</th>\n",
       "      <td>1.107196</td>\n",
       "      <td>1.572461</td>\n",
       "      <td>-0.061880</td>\n",
       "      <td>-1.248606</td>\n",
       "    </tr>\n",
       "    <tr>\n",
       "      <th>2</th>\n",
       "      <td>-0.246691</td>\n",
       "      <td>1.879222</td>\n",
       "      <td>-0.642615</td>\n",
       "      <td>-0.896952</td>\n",
       "    </tr>\n",
       "    <tr>\n",
       "      <th>3</th>\n",
       "      <td>-0.751268</td>\n",
       "      <td>-1.272980</td>\n",
       "      <td>-0.582762</td>\n",
       "      <td>-0.546126</td>\n",
       "    </tr>\n",
       "    <tr>\n",
       "      <th>4</th>\n",
       "      <td>-1.425619</td>\n",
       "      <td>-0.586508</td>\n",
       "      <td>0.755898</td>\n",
       "      <td>0.556970</td>\n",
       "    </tr>\n",
       "    <tr>\n",
       "      <th>5</th>\n",
       "      <td>2.873071</td>\n",
       "      <td>-0.443632</td>\n",
       "      <td>2.967620</td>\n",
       "      <td>-0.354731</td>\n",
       "    </tr>\n",
       "    <tr>\n",
       "      <th>6</th>\n",
       "      <td>0.017955</td>\n",
       "      <td>1.012599</td>\n",
       "      <td>2.535126</td>\n",
       "      <td>-1.006726</td>\n",
       "    </tr>\n",
       "    <tr>\n",
       "      <th>7</th>\n",
       "      <td>-0.073752</td>\n",
       "      <td>0.588043</td>\n",
       "      <td>-0.413232</td>\n",
       "      <td>0.407647</td>\n",
       "    </tr>\n",
       "    <tr>\n",
       "      <th>8</th>\n",
       "      <td>-1.602526</td>\n",
       "      <td>-0.721921</td>\n",
       "      <td>1.725866</td>\n",
       "      <td>1.862174</td>\n",
       "    </tr>\n",
       "    <tr>\n",
       "      <th>9</th>\n",
       "      <td>-0.425503</td>\n",
       "      <td>0.362048</td>\n",
       "      <td>-0.987228</td>\n",
       "      <td>1.875441</td>\n",
       "    </tr>\n",
       "  </tbody>\n",
       "</table>\n",
       "</div>"
      ],
      "text/plain": [
       "          0         1         2         3\n",
       "0  0.960039 -1.220641  0.375090 -1.344782\n",
       "1  1.107196  1.572461 -0.061880 -1.248606\n",
       "2 -0.246691  1.879222 -0.642615 -0.896952\n",
       "3 -0.751268 -1.272980 -0.582762 -0.546126\n",
       "4 -1.425619 -0.586508  0.755898  0.556970\n",
       "5  2.873071 -0.443632  2.967620 -0.354731\n",
       "6  0.017955  1.012599  2.535126 -1.006726\n",
       "7 -0.073752  0.588043 -0.413232  0.407647\n",
       "8 -1.602526 -0.721921  1.725866  1.862174\n",
       "9 -0.425503  0.362048 -0.987228  1.875441"
      ]
     },
     "execution_count": 71,
     "metadata": {},
     "output_type": "execute_result"
    }
   ],
   "source": [
    "pieces = [df[:3], df[3:7], df[7:]]\n",
    "pd.concat(pieces)"
   ]
  },
  {
   "cell_type": "markdown",
   "metadata": {},
   "source": [
    "Join 类似于SQL类型的合并，具体请参阅：[Database style joining](http://pandas.pydata.org/pandas-docs/stable/merging.html#merging-join)"
   ]
  },
  {
   "cell_type": "code",
   "execution_count": 76,
   "metadata": {},
   "outputs": [
    {
     "data": {
      "text/html": [
       "<div>\n",
       "<style>\n",
       "    .dataframe thead tr:only-child th {\n",
       "        text-align: right;\n",
       "    }\n",
       "\n",
       "    .dataframe thead th {\n",
       "        text-align: left;\n",
       "    }\n",
       "\n",
       "    .dataframe tbody tr th {\n",
       "        vertical-align: top;\n",
       "    }\n",
       "</style>\n",
       "<table border=\"1\" class=\"dataframe\">\n",
       "  <thead>\n",
       "    <tr style=\"text-align: right;\">\n",
       "      <th></th>\n",
       "      <th>key</th>\n",
       "      <th>lval</th>\n",
       "    </tr>\n",
       "  </thead>\n",
       "  <tbody>\n",
       "    <tr>\n",
       "      <th>0</th>\n",
       "      <td>foo</td>\n",
       "      <td>[1, 2]</td>\n",
       "    </tr>\n",
       "    <tr>\n",
       "      <th>1</th>\n",
       "      <td>foo</td>\n",
       "      <td>[1, 2]</td>\n",
       "    </tr>\n",
       "  </tbody>\n",
       "</table>\n",
       "</div>"
      ],
      "text/plain": [
       "   key    lval\n",
       "0  foo  [1, 2]\n",
       "1  foo  [1, 2]"
      ]
     },
     "execution_count": 76,
     "metadata": {},
     "output_type": "execute_result"
    }
   ],
   "source": [
    "left = pd.DataFrame({'key' : ['foo', 'foo'], 'lval' : \"[1, 2]\"})\n",
    "right = pd.DataFrame({'key' : ['foo', 'foo'], 'rval' : [4, 5]})\n",
    "left"
   ]
  },
  {
   "cell_type": "code",
   "execution_count": 74,
   "metadata": {},
   "outputs": [
    {
     "data": {
      "text/html": [
       "<div>\n",
       "<style>\n",
       "    .dataframe thead tr:only-child th {\n",
       "        text-align: right;\n",
       "    }\n",
       "\n",
       "    .dataframe thead th {\n",
       "        text-align: left;\n",
       "    }\n",
       "\n",
       "    .dataframe tbody tr th {\n",
       "        vertical-align: top;\n",
       "    }\n",
       "</style>\n",
       "<table border=\"1\" class=\"dataframe\">\n",
       "  <thead>\n",
       "    <tr style=\"text-align: right;\">\n",
       "      <th></th>\n",
       "      <th>key</th>\n",
       "      <th>rval</th>\n",
       "    </tr>\n",
       "  </thead>\n",
       "  <tbody>\n",
       "    <tr>\n",
       "      <th>0</th>\n",
       "      <td>foo</td>\n",
       "      <td>4</td>\n",
       "    </tr>\n",
       "    <tr>\n",
       "      <th>1</th>\n",
       "      <td>foo</td>\n",
       "      <td>5</td>\n",
       "    </tr>\n",
       "  </tbody>\n",
       "</table>\n",
       "</div>"
      ],
      "text/plain": [
       "   key  rval\n",
       "0  foo     4\n",
       "1  foo     5"
      ]
     },
     "execution_count": 74,
     "metadata": {},
     "output_type": "execute_result"
    }
   ],
   "source": [
    "right"
   ]
  },
  {
   "cell_type": "code",
   "execution_count": 78,
   "metadata": {},
   "outputs": [
    {
     "data": {
      "text/html": [
       "<div>\n",
       "<style>\n",
       "    .dataframe thead tr:only-child th {\n",
       "        text-align: right;\n",
       "    }\n",
       "\n",
       "    .dataframe thead th {\n",
       "        text-align: left;\n",
       "    }\n",
       "\n",
       "    .dataframe tbody tr th {\n",
       "        vertical-align: top;\n",
       "    }\n",
       "</style>\n",
       "<table border=\"1\" class=\"dataframe\">\n",
       "  <thead>\n",
       "    <tr style=\"text-align: right;\">\n",
       "      <th></th>\n",
       "      <th>key</th>\n",
       "      <th>lval</th>\n",
       "      <th>rval</th>\n",
       "    </tr>\n",
       "  </thead>\n",
       "  <tbody>\n",
       "    <tr>\n",
       "      <th>0</th>\n",
       "      <td>foo</td>\n",
       "      <td>[1, 2]</td>\n",
       "      <td>4</td>\n",
       "    </tr>\n",
       "    <tr>\n",
       "      <th>1</th>\n",
       "      <td>foo</td>\n",
       "      <td>[1, 2]</td>\n",
       "      <td>5</td>\n",
       "    </tr>\n",
       "    <tr>\n",
       "      <th>2</th>\n",
       "      <td>foo</td>\n",
       "      <td>[1, 2]</td>\n",
       "      <td>4</td>\n",
       "    </tr>\n",
       "    <tr>\n",
       "      <th>3</th>\n",
       "      <td>foo</td>\n",
       "      <td>[1, 2]</td>\n",
       "      <td>5</td>\n",
       "    </tr>\n",
       "  </tbody>\n",
       "</table>\n",
       "</div>"
      ],
      "text/plain": [
       "   key    lval  rval\n",
       "0  foo  [1, 2]     4\n",
       "1  foo  [1, 2]     5\n",
       "2  foo  [1, 2]     4\n",
       "3  foo  [1, 2]     5"
      ]
     },
     "execution_count": 78,
     "metadata": {},
     "output_type": "execute_result"
    }
   ],
   "source": [
    "pd.merge(left, right, on='key')"
   ]
  },
  {
   "cell_type": "markdown",
   "metadata": {},
   "source": [
    "Append 将一行连接到一个DataFrame上，具体请参阅 [Appending](http://pandas.pydata.org/pandas-docs/stable/merging.html#merging-concatenation)"
   ]
  },
  {
   "cell_type": "code",
   "execution_count": 79,
   "metadata": {},
   "outputs": [
    {
     "data": {
      "text/html": [
       "<div>\n",
       "<style>\n",
       "    .dataframe thead tr:only-child th {\n",
       "        text-align: right;\n",
       "    }\n",
       "\n",
       "    .dataframe thead th {\n",
       "        text-align: left;\n",
       "    }\n",
       "\n",
       "    .dataframe tbody tr th {\n",
       "        vertical-align: top;\n",
       "    }\n",
       "</style>\n",
       "<table border=\"1\" class=\"dataframe\">\n",
       "  <thead>\n",
       "    <tr style=\"text-align: right;\">\n",
       "      <th></th>\n",
       "      <th>A</th>\n",
       "      <th>B</th>\n",
       "      <th>C</th>\n",
       "      <th>D</th>\n",
       "    </tr>\n",
       "  </thead>\n",
       "  <tbody>\n",
       "    <tr>\n",
       "      <th>0</th>\n",
       "      <td>1.393603</td>\n",
       "      <td>-0.602232</td>\n",
       "      <td>-1.067152</td>\n",
       "      <td>0.079378</td>\n",
       "    </tr>\n",
       "    <tr>\n",
       "      <th>1</th>\n",
       "      <td>-1.447290</td>\n",
       "      <td>-1.851328</td>\n",
       "      <td>0.002898</td>\n",
       "      <td>-0.009276</td>\n",
       "    </tr>\n",
       "    <tr>\n",
       "      <th>2</th>\n",
       "      <td>-0.501925</td>\n",
       "      <td>-0.222470</td>\n",
       "      <td>0.790689</td>\n",
       "      <td>-0.984749</td>\n",
       "    </tr>\n",
       "    <tr>\n",
       "      <th>3</th>\n",
       "      <td>-0.951460</td>\n",
       "      <td>-2.384615</td>\n",
       "      <td>-2.173509</td>\n",
       "      <td>-0.651006</td>\n",
       "    </tr>\n",
       "    <tr>\n",
       "      <th>4</th>\n",
       "      <td>-0.983766</td>\n",
       "      <td>0.687122</td>\n",
       "      <td>-1.058146</td>\n",
       "      <td>-0.161058</td>\n",
       "    </tr>\n",
       "    <tr>\n",
       "      <th>5</th>\n",
       "      <td>-0.050114</td>\n",
       "      <td>-0.909806</td>\n",
       "      <td>1.049473</td>\n",
       "      <td>0.822250</td>\n",
       "    </tr>\n",
       "    <tr>\n",
       "      <th>6</th>\n",
       "      <td>-0.950501</td>\n",
       "      <td>-0.948767</td>\n",
       "      <td>0.186080</td>\n",
       "      <td>-0.590356</td>\n",
       "    </tr>\n",
       "    <tr>\n",
       "      <th>7</th>\n",
       "      <td>0.225664</td>\n",
       "      <td>1.187600</td>\n",
       "      <td>-0.304404</td>\n",
       "      <td>-0.770046</td>\n",
       "    </tr>\n",
       "  </tbody>\n",
       "</table>\n",
       "</div>"
      ],
      "text/plain": [
       "          A         B         C         D\n",
       "0  1.393603 -0.602232 -1.067152  0.079378\n",
       "1 -1.447290 -1.851328  0.002898 -0.009276\n",
       "2 -0.501925 -0.222470  0.790689 -0.984749\n",
       "3 -0.951460 -2.384615 -2.173509 -0.651006\n",
       "4 -0.983766  0.687122 -1.058146 -0.161058\n",
       "5 -0.050114 -0.909806  1.049473  0.822250\n",
       "6 -0.950501 -0.948767  0.186080 -0.590356\n",
       "7  0.225664  1.187600 -0.304404 -0.770046"
      ]
     },
     "execution_count": 79,
     "metadata": {},
     "output_type": "execute_result"
    }
   ],
   "source": [
    "df = pd.DataFrame(np.random.randn(8, 4), columns=['A', 'B', 'C', 'D'])\n",
    "df"
   ]
  },
  {
   "cell_type": "code",
   "execution_count": 83,
   "metadata": {},
   "outputs": [
    {
     "data": {
      "text/html": [
       "<div>\n",
       "<style>\n",
       "    .dataframe thead tr:only-child th {\n",
       "        text-align: right;\n",
       "    }\n",
       "\n",
       "    .dataframe thead th {\n",
       "        text-align: left;\n",
       "    }\n",
       "\n",
       "    .dataframe tbody tr th {\n",
       "        vertical-align: top;\n",
       "    }\n",
       "</style>\n",
       "<table border=\"1\" class=\"dataframe\">\n",
       "  <thead>\n",
       "    <tr style=\"text-align: right;\">\n",
       "      <th></th>\n",
       "      <th>A</th>\n",
       "      <th>B</th>\n",
       "      <th>C</th>\n",
       "      <th>D</th>\n",
       "    </tr>\n",
       "  </thead>\n",
       "  <tbody>\n",
       "    <tr>\n",
       "      <th>0</th>\n",
       "      <td>1.393603</td>\n",
       "      <td>-0.602232</td>\n",
       "      <td>-1.067152</td>\n",
       "      <td>0.079378</td>\n",
       "    </tr>\n",
       "    <tr>\n",
       "      <th>1</th>\n",
       "      <td>-1.447290</td>\n",
       "      <td>-1.851328</td>\n",
       "      <td>0.002898</td>\n",
       "      <td>-0.009276</td>\n",
       "    </tr>\n",
       "    <tr>\n",
       "      <th>2</th>\n",
       "      <td>-0.501925</td>\n",
       "      <td>-0.222470</td>\n",
       "      <td>0.790689</td>\n",
       "      <td>-0.984749</td>\n",
       "    </tr>\n",
       "    <tr>\n",
       "      <th>3</th>\n",
       "      <td>-0.951460</td>\n",
       "      <td>-2.384615</td>\n",
       "      <td>-2.173509</td>\n",
       "      <td>-0.651006</td>\n",
       "    </tr>\n",
       "    <tr>\n",
       "      <th>4</th>\n",
       "      <td>-0.983766</td>\n",
       "      <td>0.687122</td>\n",
       "      <td>-1.058146</td>\n",
       "      <td>-0.161058</td>\n",
       "    </tr>\n",
       "    <tr>\n",
       "      <th>5</th>\n",
       "      <td>-0.050114</td>\n",
       "      <td>-0.909806</td>\n",
       "      <td>1.049473</td>\n",
       "      <td>0.822250</td>\n",
       "    </tr>\n",
       "    <tr>\n",
       "      <th>6</th>\n",
       "      <td>-0.950501</td>\n",
       "      <td>-0.948767</td>\n",
       "      <td>0.186080</td>\n",
       "      <td>-0.590356</td>\n",
       "    </tr>\n",
       "    <tr>\n",
       "      <th>7</th>\n",
       "      <td>0.225664</td>\n",
       "      <td>1.187600</td>\n",
       "      <td>-0.304404</td>\n",
       "      <td>-0.770046</td>\n",
       "    </tr>\n",
       "    <tr>\n",
       "      <th>8</th>\n",
       "      <td>-0.951460</td>\n",
       "      <td>-2.384615</td>\n",
       "      <td>-2.173509</td>\n",
       "      <td>-0.651006</td>\n",
       "    </tr>\n",
       "  </tbody>\n",
       "</table>\n",
       "</div>"
      ],
      "text/plain": [
       "          A         B         C         D\n",
       "0  1.393603 -0.602232 -1.067152  0.079378\n",
       "1 -1.447290 -1.851328  0.002898 -0.009276\n",
       "2 -0.501925 -0.222470  0.790689 -0.984749\n",
       "3 -0.951460 -2.384615 -2.173509 -0.651006\n",
       "4 -0.983766  0.687122 -1.058146 -0.161058\n",
       "5 -0.050114 -0.909806  1.049473  0.822250\n",
       "6 -0.950501 -0.948767  0.186080 -0.590356\n",
       "7  0.225664  1.187600 -0.304404 -0.770046\n",
       "8 -0.951460 -2.384615 -2.173509 -0.651006"
      ]
     },
     "execution_count": 83,
     "metadata": {},
     "output_type": "execute_result"
    }
   ],
   "source": [
    "s = df.iloc[3]\n",
    "df.append(s, ignore_index=True)"
   ]
  },
  {
   "cell_type": "markdown",
   "metadata": {},
   "source": [
    "---\n",
    "\n",
    "## 7.分组\n",
    "\n",
    "对于”group by”操作，我们通常是指以下一个或多个操作步骤：\n",
    "- （Splitting）按照一些规则将数据分为不同的组；\n",
    "- （Applying）对于每组数据分别执行一个函数；\n",
    "- （Combining）将结果组合到一个数据结构中；\n",
    "\n",
    "详情请参阅：[Grouping section](http://pandas.pydata.org/pandas-docs/stable/groupby.html#groupby)"
   ]
  },
  {
   "cell_type": "code",
   "execution_count": 84,
   "metadata": {},
   "outputs": [
    {
     "data": {
      "text/html": [
       "<div>\n",
       "<style>\n",
       "    .dataframe thead tr:only-child th {\n",
       "        text-align: right;\n",
       "    }\n",
       "\n",
       "    .dataframe thead th {\n",
       "        text-align: left;\n",
       "    }\n",
       "\n",
       "    .dataframe tbody tr th {\n",
       "        vertical-align: top;\n",
       "    }\n",
       "</style>\n",
       "<table border=\"1\" class=\"dataframe\">\n",
       "  <thead>\n",
       "    <tr style=\"text-align: right;\">\n",
       "      <th></th>\n",
       "      <th>A</th>\n",
       "      <th>B</th>\n",
       "      <th>C</th>\n",
       "      <th>D</th>\n",
       "    </tr>\n",
       "  </thead>\n",
       "  <tbody>\n",
       "    <tr>\n",
       "      <th>0</th>\n",
       "      <td>foo</td>\n",
       "      <td>one</td>\n",
       "      <td>0.464921</td>\n",
       "      <td>0.190055</td>\n",
       "    </tr>\n",
       "    <tr>\n",
       "      <th>1</th>\n",
       "      <td>bar</td>\n",
       "      <td>one</td>\n",
       "      <td>0.266842</td>\n",
       "      <td>0.360041</td>\n",
       "    </tr>\n",
       "    <tr>\n",
       "      <th>2</th>\n",
       "      <td>foo</td>\n",
       "      <td>two</td>\n",
       "      <td>0.209200</td>\n",
       "      <td>0.428903</td>\n",
       "    </tr>\n",
       "    <tr>\n",
       "      <th>3</th>\n",
       "      <td>bar</td>\n",
       "      <td>three</td>\n",
       "      <td>0.645153</td>\n",
       "      <td>0.188640</td>\n",
       "    </tr>\n",
       "    <tr>\n",
       "      <th>4</th>\n",
       "      <td>foo</td>\n",
       "      <td>two</td>\n",
       "      <td>0.305482</td>\n",
       "      <td>0.813634</td>\n",
       "    </tr>\n",
       "    <tr>\n",
       "      <th>5</th>\n",
       "      <td>bar</td>\n",
       "      <td>two</td>\n",
       "      <td>0.827255</td>\n",
       "      <td>0.112989</td>\n",
       "    </tr>\n",
       "    <tr>\n",
       "      <th>6</th>\n",
       "      <td>foo</td>\n",
       "      <td>one</td>\n",
       "      <td>0.074401</td>\n",
       "      <td>0.730043</td>\n",
       "    </tr>\n",
       "    <tr>\n",
       "      <th>7</th>\n",
       "      <td>foo</td>\n",
       "      <td>three</td>\n",
       "      <td>0.690906</td>\n",
       "      <td>0.452875</td>\n",
       "    </tr>\n",
       "  </tbody>\n",
       "</table>\n",
       "</div>"
      ],
      "text/plain": [
       "     A      B         C         D\n",
       "0  foo    one  0.464921  0.190055\n",
       "1  bar    one  0.266842  0.360041\n",
       "2  foo    two  0.209200  0.428903\n",
       "3  bar  three  0.645153  0.188640\n",
       "4  foo    two  0.305482  0.813634\n",
       "5  bar    two  0.827255  0.112989\n",
       "6  foo    one  0.074401  0.730043\n",
       "7  foo  three  0.690906  0.452875"
      ]
     },
     "execution_count": 84,
     "metadata": {},
     "output_type": "execute_result"
    }
   ],
   "source": [
    "df = pd.DataFrame({'A' : ['foo', 'bar', 'foo', 'bar', 'foo', 'bar', 'foo', 'foo'],\n",
    "                   'B' : ['one', 'one', 'two', 'three', 'two', 'two', 'one', 'three'],\n",
    "                   'C' : np.random.rand(8),\n",
    "                   'D' : np.random.rand(8)})\n",
    "df"
   ]
  },
  {
   "cell_type": "markdown",
   "metadata": {},
   "source": [
    "分组并对每个分组执行sum函数："
   ]
  },
  {
   "cell_type": "code",
   "execution_count": 87,
   "metadata": {},
   "outputs": [
    {
     "data": {
      "text/html": [
       "<div>\n",
       "<style>\n",
       "    .dataframe thead tr:only-child th {\n",
       "        text-align: right;\n",
       "    }\n",
       "\n",
       "    .dataframe thead th {\n",
       "        text-align: left;\n",
       "    }\n",
       "\n",
       "    .dataframe tbody tr th {\n",
       "        vertical-align: top;\n",
       "    }\n",
       "</style>\n",
       "<table border=\"1\" class=\"dataframe\">\n",
       "  <thead>\n",
       "    <tr style=\"text-align: right;\">\n",
       "      <th></th>\n",
       "      <th>C</th>\n",
       "      <th>D</th>\n",
       "    </tr>\n",
       "    <tr>\n",
       "      <th>A</th>\n",
       "      <th></th>\n",
       "      <th></th>\n",
       "    </tr>\n",
       "  </thead>\n",
       "  <tbody>\n",
       "    <tr>\n",
       "      <th>bar</th>\n",
       "      <td>1.739250</td>\n",
       "      <td>0.661671</td>\n",
       "    </tr>\n",
       "    <tr>\n",
       "      <th>foo</th>\n",
       "      <td>1.744911</td>\n",
       "      <td>2.615510</td>\n",
       "    </tr>\n",
       "  </tbody>\n",
       "</table>\n",
       "</div>"
      ],
      "text/plain": [
       "            C         D\n",
       "A                      \n",
       "bar  1.739250  0.661671\n",
       "foo  1.744911  2.615510"
      ]
     },
     "execution_count": 87,
     "metadata": {},
     "output_type": "execute_result"
    }
   ],
   "source": [
    "df.groupby('A').sum()"
   ]
  },
  {
   "cell_type": "markdown",
   "metadata": {},
   "source": [
    "通过多个列进行分组形成一个层次索引，然后执行函数："
   ]
  },
  {
   "cell_type": "code",
   "execution_count": 88,
   "metadata": {},
   "outputs": [
    {
     "data": {
      "text/html": [
       "<div>\n",
       "<style>\n",
       "    .dataframe thead tr:only-child th {\n",
       "        text-align: right;\n",
       "    }\n",
       "\n",
       "    .dataframe thead th {\n",
       "        text-align: left;\n",
       "    }\n",
       "\n",
       "    .dataframe tbody tr th {\n",
       "        vertical-align: top;\n",
       "    }\n",
       "</style>\n",
       "<table border=\"1\" class=\"dataframe\">\n",
       "  <thead>\n",
       "    <tr style=\"text-align: right;\">\n",
       "      <th></th>\n",
       "      <th></th>\n",
       "      <th>C</th>\n",
       "      <th>D</th>\n",
       "    </tr>\n",
       "    <tr>\n",
       "      <th>A</th>\n",
       "      <th>B</th>\n",
       "      <th></th>\n",
       "      <th></th>\n",
       "    </tr>\n",
       "  </thead>\n",
       "  <tbody>\n",
       "    <tr>\n",
       "      <th rowspan=\"3\" valign=\"top\">bar</th>\n",
       "      <th>one</th>\n",
       "      <td>0.266842</td>\n",
       "      <td>0.360041</td>\n",
       "    </tr>\n",
       "    <tr>\n",
       "      <th>three</th>\n",
       "      <td>0.645153</td>\n",
       "      <td>0.188640</td>\n",
       "    </tr>\n",
       "    <tr>\n",
       "      <th>two</th>\n",
       "      <td>0.827255</td>\n",
       "      <td>0.112989</td>\n",
       "    </tr>\n",
       "    <tr>\n",
       "      <th rowspan=\"3\" valign=\"top\">foo</th>\n",
       "      <th>one</th>\n",
       "      <td>0.539322</td>\n",
       "      <td>0.920098</td>\n",
       "    </tr>\n",
       "    <tr>\n",
       "      <th>three</th>\n",
       "      <td>0.690906</td>\n",
       "      <td>0.452875</td>\n",
       "    </tr>\n",
       "    <tr>\n",
       "      <th>two</th>\n",
       "      <td>0.514683</td>\n",
       "      <td>1.242537</td>\n",
       "    </tr>\n",
       "  </tbody>\n",
       "</table>\n",
       "</div>"
      ],
      "text/plain": [
       "                  C         D\n",
       "A   B                        \n",
       "bar one    0.266842  0.360041\n",
       "    three  0.645153  0.188640\n",
       "    two    0.827255  0.112989\n",
       "foo one    0.539322  0.920098\n",
       "    three  0.690906  0.452875\n",
       "    two    0.514683  1.242537"
      ]
     },
     "execution_count": 88,
     "metadata": {},
     "output_type": "execute_result"
    }
   ],
   "source": [
    "df.groupby(['A', 'B']).sum()"
   ]
  },
  {
   "cell_type": "markdown",
   "metadata": {},
   "source": [
    "---\n",
    "\n",
    "## 8.Reshaping\n",
    "\n",
    "详情请参阅 [Hierarchical Indexing](http://pandas.pydata.org/pandas-docs/stable/advanced.html#advanced-hierarchical)、[Reshaping](http://pandas.pydata.org/pandas-docs/stable/reshaping.html#reshaping-stacking)"
   ]
  },
  {
   "cell_type": "markdown",
   "metadata": {},
   "source": [
    "### Stack"
   ]
  },
  {
   "cell_type": "code",
   "execution_count": 90,
   "metadata": {},
   "outputs": [
    {
     "data": {
      "text/html": [
       "<div>\n",
       "<style>\n",
       "    .dataframe thead tr:only-child th {\n",
       "        text-align: right;\n",
       "    }\n",
       "\n",
       "    .dataframe thead th {\n",
       "        text-align: left;\n",
       "    }\n",
       "\n",
       "    .dataframe tbody tr th {\n",
       "        vertical-align: top;\n",
       "    }\n",
       "</style>\n",
       "<table border=\"1\" class=\"dataframe\">\n",
       "  <thead>\n",
       "    <tr style=\"text-align: right;\">\n",
       "      <th></th>\n",
       "      <th></th>\n",
       "      <th>A</th>\n",
       "      <th>B</th>\n",
       "    </tr>\n",
       "    <tr>\n",
       "      <th>first</th>\n",
       "      <th>second</th>\n",
       "      <th></th>\n",
       "      <th></th>\n",
       "    </tr>\n",
       "  </thead>\n",
       "  <tbody>\n",
       "    <tr>\n",
       "      <th rowspan=\"2\" valign=\"top\">bar</th>\n",
       "      <th>one</th>\n",
       "      <td>0.637096</td>\n",
       "      <td>0.423704</td>\n",
       "    </tr>\n",
       "    <tr>\n",
       "      <th>two</th>\n",
       "      <td>0.409155</td>\n",
       "      <td>0.729476</td>\n",
       "    </tr>\n",
       "    <tr>\n",
       "      <th rowspan=\"2\" valign=\"top\">baz</th>\n",
       "      <th>one</th>\n",
       "      <td>0.502500</td>\n",
       "      <td>0.498543</td>\n",
       "    </tr>\n",
       "    <tr>\n",
       "      <th>two</th>\n",
       "      <td>0.645196</td>\n",
       "      <td>0.741601</td>\n",
       "    </tr>\n",
       "  </tbody>\n",
       "</table>\n",
       "</div>"
      ],
      "text/plain": [
       "                     A         B\n",
       "first second                    \n",
       "bar   one     0.637096  0.423704\n",
       "      two     0.409155  0.729476\n",
       "baz   one     0.502500  0.498543\n",
       "      two     0.645196  0.741601"
      ]
     },
     "execution_count": 90,
     "metadata": {},
     "output_type": "execute_result"
    }
   ],
   "source": [
    "tuples = list(zip(*[['bar', 'bar', 'baz', 'baz', 'foo', 'foo', 'qux', 'qux'],\n",
    "                     ['one', 'two', 'one', 'two', 'one', 'two', 'one', 'two']]))\n",
    "index = pd.MultiIndex.from_tuples(tuples, names=['first', 'second'])\n",
    "df = pd.DataFrame(np.random.rand(8, 2), index=index, columns=['A', 'B'])\n",
    "df2 = df[:4]\n",
    "df2"
   ]
  },
  {
   "cell_type": "code",
   "execution_count": 91,
   "metadata": {},
   "outputs": [
    {
     "data": {
      "text/plain": [
       "first  second   \n",
       "bar    one     A    0.637096\n",
       "               B    0.423704\n",
       "       two     A    0.409155\n",
       "               B    0.729476\n",
       "baz    one     A    0.502500\n",
       "               B    0.498543\n",
       "       two     A    0.645196\n",
       "               B    0.741601\n",
       "dtype: float64"
      ]
     },
     "execution_count": 91,
     "metadata": {},
     "output_type": "execute_result"
    }
   ],
   "source": [
    "stacked = df2.stack()\n",
    "stacked"
   ]
  },
  {
   "cell_type": "code",
   "execution_count": 93,
   "metadata": {},
   "outputs": [
    {
     "data": {
      "text/html": [
       "<div>\n",
       "<style>\n",
       "    .dataframe thead tr:only-child th {\n",
       "        text-align: right;\n",
       "    }\n",
       "\n",
       "    .dataframe thead th {\n",
       "        text-align: left;\n",
       "    }\n",
       "\n",
       "    .dataframe tbody tr th {\n",
       "        vertical-align: top;\n",
       "    }\n",
       "</style>\n",
       "<table border=\"1\" class=\"dataframe\">\n",
       "  <thead>\n",
       "    <tr style=\"text-align: right;\">\n",
       "      <th></th>\n",
       "      <th></th>\n",
       "      <th>A</th>\n",
       "      <th>B</th>\n",
       "    </tr>\n",
       "    <tr>\n",
       "      <th>first</th>\n",
       "      <th>second</th>\n",
       "      <th></th>\n",
       "      <th></th>\n",
       "    </tr>\n",
       "  </thead>\n",
       "  <tbody>\n",
       "    <tr>\n",
       "      <th rowspan=\"2\" valign=\"top\">bar</th>\n",
       "      <th>one</th>\n",
       "      <td>0.637096</td>\n",
       "      <td>0.423704</td>\n",
       "    </tr>\n",
       "    <tr>\n",
       "      <th>two</th>\n",
       "      <td>0.409155</td>\n",
       "      <td>0.729476</td>\n",
       "    </tr>\n",
       "    <tr>\n",
       "      <th rowspan=\"2\" valign=\"top\">baz</th>\n",
       "      <th>one</th>\n",
       "      <td>0.502500</td>\n",
       "      <td>0.498543</td>\n",
       "    </tr>\n",
       "    <tr>\n",
       "      <th>two</th>\n",
       "      <td>0.645196</td>\n",
       "      <td>0.741601</td>\n",
       "    </tr>\n",
       "  </tbody>\n",
       "</table>\n",
       "</div>"
      ],
      "text/plain": [
       "                     A         B\n",
       "first second                    \n",
       "bar   one     0.637096  0.423704\n",
       "      two     0.409155  0.729476\n",
       "baz   one     0.502500  0.498543\n",
       "      two     0.645196  0.741601"
      ]
     },
     "execution_count": 93,
     "metadata": {},
     "output_type": "execute_result"
    }
   ],
   "source": [
    "stacked.unstack()"
   ]
  },
  {
   "cell_type": "code",
   "execution_count": 95,
   "metadata": {},
   "outputs": [
    {
     "data": {
      "text/html": [
       "<div>\n",
       "<style>\n",
       "    .dataframe thead tr:only-child th {\n",
       "        text-align: right;\n",
       "    }\n",
       "\n",
       "    .dataframe thead th {\n",
       "        text-align: left;\n",
       "    }\n",
       "\n",
       "    .dataframe tbody tr th {\n",
       "        vertical-align: top;\n",
       "    }\n",
       "</style>\n",
       "<table border=\"1\" class=\"dataframe\">\n",
       "  <thead>\n",
       "    <tr style=\"text-align: right;\">\n",
       "      <th></th>\n",
       "      <th>second</th>\n",
       "      <th>one</th>\n",
       "      <th>two</th>\n",
       "    </tr>\n",
       "    <tr>\n",
       "      <th>first</th>\n",
       "      <th></th>\n",
       "      <th></th>\n",
       "      <th></th>\n",
       "    </tr>\n",
       "  </thead>\n",
       "  <tbody>\n",
       "    <tr>\n",
       "      <th rowspan=\"2\" valign=\"top\">bar</th>\n",
       "      <th>A</th>\n",
       "      <td>0.637096</td>\n",
       "      <td>0.409155</td>\n",
       "    </tr>\n",
       "    <tr>\n",
       "      <th>B</th>\n",
       "      <td>0.423704</td>\n",
       "      <td>0.729476</td>\n",
       "    </tr>\n",
       "    <tr>\n",
       "      <th rowspan=\"2\" valign=\"top\">baz</th>\n",
       "      <th>A</th>\n",
       "      <td>0.502500</td>\n",
       "      <td>0.645196</td>\n",
       "    </tr>\n",
       "    <tr>\n",
       "      <th>B</th>\n",
       "      <td>0.498543</td>\n",
       "      <td>0.741601</td>\n",
       "    </tr>\n",
       "  </tbody>\n",
       "</table>\n",
       "</div>"
      ],
      "text/plain": [
       "second        one       two\n",
       "first                      \n",
       "bar   A  0.637096  0.409155\n",
       "      B  0.423704  0.729476\n",
       "baz   A  0.502500  0.645196\n",
       "      B  0.498543  0.741601"
      ]
     },
     "execution_count": 95,
     "metadata": {},
     "output_type": "execute_result"
    }
   ],
   "source": [
    "stacked.unstack(1)"
   ]
  },
  {
   "cell_type": "code",
   "execution_count": 96,
   "metadata": {},
   "outputs": [
    {
     "data": {
      "text/html": [
       "<div>\n",
       "<style>\n",
       "    .dataframe thead tr:only-child th {\n",
       "        text-align: right;\n",
       "    }\n",
       "\n",
       "    .dataframe thead th {\n",
       "        text-align: left;\n",
       "    }\n",
       "\n",
       "    .dataframe tbody tr th {\n",
       "        vertical-align: top;\n",
       "    }\n",
       "</style>\n",
       "<table border=\"1\" class=\"dataframe\">\n",
       "  <thead>\n",
       "    <tr style=\"text-align: right;\">\n",
       "      <th></th>\n",
       "      <th>first</th>\n",
       "      <th>bar</th>\n",
       "      <th>baz</th>\n",
       "    </tr>\n",
       "    <tr>\n",
       "      <th>second</th>\n",
       "      <th></th>\n",
       "      <th></th>\n",
       "      <th></th>\n",
       "    </tr>\n",
       "  </thead>\n",
       "  <tbody>\n",
       "    <tr>\n",
       "      <th rowspan=\"2\" valign=\"top\">one</th>\n",
       "      <th>A</th>\n",
       "      <td>0.637096</td>\n",
       "      <td>0.502500</td>\n",
       "    </tr>\n",
       "    <tr>\n",
       "      <th>B</th>\n",
       "      <td>0.423704</td>\n",
       "      <td>0.498543</td>\n",
       "    </tr>\n",
       "    <tr>\n",
       "      <th rowspan=\"2\" valign=\"top\">two</th>\n",
       "      <th>A</th>\n",
       "      <td>0.409155</td>\n",
       "      <td>0.645196</td>\n",
       "    </tr>\n",
       "    <tr>\n",
       "      <th>B</th>\n",
       "      <td>0.729476</td>\n",
       "      <td>0.741601</td>\n",
       "    </tr>\n",
       "  </tbody>\n",
       "</table>\n",
       "</div>"
      ],
      "text/plain": [
       "first          bar       baz\n",
       "second                      \n",
       "one    A  0.637096  0.502500\n",
       "       B  0.423704  0.498543\n",
       "two    A  0.409155  0.645196\n",
       "       B  0.729476  0.741601"
      ]
     },
     "execution_count": 96,
     "metadata": {},
     "output_type": "execute_result"
    }
   ],
   "source": [
    "stacked.unstack(0)"
   ]
  },
  {
   "cell_type": "markdown",
   "metadata": {},
   "source": [
    "数据透视表，详情请参阅：[Pivot Tables](http://pandas.pydata.org/pandas-docs/stable/reshaping.html#reshaping-pivot)"
   ]
  },
  {
   "cell_type": "code",
   "execution_count": 102,
   "metadata": {},
   "outputs": [
    {
     "data": {
      "text/html": [
       "<div>\n",
       "<style>\n",
       "    .dataframe thead tr:only-child th {\n",
       "        text-align: right;\n",
       "    }\n",
       "\n",
       "    .dataframe thead th {\n",
       "        text-align: left;\n",
       "    }\n",
       "\n",
       "    .dataframe tbody tr th {\n",
       "        vertical-align: top;\n",
       "    }\n",
       "</style>\n",
       "<table border=\"1\" class=\"dataframe\">\n",
       "  <thead>\n",
       "    <tr style=\"text-align: right;\">\n",
       "      <th></th>\n",
       "      <th>A</th>\n",
       "      <th>B</th>\n",
       "      <th>C</th>\n",
       "      <th>D</th>\n",
       "      <th>E</th>\n",
       "    </tr>\n",
       "  </thead>\n",
       "  <tbody>\n",
       "    <tr>\n",
       "      <th>0</th>\n",
       "      <td>one</td>\n",
       "      <td>A</td>\n",
       "      <td>foo</td>\n",
       "      <td>0.688653</td>\n",
       "      <td>-0.849295</td>\n",
       "    </tr>\n",
       "    <tr>\n",
       "      <th>1</th>\n",
       "      <td>one</td>\n",
       "      <td>B</td>\n",
       "      <td>foo</td>\n",
       "      <td>-0.748180</td>\n",
       "      <td>-1.411194</td>\n",
       "    </tr>\n",
       "    <tr>\n",
       "      <th>2</th>\n",
       "      <td>two</td>\n",
       "      <td>C</td>\n",
       "      <td>foo</td>\n",
       "      <td>-1.182862</td>\n",
       "      <td>-2.824995</td>\n",
       "    </tr>\n",
       "    <tr>\n",
       "      <th>3</th>\n",
       "      <td>three</td>\n",
       "      <td>A</td>\n",
       "      <td>bar</td>\n",
       "      <td>-0.957041</td>\n",
       "      <td>2.536881</td>\n",
       "    </tr>\n",
       "    <tr>\n",
       "      <th>4</th>\n",
       "      <td>one</td>\n",
       "      <td>B</td>\n",
       "      <td>bar</td>\n",
       "      <td>-0.533673</td>\n",
       "      <td>-0.529721</td>\n",
       "    </tr>\n",
       "    <tr>\n",
       "      <th>5</th>\n",
       "      <td>one</td>\n",
       "      <td>C</td>\n",
       "      <td>bar</td>\n",
       "      <td>-1.022814</td>\n",
       "      <td>0.089230</td>\n",
       "    </tr>\n",
       "    <tr>\n",
       "      <th>6</th>\n",
       "      <td>two</td>\n",
       "      <td>A</td>\n",
       "      <td>foo</td>\n",
       "      <td>-0.399182</td>\n",
       "      <td>1.916024</td>\n",
       "    </tr>\n",
       "    <tr>\n",
       "      <th>7</th>\n",
       "      <td>three</td>\n",
       "      <td>B</td>\n",
       "      <td>foo</td>\n",
       "      <td>-1.118349</td>\n",
       "      <td>0.882671</td>\n",
       "    </tr>\n",
       "    <tr>\n",
       "      <th>8</th>\n",
       "      <td>one</td>\n",
       "      <td>C</td>\n",
       "      <td>foo</td>\n",
       "      <td>0.171156</td>\n",
       "      <td>-1.835601</td>\n",
       "    </tr>\n",
       "    <tr>\n",
       "      <th>9</th>\n",
       "      <td>one</td>\n",
       "      <td>A</td>\n",
       "      <td>bar</td>\n",
       "      <td>1.460249</td>\n",
       "      <td>-0.078151</td>\n",
       "    </tr>\n",
       "    <tr>\n",
       "      <th>10</th>\n",
       "      <td>two</td>\n",
       "      <td>B</td>\n",
       "      <td>bar</td>\n",
       "      <td>-0.096413</td>\n",
       "      <td>-0.148220</td>\n",
       "    </tr>\n",
       "    <tr>\n",
       "      <th>11</th>\n",
       "      <td>three</td>\n",
       "      <td>C</td>\n",
       "      <td>bar</td>\n",
       "      <td>-1.092440</td>\n",
       "      <td>-0.698543</td>\n",
       "    </tr>\n",
       "  </tbody>\n",
       "</table>\n",
       "</div>"
      ],
      "text/plain": [
       "        A  B    C         D         E\n",
       "0     one  A  foo  0.688653 -0.849295\n",
       "1     one  B  foo -0.748180 -1.411194\n",
       "2     two  C  foo -1.182862 -2.824995\n",
       "3   three  A  bar -0.957041  2.536881\n",
       "4     one  B  bar -0.533673 -0.529721\n",
       "5     one  C  bar -1.022814  0.089230\n",
       "6     two  A  foo -0.399182  1.916024\n",
       "7   three  B  foo -1.118349  0.882671\n",
       "8     one  C  foo  0.171156 -1.835601\n",
       "9     one  A  bar  1.460249 -0.078151\n",
       "10    two  B  bar -0.096413 -0.148220\n",
       "11  three  C  bar -1.092440 -0.698543"
      ]
     },
     "execution_count": 102,
     "metadata": {},
     "output_type": "execute_result"
    }
   ],
   "source": [
    "df = pd.DataFrame({'A' : ['one', 'one', 'two', 'three'] * 3,\n",
    "                   'B' : ['A', 'B', 'C'] * 4,\n",
    "                   'C' : ['foo', 'foo', 'foo', 'bar', 'bar', 'bar'] * 2,\n",
    "                   'D' : np.random.randn(12),\n",
    "                   'E' : np.random.randn(12)})\n",
    "df"
   ]
  },
  {
   "cell_type": "markdown",
   "metadata": {},
   "source": [
    "可以从这个数据中轻松的生成数据透视表："
   ]
  },
  {
   "cell_type": "code",
   "execution_count": 104,
   "metadata": {},
   "outputs": [
    {
     "data": {
      "text/html": [
       "<div>\n",
       "<style>\n",
       "    .dataframe thead tr:only-child th {\n",
       "        text-align: right;\n",
       "    }\n",
       "\n",
       "    .dataframe thead th {\n",
       "        text-align: left;\n",
       "    }\n",
       "\n",
       "    .dataframe tbody tr th {\n",
       "        vertical-align: top;\n",
       "    }\n",
       "</style>\n",
       "<table border=\"1\" class=\"dataframe\">\n",
       "  <thead>\n",
       "    <tr style=\"text-align: right;\">\n",
       "      <th></th>\n",
       "      <th>C</th>\n",
       "      <th>bar</th>\n",
       "      <th>foo</th>\n",
       "    </tr>\n",
       "    <tr>\n",
       "      <th>A</th>\n",
       "      <th>B</th>\n",
       "      <th></th>\n",
       "      <th></th>\n",
       "    </tr>\n",
       "  </thead>\n",
       "  <tbody>\n",
       "    <tr>\n",
       "      <th rowspan=\"3\" valign=\"top\">one</th>\n",
       "      <th>A</th>\n",
       "      <td>1.460249</td>\n",
       "      <td>0.688653</td>\n",
       "    </tr>\n",
       "    <tr>\n",
       "      <th>B</th>\n",
       "      <td>-0.533673</td>\n",
       "      <td>-0.748180</td>\n",
       "    </tr>\n",
       "    <tr>\n",
       "      <th>C</th>\n",
       "      <td>-1.022814</td>\n",
       "      <td>0.171156</td>\n",
       "    </tr>\n",
       "    <tr>\n",
       "      <th rowspan=\"3\" valign=\"top\">three</th>\n",
       "      <th>A</th>\n",
       "      <td>-0.957041</td>\n",
       "      <td>NaN</td>\n",
       "    </tr>\n",
       "    <tr>\n",
       "      <th>B</th>\n",
       "      <td>NaN</td>\n",
       "      <td>-1.118349</td>\n",
       "    </tr>\n",
       "    <tr>\n",
       "      <th>C</th>\n",
       "      <td>-1.092440</td>\n",
       "      <td>NaN</td>\n",
       "    </tr>\n",
       "    <tr>\n",
       "      <th rowspan=\"3\" valign=\"top\">two</th>\n",
       "      <th>A</th>\n",
       "      <td>NaN</td>\n",
       "      <td>-0.399182</td>\n",
       "    </tr>\n",
       "    <tr>\n",
       "      <th>B</th>\n",
       "      <td>-0.096413</td>\n",
       "      <td>NaN</td>\n",
       "    </tr>\n",
       "    <tr>\n",
       "      <th>C</th>\n",
       "      <td>NaN</td>\n",
       "      <td>-1.182862</td>\n",
       "    </tr>\n",
       "  </tbody>\n",
       "</table>\n",
       "</div>"
      ],
      "text/plain": [
       "C             bar       foo\n",
       "A     B                    \n",
       "one   A  1.460249  0.688653\n",
       "      B -0.533673 -0.748180\n",
       "      C -1.022814  0.171156\n",
       "three A -0.957041       NaN\n",
       "      B       NaN -1.118349\n",
       "      C -1.092440       NaN\n",
       "two   A       NaN -0.399182\n",
       "      B -0.096413       NaN\n",
       "      C       NaN -1.182862"
      ]
     },
     "execution_count": 104,
     "metadata": {},
     "output_type": "execute_result"
    }
   ],
   "source": [
    "pd.pivot_table(df, values='D', index=['A', 'B'], columns=['C'])"
   ]
  },
  {
   "cell_type": "markdown",
   "metadata": {},
   "source": [
    "---\n",
    "\n",
    "## 9.时间序列\n",
    "\n",
    "Pandas在对频率转换进行重新采样时拥有简单、强大且高效的功能（如将按秒采样的数据转换为按5分钟为单位进行采样的数据）。这种操作在金融领域非常常见。\n",
    "\n",
    "具体参考：[Time Series section](http://pandas.pydata.org/pandas-docs/stable/timeseries.html#timeseries)"
   ]
  },
  {
   "cell_type": "code",
   "execution_count": 108,
   "metadata": {},
   "outputs": [
    {
     "data": {
      "text/plain": [
       "2012-01-01    25521\n",
       "Freq: 5T, dtype: int32"
      ]
     },
     "execution_count": 108,
     "metadata": {},
     "output_type": "execute_result"
    }
   ],
   "source": [
    "rng = pd.date_range('1/1/2012', periods=100, freq='S')\n",
    "ts = pd.Series(np.random.randint(0, 500, len(rng)), index=rng)\n",
    "ts.resample('5Min').sum()"
   ]
  },
  {
   "cell_type": "markdown",
   "metadata": {},
   "source": [
    "时区表示："
   ]
  },
  {
   "cell_type": "code",
   "execution_count": 109,
   "metadata": {},
   "outputs": [
    {
     "data": {
      "text/plain": [
       "2012-03-06   -0.143970\n",
       "2012-03-07   -0.455957\n",
       "2012-03-08   -0.654060\n",
       "2012-03-09   -0.142278\n",
       "2012-03-10   -1.021148\n",
       "Freq: D, dtype: float64"
      ]
     },
     "execution_count": 109,
     "metadata": {},
     "output_type": "execute_result"
    }
   ],
   "source": [
    "rng = pd.date_range('3/6/2012 00:00', periods=5, freq='D')\n",
    "ts = pd.Series(np.random.randn(len(rng)), rng)\n",
    "ts"
   ]
  },
  {
   "cell_type": "code",
   "execution_count": 111,
   "metadata": {},
   "outputs": [
    {
     "data": {
      "text/plain": [
       "2012-03-06 00:00:00+00:00   -0.143970\n",
       "2012-03-07 00:00:00+00:00   -0.455957\n",
       "2012-03-08 00:00:00+00:00   -0.654060\n",
       "2012-03-09 00:00:00+00:00   -0.142278\n",
       "2012-03-10 00:00:00+00:00   -1.021148\n",
       "Freq: D, dtype: float64"
      ]
     },
     "execution_count": 111,
     "metadata": {},
     "output_type": "execute_result"
    }
   ],
   "source": [
    "ts_utc = ts.tz_localize('UTC')\n",
    "ts_utc"
   ]
  },
  {
   "cell_type": "markdown",
   "metadata": {},
   "source": [
    "时区转换："
   ]
  },
  {
   "cell_type": "code",
   "execution_count": 112,
   "metadata": {},
   "outputs": [
    {
     "data": {
      "text/plain": [
       "2012-03-05 19:00:00-05:00   -0.143970\n",
       "2012-03-06 19:00:00-05:00   -0.455957\n",
       "2012-03-07 19:00:00-05:00   -0.654060\n",
       "2012-03-08 19:00:00-05:00   -0.142278\n",
       "2012-03-09 19:00:00-05:00   -1.021148\n",
       "Freq: D, dtype: float64"
      ]
     },
     "execution_count": 112,
     "metadata": {},
     "output_type": "execute_result"
    }
   ],
   "source": [
    "ts_utc.tz_convert('US/Eastern')"
   ]
  },
  {
   "cell_type": "markdown",
   "metadata": {},
   "source": [
    "时间跨度转换："
   ]
  },
  {
   "cell_type": "code",
   "execution_count": 114,
   "metadata": {},
   "outputs": [
    {
     "data": {
      "text/plain": [
       "2012-01-31   -0.381908\n",
       "2012-02-29    1.119017\n",
       "2012-03-31   -0.571456\n",
       "2012-04-30    1.601391\n",
       "2012-05-31    0.168860\n",
       "Freq: M, dtype: float64"
      ]
     },
     "execution_count": 114,
     "metadata": {},
     "output_type": "execute_result"
    }
   ],
   "source": [
    "rng = pd.date_range('1/1/2012', periods=5,freq='M')\n",
    "ts = pd.Series(np.random.randn(len(rng)), index=rng)\n",
    "ts"
   ]
  },
  {
   "cell_type": "code",
   "execution_count": 115,
   "metadata": {},
   "outputs": [
    {
     "data": {
      "text/plain": [
       "2012-01   -0.381908\n",
       "2012-02    1.119017\n",
       "2012-03   -0.571456\n",
       "2012-04    1.601391\n",
       "2012-05    0.168860\n",
       "Freq: M, dtype: float64"
      ]
     },
     "execution_count": 115,
     "metadata": {},
     "output_type": "execute_result"
    }
   ],
   "source": [
    "ps = ts.to_period()\n",
    "ps"
   ]
  },
  {
   "cell_type": "code",
   "execution_count": 116,
   "metadata": {},
   "outputs": [
    {
     "data": {
      "text/plain": [
       "2012-01-01   -0.381908\n",
       "2012-02-01    1.119017\n",
       "2012-03-01   -0.571456\n",
       "2012-04-01    1.601391\n",
       "2012-05-01    0.168860\n",
       "Freq: MS, dtype: float64"
      ]
     },
     "execution_count": 116,
     "metadata": {},
     "output_type": "execute_result"
    }
   ],
   "source": [
    "ps.to_timestamp()"
   ]
  },
  {
   "cell_type": "markdown",
   "metadata": {},
   "source": [
    "时期和时间戳之间的转换使得可以使用一些方便的算术函数。"
   ]
  },
  {
   "cell_type": "code",
   "execution_count": 117,
   "metadata": {},
   "outputs": [
    {
     "data": {
      "text/plain": [
       "1990Q1    0.414536\n",
       "1990Q2    0.559000\n",
       "1990Q3    0.228074\n",
       "1990Q4    0.216711\n",
       "1991Q1    0.707076\n",
       "Freq: Q-NOV, dtype: float64"
      ]
     },
     "execution_count": 117,
     "metadata": {},
     "output_type": "execute_result"
    }
   ],
   "source": [
    "prng = pd.period_range('1990Q1', '2000Q4', freq='Q-NOV')\n",
    "ts = pd.Series(np.random.rand(len(prng)), prng)\n",
    "ts.head()"
   ]
  },
  {
   "cell_type": "markdown",
   "metadata": {},
   "source": [
    "---\n",
    "\n",
    "## 10.Categorical\n",
    "\n",
    "从0.15版本开始，pandas可以在DataFrame中支持Categorical类型的数据，\n",
    "\n",
    "详细介绍参看：[categorical introduction](http://pandas.pydata.org/pandas-docs/stable/categorical.html#categorical)、[API documentation](http://pandas.pydata.org/pandas-docs/stable/api.html#api-categorical)"
   ]
  },
  {
   "cell_type": "code",
   "execution_count": 118,
   "metadata": {
    "collapsed": true
   },
   "outputs": [],
   "source": [
    "df = pd.DataFrame({\"id\" : [1, 2, 3, 4, 5, 6], \"raw_grade\" : ['a', 'b', 'b', 'a', 'a', 'e']})"
   ]
  },
  {
   "cell_type": "markdown",
   "metadata": {},
   "source": [
    "将原始的grade转换为Categorical数据类型："
   ]
  },
  {
   "cell_type": "code",
   "execution_count": 119,
   "metadata": {},
   "outputs": [
    {
     "data": {
      "text/plain": [
       "0    a\n",
       "1    b\n",
       "2    b\n",
       "3    a\n",
       "4    a\n",
       "5    e\n",
       "Name: grade, dtype: category\n",
       "Categories (3, object): [a, b, e]"
      ]
     },
     "execution_count": 119,
     "metadata": {},
     "output_type": "execute_result"
    }
   ],
   "source": [
    "df[\"grade\"] = df[\"raw_grade\"].astype(\"category\")\n",
    "df[\"grade\"]"
   ]
  },
  {
   "cell_type": "markdown",
   "metadata": {},
   "source": [
    "将Categorical类型数据重命名为更有意义的名称："
   ]
  },
  {
   "cell_type": "code",
   "execution_count": 121,
   "metadata": {},
   "outputs": [
    {
     "data": {
      "text/plain": [
       "0    very good\n",
       "1         good\n",
       "2         good\n",
       "3    very good\n",
       "4    very good\n",
       "5     very bad\n",
       "Name: grade, dtype: category\n",
       "Categories (3, object): [very good, good, very bad]"
      ]
     },
     "execution_count": 121,
     "metadata": {},
     "output_type": "execute_result"
    }
   ],
   "source": [
    "df[\"grade\"].cat.categories = [\"very good\", \"good\", \"very bad\"]\n",
    "df[\"grade\"]"
   ]
  },
  {
   "cell_type": "markdown",
   "metadata": {},
   "source": [
    "对类别进行重新排序，增加缺失的类别："
   ]
  },
  {
   "cell_type": "code",
   "execution_count": 124,
   "metadata": {},
   "outputs": [
    {
     "data": {
      "text/plain": [
       "0         NaN\n",
       "1        good\n",
       "2        good\n",
       "3         NaN\n",
       "4         NaN\n",
       "5    very bad\n",
       "Name: grade, dtype: category\n",
       "Categories (4, object): [very bad, bad, medium, good]"
      ]
     },
     "execution_count": 124,
     "metadata": {},
     "output_type": "execute_result"
    }
   ],
   "source": [
    "df[\"grade\"] = df[\"grade\"].cat.set_categories([\"very bad\", \"bad\", \"medium\", \"good\"])\n",
    "df[\"grade\"]"
   ]
  },
  {
   "cell_type": "markdown",
   "metadata": {},
   "source": [
    "排序是按照Categorical的顺序进行的而不是按照字典顺序进行："
   ]
  },
  {
   "cell_type": "code",
   "execution_count": 126,
   "metadata": {},
   "outputs": [
    {
     "data": {
      "text/html": [
       "<div>\n",
       "<style>\n",
       "    .dataframe thead tr:only-child th {\n",
       "        text-align: right;\n",
       "    }\n",
       "\n",
       "    .dataframe thead th {\n",
       "        text-align: left;\n",
       "    }\n",
       "\n",
       "    .dataframe tbody tr th {\n",
       "        vertical-align: top;\n",
       "    }\n",
       "</style>\n",
       "<table border=\"1\" class=\"dataframe\">\n",
       "  <thead>\n",
       "    <tr style=\"text-align: right;\">\n",
       "      <th></th>\n",
       "      <th>id</th>\n",
       "      <th>raw_grade</th>\n",
       "      <th>grade</th>\n",
       "    </tr>\n",
       "  </thead>\n",
       "  <tbody>\n",
       "    <tr>\n",
       "      <th>0</th>\n",
       "      <td>1</td>\n",
       "      <td>a</td>\n",
       "      <td>NaN</td>\n",
       "    </tr>\n",
       "    <tr>\n",
       "      <th>3</th>\n",
       "      <td>4</td>\n",
       "      <td>a</td>\n",
       "      <td>NaN</td>\n",
       "    </tr>\n",
       "    <tr>\n",
       "      <th>4</th>\n",
       "      <td>5</td>\n",
       "      <td>a</td>\n",
       "      <td>NaN</td>\n",
       "    </tr>\n",
       "    <tr>\n",
       "      <th>5</th>\n",
       "      <td>6</td>\n",
       "      <td>e</td>\n",
       "      <td>very bad</td>\n",
       "    </tr>\n",
       "    <tr>\n",
       "      <th>1</th>\n",
       "      <td>2</td>\n",
       "      <td>b</td>\n",
       "      <td>good</td>\n",
       "    </tr>\n",
       "    <tr>\n",
       "      <th>2</th>\n",
       "      <td>3</td>\n",
       "      <td>b</td>\n",
       "      <td>good</td>\n",
       "    </tr>\n",
       "  </tbody>\n",
       "</table>\n",
       "</div>"
      ],
      "text/plain": [
       "   id raw_grade     grade\n",
       "0   1         a       NaN\n",
       "3   4         a       NaN\n",
       "4   5         a       NaN\n",
       "5   6         e  very bad\n",
       "1   2         b      good\n",
       "2   3         b      good"
      ]
     },
     "execution_count": 126,
     "metadata": {},
     "output_type": "execute_result"
    }
   ],
   "source": [
    "df.sort_values(\"grade\")"
   ]
  },
  {
   "cell_type": "markdown",
   "metadata": {},
   "source": [
    "对Categorical列进行排序时存在空的类别："
   ]
  },
  {
   "cell_type": "code",
   "execution_count": 128,
   "metadata": {},
   "outputs": [
    {
     "data": {
      "text/plain": [
       "grade\n",
       "very bad    1\n",
       "bad         0\n",
       "medium      0\n",
       "good        2\n",
       "dtype: int64"
      ]
     },
     "execution_count": 128,
     "metadata": {},
     "output_type": "execute_result"
    }
   ],
   "source": [
    "df.groupby(\"grade\").size()"
   ]
  },
  {
   "cell_type": "markdown",
   "metadata": {},
   "source": [
    "---\n",
    "\n",
    "## 11.画图\n",
    "\n",
    "具体文档参看：[Plotting docs](http://pandas.pydata.org/pandas-docs/stable/visualization.html#visualization)"
   ]
  },
  {
   "cell_type": "code",
   "execution_count": 131,
   "metadata": {},
   "outputs": [
    {
     "data": {
      "text/plain": [
       "<matplotlib.axes._subplots.AxesSubplot at 0xbb2f550>"
      ]
     },
     "execution_count": 131,
     "metadata": {},
     "output_type": "execute_result"
    }
   ],
   "source": [
    "ts = pd.Series(np.random.randn(1000), index=pd.date_range('1/1/2000', periods=1000))\n",
    "ts = ts.cumsum()\n",
    "ts.plot()"
   ]
  },
  {
   "cell_type": "markdown",
   "metadata": {},
   "source": [
    "对于DataFrame来说，plot是一种将所有列及其标签进行绘制的简便方法："
   ]
  },
  {
   "cell_type": "code",
   "execution_count": 132,
   "metadata": {},
   "outputs": [
    {
     "data": {
      "text/plain": [
       "<matplotlib.legend.Legend at 0xc48b8d0>"
      ]
     },
     "execution_count": 132,
     "metadata": {},
     "output_type": "execute_result"
    }
   ],
   "source": [
    "df = pd.DataFrame(np.random.rand(1000, 4), index=ts.index, columns=['A', 'B', 'C', 'D'])\n",
    "df = df.cumsum()\n",
    "plt.figure(); df.plot(); plt.legend(loc='best')"
   ]
  },
  {
   "cell_type": "code",
   "execution_count": 133,
   "metadata": {},
   "outputs": [
    {
     "data": {
      "text/plain": [
       "<matplotlib.legend.Legend at 0xbf39c50>"
      ]
     },
     "execution_count": 133,
     "metadata": {},
     "output_type": "execute_result"
    }
   ],
   "source": [
    "df = pd.DataFrame(np.random.randn(1000, 4), index=ts.index, columns=['A', 'B', 'C', 'D'])\n",
    "df = df.cumsum()\n",
    "plt.figure(); df.plot(); plt.legend(loc='best')"
   ]
  },
  {
   "cell_type": "markdown",
   "metadata": {},
   "source": [
    "---\n",
    "\n",
    "## 12.导入和保存数据\n",
    "\n",
    "- CSV： 参考 [Writing to a csv file](http://pandas.pydata.org/pandas-docs/stable/io.html#io-store-in-csv)"
   ]
  },
  {
   "cell_type": "markdown",
   "metadata": {},
   "source": [
    "写入csv文件："
   ]
  },
  {
   "cell_type": "code",
   "execution_count": 134,
   "metadata": {
    "collapsed": true
   },
   "outputs": [],
   "source": [
    "df.to_csv('foo.csv')"
   ]
  },
  {
   "cell_type": "markdown",
   "metadata": {},
   "source": [
    "从csv文件中读取："
   ]
  },
  {
   "cell_type": "code",
   "execution_count": 135,
   "metadata": {},
   "outputs": [
    {
     "data": {
      "text/html": [
       "<div>\n",
       "<style>\n",
       "    .dataframe thead tr:only-child th {\n",
       "        text-align: right;\n",
       "    }\n",
       "\n",
       "    .dataframe thead th {\n",
       "        text-align: left;\n",
       "    }\n",
       "\n",
       "    .dataframe tbody tr th {\n",
       "        vertical-align: top;\n",
       "    }\n",
       "</style>\n",
       "<table border=\"1\" class=\"dataframe\">\n",
       "  <thead>\n",
       "    <tr style=\"text-align: right;\">\n",
       "      <th></th>\n",
       "      <th>Unnamed: 0</th>\n",
       "      <th>A</th>\n",
       "      <th>B</th>\n",
       "      <th>C</th>\n",
       "      <th>D</th>\n",
       "    </tr>\n",
       "  </thead>\n",
       "  <tbody>\n",
       "    <tr>\n",
       "      <th>0</th>\n",
       "      <td>2000-01-01</td>\n",
       "      <td>1.082907</td>\n",
       "      <td>-0.325267</td>\n",
       "      <td>1.501412</td>\n",
       "      <td>0.806588</td>\n",
       "    </tr>\n",
       "    <tr>\n",
       "      <th>1</th>\n",
       "      <td>2000-01-02</td>\n",
       "      <td>-0.390239</td>\n",
       "      <td>1.485422</td>\n",
       "      <td>1.637137</td>\n",
       "      <td>-0.287609</td>\n",
       "    </tr>\n",
       "    <tr>\n",
       "      <th>2</th>\n",
       "      <td>2000-01-03</td>\n",
       "      <td>-1.630259</td>\n",
       "      <td>2.181742</td>\n",
       "      <td>0.205632</td>\n",
       "      <td>0.485612</td>\n",
       "    </tr>\n",
       "    <tr>\n",
       "      <th>3</th>\n",
       "      <td>2000-01-04</td>\n",
       "      <td>-0.814284</td>\n",
       "      <td>0.976177</td>\n",
       "      <td>-0.041520</td>\n",
       "      <td>-2.364813</td>\n",
       "    </tr>\n",
       "    <tr>\n",
       "      <th>4</th>\n",
       "      <td>2000-01-05</td>\n",
       "      <td>0.346017</td>\n",
       "      <td>1.823468</td>\n",
       "      <td>0.196548</td>\n",
       "      <td>-2.183941</td>\n",
       "    </tr>\n",
       "    <tr>\n",
       "      <th>5</th>\n",
       "      <td>2000-01-06</td>\n",
       "      <td>0.126223</td>\n",
       "      <td>0.631177</td>\n",
       "      <td>1.162831</td>\n",
       "      <td>-1.669294</td>\n",
       "    </tr>\n",
       "    <tr>\n",
       "      <th>6</th>\n",
       "      <td>2000-01-07</td>\n",
       "      <td>0.420296</td>\n",
       "      <td>0.611453</td>\n",
       "      <td>1.420287</td>\n",
       "      <td>-1.438602</td>\n",
       "    </tr>\n",
       "    <tr>\n",
       "      <th>7</th>\n",
       "      <td>2000-01-08</td>\n",
       "      <td>-1.448791</td>\n",
       "      <td>0.174334</td>\n",
       "      <td>0.909444</td>\n",
       "      <td>0.479558</td>\n",
       "    </tr>\n",
       "    <tr>\n",
       "      <th>8</th>\n",
       "      <td>2000-01-09</td>\n",
       "      <td>-0.726470</td>\n",
       "      <td>0.491716</td>\n",
       "      <td>2.243013</td>\n",
       "      <td>-0.287284</td>\n",
       "    </tr>\n",
       "    <tr>\n",
       "      <th>9</th>\n",
       "      <td>2000-01-10</td>\n",
       "      <td>-2.493253</td>\n",
       "      <td>1.233458</td>\n",
       "      <td>2.696824</td>\n",
       "      <td>-0.098912</td>\n",
       "    </tr>\n",
       "    <tr>\n",
       "      <th>10</th>\n",
       "      <td>2000-01-11</td>\n",
       "      <td>-2.360882</td>\n",
       "      <td>2.448383</td>\n",
       "      <td>0.694195</td>\n",
       "      <td>-0.402914</td>\n",
       "    </tr>\n",
       "    <tr>\n",
       "      <th>11</th>\n",
       "      <td>2000-01-12</td>\n",
       "      <td>-3.317021</td>\n",
       "      <td>1.655499</td>\n",
       "      <td>0.220614</td>\n",
       "      <td>1.081317</td>\n",
       "    </tr>\n",
       "    <tr>\n",
       "      <th>12</th>\n",
       "      <td>2000-01-13</td>\n",
       "      <td>-2.078842</td>\n",
       "      <td>0.526617</td>\n",
       "      <td>1.909355</td>\n",
       "      <td>0.824377</td>\n",
       "    </tr>\n",
       "    <tr>\n",
       "      <th>13</th>\n",
       "      <td>2000-01-14</td>\n",
       "      <td>-0.577502</td>\n",
       "      <td>-2.757631</td>\n",
       "      <td>1.534116</td>\n",
       "      <td>1.825914</td>\n",
       "    </tr>\n",
       "    <tr>\n",
       "      <th>14</th>\n",
       "      <td>2000-01-15</td>\n",
       "      <td>-0.628536</td>\n",
       "      <td>-3.424130</td>\n",
       "      <td>0.428258</td>\n",
       "      <td>1.076253</td>\n",
       "    </tr>\n",
       "    <tr>\n",
       "      <th>15</th>\n",
       "      <td>2000-01-16</td>\n",
       "      <td>-0.386027</td>\n",
       "      <td>-3.407319</td>\n",
       "      <td>-0.660861</td>\n",
       "      <td>-0.499728</td>\n",
       "    </tr>\n",
       "    <tr>\n",
       "      <th>16</th>\n",
       "      <td>2000-01-17</td>\n",
       "      <td>0.093089</td>\n",
       "      <td>-4.282567</td>\n",
       "      <td>0.391214</td>\n",
       "      <td>-1.401088</td>\n",
       "    </tr>\n",
       "    <tr>\n",
       "      <th>17</th>\n",
       "      <td>2000-01-18</td>\n",
       "      <td>-1.814478</td>\n",
       "      <td>-2.994067</td>\n",
       "      <td>-0.086989</td>\n",
       "      <td>-1.515834</td>\n",
       "    </tr>\n",
       "    <tr>\n",
       "      <th>18</th>\n",
       "      <td>2000-01-19</td>\n",
       "      <td>-3.207990</td>\n",
       "      <td>-2.682761</td>\n",
       "      <td>0.304814</td>\n",
       "      <td>-0.395277</td>\n",
       "    </tr>\n",
       "    <tr>\n",
       "      <th>19</th>\n",
       "      <td>2000-01-20</td>\n",
       "      <td>-4.317207</td>\n",
       "      <td>-2.443054</td>\n",
       "      <td>0.462006</td>\n",
       "      <td>-2.139112</td>\n",
       "    </tr>\n",
       "    <tr>\n",
       "      <th>20</th>\n",
       "      <td>2000-01-21</td>\n",
       "      <td>-5.973586</td>\n",
       "      <td>-3.610452</td>\n",
       "      <td>1.302625</td>\n",
       "      <td>-2.240089</td>\n",
       "    </tr>\n",
       "    <tr>\n",
       "      <th>21</th>\n",
       "      <td>2000-01-22</td>\n",
       "      <td>-4.640426</td>\n",
       "      <td>-4.884383</td>\n",
       "      <td>2.037940</td>\n",
       "      <td>-1.600981</td>\n",
       "    </tr>\n",
       "    <tr>\n",
       "      <th>22</th>\n",
       "      <td>2000-01-23</td>\n",
       "      <td>-4.248220</td>\n",
       "      <td>-6.927911</td>\n",
       "      <td>3.497491</td>\n",
       "      <td>-3.671478</td>\n",
       "    </tr>\n",
       "    <tr>\n",
       "      <th>23</th>\n",
       "      <td>2000-01-24</td>\n",
       "      <td>-4.053939</td>\n",
       "      <td>-9.194235</td>\n",
       "      <td>3.996642</td>\n",
       "      <td>-1.591770</td>\n",
       "    </tr>\n",
       "    <tr>\n",
       "      <th>24</th>\n",
       "      <td>2000-01-25</td>\n",
       "      <td>-4.446411</td>\n",
       "      <td>-11.121203</td>\n",
       "      <td>4.572510</td>\n",
       "      <td>-2.457533</td>\n",
       "    </tr>\n",
       "    <tr>\n",
       "      <th>25</th>\n",
       "      <td>2000-01-26</td>\n",
       "      <td>-5.186590</td>\n",
       "      <td>-10.054767</td>\n",
       "      <td>5.703868</td>\n",
       "      <td>-0.717003</td>\n",
       "    </tr>\n",
       "    <tr>\n",
       "      <th>26</th>\n",
       "      <td>2000-01-27</td>\n",
       "      <td>-6.975257</td>\n",
       "      <td>-9.760684</td>\n",
       "      <td>5.103802</td>\n",
       "      <td>-1.817393</td>\n",
       "    </tr>\n",
       "    <tr>\n",
       "      <th>27</th>\n",
       "      <td>2000-01-28</td>\n",
       "      <td>-6.966099</td>\n",
       "      <td>-9.996140</td>\n",
       "      <td>5.439866</td>\n",
       "      <td>-1.993961</td>\n",
       "    </tr>\n",
       "    <tr>\n",
       "      <th>28</th>\n",
       "      <td>2000-01-29</td>\n",
       "      <td>-7.135128</td>\n",
       "      <td>-10.895678</td>\n",
       "      <td>5.820445</td>\n",
       "      <td>-1.662442</td>\n",
       "    </tr>\n",
       "    <tr>\n",
       "      <th>29</th>\n",
       "      <td>2000-01-30</td>\n",
       "      <td>-6.671058</td>\n",
       "      <td>-10.581426</td>\n",
       "      <td>6.590109</td>\n",
       "      <td>-1.590529</td>\n",
       "    </tr>\n",
       "    <tr>\n",
       "      <th>...</th>\n",
       "      <td>...</td>\n",
       "      <td>...</td>\n",
       "      <td>...</td>\n",
       "      <td>...</td>\n",
       "      <td>...</td>\n",
       "    </tr>\n",
       "    <tr>\n",
       "      <th>970</th>\n",
       "      <td>2002-08-28</td>\n",
       "      <td>-24.855846</td>\n",
       "      <td>-64.893788</td>\n",
       "      <td>-51.369954</td>\n",
       "      <td>-14.761095</td>\n",
       "    </tr>\n",
       "    <tr>\n",
       "      <th>971</th>\n",
       "      <td>2002-08-29</td>\n",
       "      <td>-24.133857</td>\n",
       "      <td>-65.711824</td>\n",
       "      <td>-51.455660</td>\n",
       "      <td>-15.987826</td>\n",
       "    </tr>\n",
       "    <tr>\n",
       "      <th>972</th>\n",
       "      <td>2002-08-30</td>\n",
       "      <td>-24.903995</td>\n",
       "      <td>-65.701684</td>\n",
       "      <td>-51.867143</td>\n",
       "      <td>-16.648941</td>\n",
       "    </tr>\n",
       "    <tr>\n",
       "      <th>973</th>\n",
       "      <td>2002-08-31</td>\n",
       "      <td>-26.656935</td>\n",
       "      <td>-66.154515</td>\n",
       "      <td>-50.559595</td>\n",
       "      <td>-16.202978</td>\n",
       "    </tr>\n",
       "    <tr>\n",
       "      <th>974</th>\n",
       "      <td>2002-09-01</td>\n",
       "      <td>-29.013040</td>\n",
       "      <td>-66.200206</td>\n",
       "      <td>-51.096939</td>\n",
       "      <td>-16.823300</td>\n",
       "    </tr>\n",
       "    <tr>\n",
       "      <th>975</th>\n",
       "      <td>2002-09-02</td>\n",
       "      <td>-29.208242</td>\n",
       "      <td>-66.483606</td>\n",
       "      <td>-50.999569</td>\n",
       "      <td>-17.191903</td>\n",
       "    </tr>\n",
       "    <tr>\n",
       "      <th>976</th>\n",
       "      <td>2002-09-03</td>\n",
       "      <td>-29.426409</td>\n",
       "      <td>-67.104961</td>\n",
       "      <td>-50.022280</td>\n",
       "      <td>-15.673341</td>\n",
       "    </tr>\n",
       "    <tr>\n",
       "      <th>977</th>\n",
       "      <td>2002-09-04</td>\n",
       "      <td>-28.830741</td>\n",
       "      <td>-66.191113</td>\n",
       "      <td>-50.422663</td>\n",
       "      <td>-14.930490</td>\n",
       "    </tr>\n",
       "    <tr>\n",
       "      <th>978</th>\n",
       "      <td>2002-09-05</td>\n",
       "      <td>-28.238567</td>\n",
       "      <td>-63.952420</td>\n",
       "      <td>-51.613794</td>\n",
       "      <td>-15.146274</td>\n",
       "    </tr>\n",
       "    <tr>\n",
       "      <th>979</th>\n",
       "      <td>2002-09-06</td>\n",
       "      <td>-26.241322</td>\n",
       "      <td>-63.400261</td>\n",
       "      <td>-50.134051</td>\n",
       "      <td>-16.590744</td>\n",
       "    </tr>\n",
       "    <tr>\n",
       "      <th>980</th>\n",
       "      <td>2002-09-07</td>\n",
       "      <td>-26.163171</td>\n",
       "      <td>-63.475275</td>\n",
       "      <td>-50.698776</td>\n",
       "      <td>-16.797731</td>\n",
       "    </tr>\n",
       "    <tr>\n",
       "      <th>981</th>\n",
       "      <td>2002-09-08</td>\n",
       "      <td>-27.547412</td>\n",
       "      <td>-64.421646</td>\n",
       "      <td>-51.708649</td>\n",
       "      <td>-16.045778</td>\n",
       "    </tr>\n",
       "    <tr>\n",
       "      <th>982</th>\n",
       "      <td>2002-09-09</td>\n",
       "      <td>-28.924865</td>\n",
       "      <td>-66.134762</td>\n",
       "      <td>-51.365990</td>\n",
       "      <td>-16.608699</td>\n",
       "    </tr>\n",
       "    <tr>\n",
       "      <th>983</th>\n",
       "      <td>2002-09-10</td>\n",
       "      <td>-27.414578</td>\n",
       "      <td>-66.344535</td>\n",
       "      <td>-51.614181</td>\n",
       "      <td>-16.481718</td>\n",
       "    </tr>\n",
       "    <tr>\n",
       "      <th>984</th>\n",
       "      <td>2002-09-11</td>\n",
       "      <td>-27.336475</td>\n",
       "      <td>-64.404186</td>\n",
       "      <td>-52.810833</td>\n",
       "      <td>-15.312977</td>\n",
       "    </tr>\n",
       "    <tr>\n",
       "      <th>985</th>\n",
       "      <td>2002-09-12</td>\n",
       "      <td>-28.390124</td>\n",
       "      <td>-63.877958</td>\n",
       "      <td>-54.247530</td>\n",
       "      <td>-15.902703</td>\n",
       "    </tr>\n",
       "    <tr>\n",
       "      <th>986</th>\n",
       "      <td>2002-09-13</td>\n",
       "      <td>-29.458357</td>\n",
       "      <td>-63.229419</td>\n",
       "      <td>-54.920337</td>\n",
       "      <td>-14.257208</td>\n",
       "    </tr>\n",
       "    <tr>\n",
       "      <th>987</th>\n",
       "      <td>2002-09-14</td>\n",
       "      <td>-29.985167</td>\n",
       "      <td>-62.539700</td>\n",
       "      <td>-54.715688</td>\n",
       "      <td>-14.251853</td>\n",
       "    </tr>\n",
       "    <tr>\n",
       "      <th>988</th>\n",
       "      <td>2002-09-15</td>\n",
       "      <td>-30.398369</td>\n",
       "      <td>-62.910940</td>\n",
       "      <td>-53.614339</td>\n",
       "      <td>-14.299855</td>\n",
       "    </tr>\n",
       "    <tr>\n",
       "      <th>989</th>\n",
       "      <td>2002-09-16</td>\n",
       "      <td>-29.304959</td>\n",
       "      <td>-62.555394</td>\n",
       "      <td>-54.171977</td>\n",
       "      <td>-14.159070</td>\n",
       "    </tr>\n",
       "    <tr>\n",
       "      <th>990</th>\n",
       "      <td>2002-09-17</td>\n",
       "      <td>-29.842844</td>\n",
       "      <td>-62.628072</td>\n",
       "      <td>-53.355462</td>\n",
       "      <td>-13.359068</td>\n",
       "    </tr>\n",
       "    <tr>\n",
       "      <th>991</th>\n",
       "      <td>2002-09-18</td>\n",
       "      <td>-28.653425</td>\n",
       "      <td>-61.718701</td>\n",
       "      <td>-51.314580</td>\n",
       "      <td>-12.859732</td>\n",
       "    </tr>\n",
       "    <tr>\n",
       "      <th>992</th>\n",
       "      <td>2002-09-19</td>\n",
       "      <td>-29.267362</td>\n",
       "      <td>-61.660742</td>\n",
       "      <td>-50.683900</td>\n",
       "      <td>-11.481917</td>\n",
       "    </tr>\n",
       "    <tr>\n",
       "      <th>993</th>\n",
       "      <td>2002-09-20</td>\n",
       "      <td>-27.515315</td>\n",
       "      <td>-63.868932</td>\n",
       "      <td>-50.827311</td>\n",
       "      <td>-11.152452</td>\n",
       "    </tr>\n",
       "    <tr>\n",
       "      <th>994</th>\n",
       "      <td>2002-09-21</td>\n",
       "      <td>-26.541846</td>\n",
       "      <td>-64.284543</td>\n",
       "      <td>-51.494623</td>\n",
       "      <td>-11.322065</td>\n",
       "    </tr>\n",
       "    <tr>\n",
       "      <th>995</th>\n",
       "      <td>2002-09-22</td>\n",
       "      <td>-25.661374</td>\n",
       "      <td>-65.026010</td>\n",
       "      <td>-51.538649</td>\n",
       "      <td>-13.639199</td>\n",
       "    </tr>\n",
       "    <tr>\n",
       "      <th>996</th>\n",
       "      <td>2002-09-23</td>\n",
       "      <td>-26.225626</td>\n",
       "      <td>-62.956159</td>\n",
       "      <td>-52.396281</td>\n",
       "      <td>-13.955707</td>\n",
       "    </tr>\n",
       "    <tr>\n",
       "      <th>997</th>\n",
       "      <td>2002-09-24</td>\n",
       "      <td>-26.480931</td>\n",
       "      <td>-63.022269</td>\n",
       "      <td>-52.637981</td>\n",
       "      <td>-14.701805</td>\n",
       "    </tr>\n",
       "    <tr>\n",
       "      <th>998</th>\n",
       "      <td>2002-09-25</td>\n",
       "      <td>-26.083261</td>\n",
       "      <td>-62.062299</td>\n",
       "      <td>-52.518720</td>\n",
       "      <td>-13.822675</td>\n",
       "    </tr>\n",
       "    <tr>\n",
       "      <th>999</th>\n",
       "      <td>2002-09-26</td>\n",
       "      <td>-26.353005</td>\n",
       "      <td>-61.762479</td>\n",
       "      <td>-52.643215</td>\n",
       "      <td>-15.084380</td>\n",
       "    </tr>\n",
       "  </tbody>\n",
       "</table>\n",
       "<p>1000 rows × 5 columns</p>\n",
       "</div>"
      ],
      "text/plain": [
       "     Unnamed: 0          A          B          C          D\n",
       "0    2000-01-01   1.082907  -0.325267   1.501412   0.806588\n",
       "1    2000-01-02  -0.390239   1.485422   1.637137  -0.287609\n",
       "2    2000-01-03  -1.630259   2.181742   0.205632   0.485612\n",
       "3    2000-01-04  -0.814284   0.976177  -0.041520  -2.364813\n",
       "4    2000-01-05   0.346017   1.823468   0.196548  -2.183941\n",
       "5    2000-01-06   0.126223   0.631177   1.162831  -1.669294\n",
       "6    2000-01-07   0.420296   0.611453   1.420287  -1.438602\n",
       "7    2000-01-08  -1.448791   0.174334   0.909444   0.479558\n",
       "8    2000-01-09  -0.726470   0.491716   2.243013  -0.287284\n",
       "9    2000-01-10  -2.493253   1.233458   2.696824  -0.098912\n",
       "10   2000-01-11  -2.360882   2.448383   0.694195  -0.402914\n",
       "11   2000-01-12  -3.317021   1.655499   0.220614   1.081317\n",
       "12   2000-01-13  -2.078842   0.526617   1.909355   0.824377\n",
       "13   2000-01-14  -0.577502  -2.757631   1.534116   1.825914\n",
       "14   2000-01-15  -0.628536  -3.424130   0.428258   1.076253\n",
       "15   2000-01-16  -0.386027  -3.407319  -0.660861  -0.499728\n",
       "16   2000-01-17   0.093089  -4.282567   0.391214  -1.401088\n",
       "17   2000-01-18  -1.814478  -2.994067  -0.086989  -1.515834\n",
       "18   2000-01-19  -3.207990  -2.682761   0.304814  -0.395277\n",
       "19   2000-01-20  -4.317207  -2.443054   0.462006  -2.139112\n",
       "20   2000-01-21  -5.973586  -3.610452   1.302625  -2.240089\n",
       "21   2000-01-22  -4.640426  -4.884383   2.037940  -1.600981\n",
       "22   2000-01-23  -4.248220  -6.927911   3.497491  -3.671478\n",
       "23   2000-01-24  -4.053939  -9.194235   3.996642  -1.591770\n",
       "24   2000-01-25  -4.446411 -11.121203   4.572510  -2.457533\n",
       "25   2000-01-26  -5.186590 -10.054767   5.703868  -0.717003\n",
       "26   2000-01-27  -6.975257  -9.760684   5.103802  -1.817393\n",
       "27   2000-01-28  -6.966099  -9.996140   5.439866  -1.993961\n",
       "28   2000-01-29  -7.135128 -10.895678   5.820445  -1.662442\n",
       "29   2000-01-30  -6.671058 -10.581426   6.590109  -1.590529\n",
       "..          ...        ...        ...        ...        ...\n",
       "970  2002-08-28 -24.855846 -64.893788 -51.369954 -14.761095\n",
       "971  2002-08-29 -24.133857 -65.711824 -51.455660 -15.987826\n",
       "972  2002-08-30 -24.903995 -65.701684 -51.867143 -16.648941\n",
       "973  2002-08-31 -26.656935 -66.154515 -50.559595 -16.202978\n",
       "974  2002-09-01 -29.013040 -66.200206 -51.096939 -16.823300\n",
       "975  2002-09-02 -29.208242 -66.483606 -50.999569 -17.191903\n",
       "976  2002-09-03 -29.426409 -67.104961 -50.022280 -15.673341\n",
       "977  2002-09-04 -28.830741 -66.191113 -50.422663 -14.930490\n",
       "978  2002-09-05 -28.238567 -63.952420 -51.613794 -15.146274\n",
       "979  2002-09-06 -26.241322 -63.400261 -50.134051 -16.590744\n",
       "980  2002-09-07 -26.163171 -63.475275 -50.698776 -16.797731\n",
       "981  2002-09-08 -27.547412 -64.421646 -51.708649 -16.045778\n",
       "982  2002-09-09 -28.924865 -66.134762 -51.365990 -16.608699\n",
       "983  2002-09-10 -27.414578 -66.344535 -51.614181 -16.481718\n",
       "984  2002-09-11 -27.336475 -64.404186 -52.810833 -15.312977\n",
       "985  2002-09-12 -28.390124 -63.877958 -54.247530 -15.902703\n",
       "986  2002-09-13 -29.458357 -63.229419 -54.920337 -14.257208\n",
       "987  2002-09-14 -29.985167 -62.539700 -54.715688 -14.251853\n",
       "988  2002-09-15 -30.398369 -62.910940 -53.614339 -14.299855\n",
       "989  2002-09-16 -29.304959 -62.555394 -54.171977 -14.159070\n",
       "990  2002-09-17 -29.842844 -62.628072 -53.355462 -13.359068\n",
       "991  2002-09-18 -28.653425 -61.718701 -51.314580 -12.859732\n",
       "992  2002-09-19 -29.267362 -61.660742 -50.683900 -11.481917\n",
       "993  2002-09-20 -27.515315 -63.868932 -50.827311 -11.152452\n",
       "994  2002-09-21 -26.541846 -64.284543 -51.494623 -11.322065\n",
       "995  2002-09-22 -25.661374 -65.026010 -51.538649 -13.639199\n",
       "996  2002-09-23 -26.225626 -62.956159 -52.396281 -13.955707\n",
       "997  2002-09-24 -26.480931 -63.022269 -52.637981 -14.701805\n",
       "998  2002-09-25 -26.083261 -62.062299 -52.518720 -13.822675\n",
       "999  2002-09-26 -26.353005 -61.762479 -52.643215 -15.084380\n",
       "\n",
       "[1000 rows x 5 columns]"
      ]
     },
     "execution_count": 135,
     "metadata": {},
     "output_type": "execute_result"
    }
   ],
   "source": [
    "pd.read_csv('foo.csv')"
   ]
  },
  {
   "cell_type": "markdown",
   "metadata": {},
   "source": [
    "- HDF5：参考 [HDFStores](http://pandas.pydata.org/pandas-docs/stable/io.html#io-hdf5)"
   ]
  },
  {
   "cell_type": "markdown",
   "metadata": {},
   "source": [
    "写入HDF5存储："
   ]
  },
  {
   "cell_type": "code",
   "execution_count": 136,
   "metadata": {
    "collapsed": true
   },
   "outputs": [],
   "source": [
    "df.to_hdf('foo.h5', 'df')"
   ]
  },
  {
   "cell_type": "markdown",
   "metadata": {},
   "source": [
    "从HDF5存储中读取："
   ]
  },
  {
   "cell_type": "code",
   "execution_count": 138,
   "metadata": {},
   "outputs": [
    {
     "data": {
      "text/html": [
       "<div>\n",
       "<style>\n",
       "    .dataframe thead tr:only-child th {\n",
       "        text-align: right;\n",
       "    }\n",
       "\n",
       "    .dataframe thead th {\n",
       "        text-align: left;\n",
       "    }\n",
       "\n",
       "    .dataframe tbody tr th {\n",
       "        vertical-align: top;\n",
       "    }\n",
       "</style>\n",
       "<table border=\"1\" class=\"dataframe\">\n",
       "  <thead>\n",
       "    <tr style=\"text-align: right;\">\n",
       "      <th></th>\n",
       "      <th>A</th>\n",
       "      <th>B</th>\n",
       "      <th>C</th>\n",
       "      <th>D</th>\n",
       "    </tr>\n",
       "  </thead>\n",
       "  <tbody>\n",
       "    <tr>\n",
       "      <th>2000-01-01</th>\n",
       "      <td>1.082907</td>\n",
       "      <td>-0.325267</td>\n",
       "      <td>1.501412</td>\n",
       "      <td>0.806588</td>\n",
       "    </tr>\n",
       "    <tr>\n",
       "      <th>2000-01-02</th>\n",
       "      <td>-0.390239</td>\n",
       "      <td>1.485422</td>\n",
       "      <td>1.637137</td>\n",
       "      <td>-0.287609</td>\n",
       "    </tr>\n",
       "    <tr>\n",
       "      <th>2000-01-03</th>\n",
       "      <td>-1.630259</td>\n",
       "      <td>2.181742</td>\n",
       "      <td>0.205632</td>\n",
       "      <td>0.485612</td>\n",
       "    </tr>\n",
       "    <tr>\n",
       "      <th>2000-01-04</th>\n",
       "      <td>-0.814284</td>\n",
       "      <td>0.976177</td>\n",
       "      <td>-0.041520</td>\n",
       "      <td>-2.364813</td>\n",
       "    </tr>\n",
       "    <tr>\n",
       "      <th>2000-01-05</th>\n",
       "      <td>0.346017</td>\n",
       "      <td>1.823468</td>\n",
       "      <td>0.196548</td>\n",
       "      <td>-2.183941</td>\n",
       "    </tr>\n",
       "    <tr>\n",
       "      <th>2000-01-06</th>\n",
       "      <td>0.126223</td>\n",
       "      <td>0.631177</td>\n",
       "      <td>1.162831</td>\n",
       "      <td>-1.669294</td>\n",
       "    </tr>\n",
       "    <tr>\n",
       "      <th>2000-01-07</th>\n",
       "      <td>0.420296</td>\n",
       "      <td>0.611453</td>\n",
       "      <td>1.420287</td>\n",
       "      <td>-1.438602</td>\n",
       "    </tr>\n",
       "    <tr>\n",
       "      <th>2000-01-08</th>\n",
       "      <td>-1.448791</td>\n",
       "      <td>0.174334</td>\n",
       "      <td>0.909444</td>\n",
       "      <td>0.479558</td>\n",
       "    </tr>\n",
       "    <tr>\n",
       "      <th>2000-01-09</th>\n",
       "      <td>-0.726470</td>\n",
       "      <td>0.491716</td>\n",
       "      <td>2.243013</td>\n",
       "      <td>-0.287284</td>\n",
       "    </tr>\n",
       "    <tr>\n",
       "      <th>2000-01-10</th>\n",
       "      <td>-2.493253</td>\n",
       "      <td>1.233458</td>\n",
       "      <td>2.696824</td>\n",
       "      <td>-0.098912</td>\n",
       "    </tr>\n",
       "    <tr>\n",
       "      <th>2000-01-11</th>\n",
       "      <td>-2.360882</td>\n",
       "      <td>2.448383</td>\n",
       "      <td>0.694195</td>\n",
       "      <td>-0.402914</td>\n",
       "    </tr>\n",
       "    <tr>\n",
       "      <th>2000-01-12</th>\n",
       "      <td>-3.317021</td>\n",
       "      <td>1.655499</td>\n",
       "      <td>0.220614</td>\n",
       "      <td>1.081317</td>\n",
       "    </tr>\n",
       "    <tr>\n",
       "      <th>2000-01-13</th>\n",
       "      <td>-2.078842</td>\n",
       "      <td>0.526617</td>\n",
       "      <td>1.909355</td>\n",
       "      <td>0.824377</td>\n",
       "    </tr>\n",
       "    <tr>\n",
       "      <th>2000-01-14</th>\n",
       "      <td>-0.577502</td>\n",
       "      <td>-2.757631</td>\n",
       "      <td>1.534116</td>\n",
       "      <td>1.825914</td>\n",
       "    </tr>\n",
       "    <tr>\n",
       "      <th>2000-01-15</th>\n",
       "      <td>-0.628536</td>\n",
       "      <td>-3.424130</td>\n",
       "      <td>0.428258</td>\n",
       "      <td>1.076253</td>\n",
       "    </tr>\n",
       "    <tr>\n",
       "      <th>2000-01-16</th>\n",
       "      <td>-0.386027</td>\n",
       "      <td>-3.407319</td>\n",
       "      <td>-0.660861</td>\n",
       "      <td>-0.499728</td>\n",
       "    </tr>\n",
       "    <tr>\n",
       "      <th>2000-01-17</th>\n",
       "      <td>0.093089</td>\n",
       "      <td>-4.282567</td>\n",
       "      <td>0.391214</td>\n",
       "      <td>-1.401088</td>\n",
       "    </tr>\n",
       "    <tr>\n",
       "      <th>2000-01-18</th>\n",
       "      <td>-1.814478</td>\n",
       "      <td>-2.994067</td>\n",
       "      <td>-0.086989</td>\n",
       "      <td>-1.515834</td>\n",
       "    </tr>\n",
       "    <tr>\n",
       "      <th>2000-01-19</th>\n",
       "      <td>-3.207990</td>\n",
       "      <td>-2.682761</td>\n",
       "      <td>0.304814</td>\n",
       "      <td>-0.395277</td>\n",
       "    </tr>\n",
       "    <tr>\n",
       "      <th>2000-01-20</th>\n",
       "      <td>-4.317207</td>\n",
       "      <td>-2.443054</td>\n",
       "      <td>0.462006</td>\n",
       "      <td>-2.139112</td>\n",
       "    </tr>\n",
       "    <tr>\n",
       "      <th>2000-01-21</th>\n",
       "      <td>-5.973586</td>\n",
       "      <td>-3.610452</td>\n",
       "      <td>1.302625</td>\n",
       "      <td>-2.240089</td>\n",
       "    </tr>\n",
       "    <tr>\n",
       "      <th>2000-01-22</th>\n",
       "      <td>-4.640426</td>\n",
       "      <td>-4.884383</td>\n",
       "      <td>2.037940</td>\n",
       "      <td>-1.600981</td>\n",
       "    </tr>\n",
       "    <tr>\n",
       "      <th>2000-01-23</th>\n",
       "      <td>-4.248220</td>\n",
       "      <td>-6.927911</td>\n",
       "      <td>3.497491</td>\n",
       "      <td>-3.671478</td>\n",
       "    </tr>\n",
       "    <tr>\n",
       "      <th>2000-01-24</th>\n",
       "      <td>-4.053939</td>\n",
       "      <td>-9.194235</td>\n",
       "      <td>3.996642</td>\n",
       "      <td>-1.591770</td>\n",
       "    </tr>\n",
       "    <tr>\n",
       "      <th>2000-01-25</th>\n",
       "      <td>-4.446411</td>\n",
       "      <td>-11.121203</td>\n",
       "      <td>4.572510</td>\n",
       "      <td>-2.457533</td>\n",
       "    </tr>\n",
       "    <tr>\n",
       "      <th>2000-01-26</th>\n",
       "      <td>-5.186590</td>\n",
       "      <td>-10.054767</td>\n",
       "      <td>5.703868</td>\n",
       "      <td>-0.717003</td>\n",
       "    </tr>\n",
       "    <tr>\n",
       "      <th>2000-01-27</th>\n",
       "      <td>-6.975257</td>\n",
       "      <td>-9.760684</td>\n",
       "      <td>5.103802</td>\n",
       "      <td>-1.817393</td>\n",
       "    </tr>\n",
       "    <tr>\n",
       "      <th>2000-01-28</th>\n",
       "      <td>-6.966099</td>\n",
       "      <td>-9.996140</td>\n",
       "      <td>5.439866</td>\n",
       "      <td>-1.993961</td>\n",
       "    </tr>\n",
       "    <tr>\n",
       "      <th>2000-01-29</th>\n",
       "      <td>-7.135128</td>\n",
       "      <td>-10.895678</td>\n",
       "      <td>5.820445</td>\n",
       "      <td>-1.662442</td>\n",
       "    </tr>\n",
       "    <tr>\n",
       "      <th>2000-01-30</th>\n",
       "      <td>-6.671058</td>\n",
       "      <td>-10.581426</td>\n",
       "      <td>6.590109</td>\n",
       "      <td>-1.590529</td>\n",
       "    </tr>\n",
       "    <tr>\n",
       "      <th>...</th>\n",
       "      <td>...</td>\n",
       "      <td>...</td>\n",
       "      <td>...</td>\n",
       "      <td>...</td>\n",
       "    </tr>\n",
       "    <tr>\n",
       "      <th>2002-08-28</th>\n",
       "      <td>-24.855846</td>\n",
       "      <td>-64.893788</td>\n",
       "      <td>-51.369954</td>\n",
       "      <td>-14.761095</td>\n",
       "    </tr>\n",
       "    <tr>\n",
       "      <th>2002-08-29</th>\n",
       "      <td>-24.133857</td>\n",
       "      <td>-65.711824</td>\n",
       "      <td>-51.455660</td>\n",
       "      <td>-15.987826</td>\n",
       "    </tr>\n",
       "    <tr>\n",
       "      <th>2002-08-30</th>\n",
       "      <td>-24.903995</td>\n",
       "      <td>-65.701684</td>\n",
       "      <td>-51.867143</td>\n",
       "      <td>-16.648941</td>\n",
       "    </tr>\n",
       "    <tr>\n",
       "      <th>2002-08-31</th>\n",
       "      <td>-26.656935</td>\n",
       "      <td>-66.154515</td>\n",
       "      <td>-50.559595</td>\n",
       "      <td>-16.202978</td>\n",
       "    </tr>\n",
       "    <tr>\n",
       "      <th>2002-09-01</th>\n",
       "      <td>-29.013040</td>\n",
       "      <td>-66.200206</td>\n",
       "      <td>-51.096939</td>\n",
       "      <td>-16.823300</td>\n",
       "    </tr>\n",
       "    <tr>\n",
       "      <th>2002-09-02</th>\n",
       "      <td>-29.208242</td>\n",
       "      <td>-66.483606</td>\n",
       "      <td>-50.999569</td>\n",
       "      <td>-17.191903</td>\n",
       "    </tr>\n",
       "    <tr>\n",
       "      <th>2002-09-03</th>\n",
       "      <td>-29.426409</td>\n",
       "      <td>-67.104961</td>\n",
       "      <td>-50.022280</td>\n",
       "      <td>-15.673341</td>\n",
       "    </tr>\n",
       "    <tr>\n",
       "      <th>2002-09-04</th>\n",
       "      <td>-28.830741</td>\n",
       "      <td>-66.191113</td>\n",
       "      <td>-50.422663</td>\n",
       "      <td>-14.930490</td>\n",
       "    </tr>\n",
       "    <tr>\n",
       "      <th>2002-09-05</th>\n",
       "      <td>-28.238567</td>\n",
       "      <td>-63.952420</td>\n",
       "      <td>-51.613794</td>\n",
       "      <td>-15.146274</td>\n",
       "    </tr>\n",
       "    <tr>\n",
       "      <th>2002-09-06</th>\n",
       "      <td>-26.241322</td>\n",
       "      <td>-63.400261</td>\n",
       "      <td>-50.134051</td>\n",
       "      <td>-16.590744</td>\n",
       "    </tr>\n",
       "    <tr>\n",
       "      <th>2002-09-07</th>\n",
       "      <td>-26.163171</td>\n",
       "      <td>-63.475275</td>\n",
       "      <td>-50.698776</td>\n",
       "      <td>-16.797731</td>\n",
       "    </tr>\n",
       "    <tr>\n",
       "      <th>2002-09-08</th>\n",
       "      <td>-27.547412</td>\n",
       "      <td>-64.421646</td>\n",
       "      <td>-51.708649</td>\n",
       "      <td>-16.045778</td>\n",
       "    </tr>\n",
       "    <tr>\n",
       "      <th>2002-09-09</th>\n",
       "      <td>-28.924865</td>\n",
       "      <td>-66.134762</td>\n",
       "      <td>-51.365990</td>\n",
       "      <td>-16.608699</td>\n",
       "    </tr>\n",
       "    <tr>\n",
       "      <th>2002-09-10</th>\n",
       "      <td>-27.414578</td>\n",
       "      <td>-66.344535</td>\n",
       "      <td>-51.614181</td>\n",
       "      <td>-16.481718</td>\n",
       "    </tr>\n",
       "    <tr>\n",
       "      <th>2002-09-11</th>\n",
       "      <td>-27.336475</td>\n",
       "      <td>-64.404186</td>\n",
       "      <td>-52.810833</td>\n",
       "      <td>-15.312977</td>\n",
       "    </tr>\n",
       "    <tr>\n",
       "      <th>2002-09-12</th>\n",
       "      <td>-28.390124</td>\n",
       "      <td>-63.877958</td>\n",
       "      <td>-54.247530</td>\n",
       "      <td>-15.902703</td>\n",
       "    </tr>\n",
       "    <tr>\n",
       "      <th>2002-09-13</th>\n",
       "      <td>-29.458357</td>\n",
       "      <td>-63.229419</td>\n",
       "      <td>-54.920337</td>\n",
       "      <td>-14.257208</td>\n",
       "    </tr>\n",
       "    <tr>\n",
       "      <th>2002-09-14</th>\n",
       "      <td>-29.985167</td>\n",
       "      <td>-62.539700</td>\n",
       "      <td>-54.715688</td>\n",
       "      <td>-14.251853</td>\n",
       "    </tr>\n",
       "    <tr>\n",
       "      <th>2002-09-15</th>\n",
       "      <td>-30.398369</td>\n",
       "      <td>-62.910940</td>\n",
       "      <td>-53.614339</td>\n",
       "      <td>-14.299855</td>\n",
       "    </tr>\n",
       "    <tr>\n",
       "      <th>2002-09-16</th>\n",
       "      <td>-29.304959</td>\n",
       "      <td>-62.555394</td>\n",
       "      <td>-54.171977</td>\n",
       "      <td>-14.159070</td>\n",
       "    </tr>\n",
       "    <tr>\n",
       "      <th>2002-09-17</th>\n",
       "      <td>-29.842844</td>\n",
       "      <td>-62.628072</td>\n",
       "      <td>-53.355462</td>\n",
       "      <td>-13.359068</td>\n",
       "    </tr>\n",
       "    <tr>\n",
       "      <th>2002-09-18</th>\n",
       "      <td>-28.653425</td>\n",
       "      <td>-61.718701</td>\n",
       "      <td>-51.314580</td>\n",
       "      <td>-12.859732</td>\n",
       "    </tr>\n",
       "    <tr>\n",
       "      <th>2002-09-19</th>\n",
       "      <td>-29.267362</td>\n",
       "      <td>-61.660742</td>\n",
       "      <td>-50.683900</td>\n",
       "      <td>-11.481917</td>\n",
       "    </tr>\n",
       "    <tr>\n",
       "      <th>2002-09-20</th>\n",
       "      <td>-27.515315</td>\n",
       "      <td>-63.868932</td>\n",
       "      <td>-50.827311</td>\n",
       "      <td>-11.152452</td>\n",
       "    </tr>\n",
       "    <tr>\n",
       "      <th>2002-09-21</th>\n",
       "      <td>-26.541846</td>\n",
       "      <td>-64.284543</td>\n",
       "      <td>-51.494623</td>\n",
       "      <td>-11.322065</td>\n",
       "    </tr>\n",
       "    <tr>\n",
       "      <th>2002-09-22</th>\n",
       "      <td>-25.661374</td>\n",
       "      <td>-65.026010</td>\n",
       "      <td>-51.538649</td>\n",
       "      <td>-13.639199</td>\n",
       "    </tr>\n",
       "    <tr>\n",
       "      <th>2002-09-23</th>\n",
       "      <td>-26.225626</td>\n",
       "      <td>-62.956159</td>\n",
       "      <td>-52.396281</td>\n",
       "      <td>-13.955707</td>\n",
       "    </tr>\n",
       "    <tr>\n",
       "      <th>2002-09-24</th>\n",
       "      <td>-26.480931</td>\n",
       "      <td>-63.022269</td>\n",
       "      <td>-52.637981</td>\n",
       "      <td>-14.701805</td>\n",
       "    </tr>\n",
       "    <tr>\n",
       "      <th>2002-09-25</th>\n",
       "      <td>-26.083261</td>\n",
       "      <td>-62.062299</td>\n",
       "      <td>-52.518720</td>\n",
       "      <td>-13.822675</td>\n",
       "    </tr>\n",
       "    <tr>\n",
       "      <th>2002-09-26</th>\n",
       "      <td>-26.353005</td>\n",
       "      <td>-61.762479</td>\n",
       "      <td>-52.643215</td>\n",
       "      <td>-15.084380</td>\n",
       "    </tr>\n",
       "  </tbody>\n",
       "</table>\n",
       "<p>1000 rows × 4 columns</p>\n",
       "</div>"
      ],
      "text/plain": [
       "                    A          B          C          D\n",
       "2000-01-01   1.082907  -0.325267   1.501412   0.806588\n",
       "2000-01-02  -0.390239   1.485422   1.637137  -0.287609\n",
       "2000-01-03  -1.630259   2.181742   0.205632   0.485612\n",
       "2000-01-04  -0.814284   0.976177  -0.041520  -2.364813\n",
       "2000-01-05   0.346017   1.823468   0.196548  -2.183941\n",
       "2000-01-06   0.126223   0.631177   1.162831  -1.669294\n",
       "2000-01-07   0.420296   0.611453   1.420287  -1.438602\n",
       "2000-01-08  -1.448791   0.174334   0.909444   0.479558\n",
       "2000-01-09  -0.726470   0.491716   2.243013  -0.287284\n",
       "2000-01-10  -2.493253   1.233458   2.696824  -0.098912\n",
       "2000-01-11  -2.360882   2.448383   0.694195  -0.402914\n",
       "2000-01-12  -3.317021   1.655499   0.220614   1.081317\n",
       "2000-01-13  -2.078842   0.526617   1.909355   0.824377\n",
       "2000-01-14  -0.577502  -2.757631   1.534116   1.825914\n",
       "2000-01-15  -0.628536  -3.424130   0.428258   1.076253\n",
       "2000-01-16  -0.386027  -3.407319  -0.660861  -0.499728\n",
       "2000-01-17   0.093089  -4.282567   0.391214  -1.401088\n",
       "2000-01-18  -1.814478  -2.994067  -0.086989  -1.515834\n",
       "2000-01-19  -3.207990  -2.682761   0.304814  -0.395277\n",
       "2000-01-20  -4.317207  -2.443054   0.462006  -2.139112\n",
       "2000-01-21  -5.973586  -3.610452   1.302625  -2.240089\n",
       "2000-01-22  -4.640426  -4.884383   2.037940  -1.600981\n",
       "2000-01-23  -4.248220  -6.927911   3.497491  -3.671478\n",
       "2000-01-24  -4.053939  -9.194235   3.996642  -1.591770\n",
       "2000-01-25  -4.446411 -11.121203   4.572510  -2.457533\n",
       "2000-01-26  -5.186590 -10.054767   5.703868  -0.717003\n",
       "2000-01-27  -6.975257  -9.760684   5.103802  -1.817393\n",
       "2000-01-28  -6.966099  -9.996140   5.439866  -1.993961\n",
       "2000-01-29  -7.135128 -10.895678   5.820445  -1.662442\n",
       "2000-01-30  -6.671058 -10.581426   6.590109  -1.590529\n",
       "...               ...        ...        ...        ...\n",
       "2002-08-28 -24.855846 -64.893788 -51.369954 -14.761095\n",
       "2002-08-29 -24.133857 -65.711824 -51.455660 -15.987826\n",
       "2002-08-30 -24.903995 -65.701684 -51.867143 -16.648941\n",
       "2002-08-31 -26.656935 -66.154515 -50.559595 -16.202978\n",
       "2002-09-01 -29.013040 -66.200206 -51.096939 -16.823300\n",
       "2002-09-02 -29.208242 -66.483606 -50.999569 -17.191903\n",
       "2002-09-03 -29.426409 -67.104961 -50.022280 -15.673341\n",
       "2002-09-04 -28.830741 -66.191113 -50.422663 -14.930490\n",
       "2002-09-05 -28.238567 -63.952420 -51.613794 -15.146274\n",
       "2002-09-06 -26.241322 -63.400261 -50.134051 -16.590744\n",
       "2002-09-07 -26.163171 -63.475275 -50.698776 -16.797731\n",
       "2002-09-08 -27.547412 -64.421646 -51.708649 -16.045778\n",
       "2002-09-09 -28.924865 -66.134762 -51.365990 -16.608699\n",
       "2002-09-10 -27.414578 -66.344535 -51.614181 -16.481718\n",
       "2002-09-11 -27.336475 -64.404186 -52.810833 -15.312977\n",
       "2002-09-12 -28.390124 -63.877958 -54.247530 -15.902703\n",
       "2002-09-13 -29.458357 -63.229419 -54.920337 -14.257208\n",
       "2002-09-14 -29.985167 -62.539700 -54.715688 -14.251853\n",
       "2002-09-15 -30.398369 -62.910940 -53.614339 -14.299855\n",
       "2002-09-16 -29.304959 -62.555394 -54.171977 -14.159070\n",
       "2002-09-17 -29.842844 -62.628072 -53.355462 -13.359068\n",
       "2002-09-18 -28.653425 -61.718701 -51.314580 -12.859732\n",
       "2002-09-19 -29.267362 -61.660742 -50.683900 -11.481917\n",
       "2002-09-20 -27.515315 -63.868932 -50.827311 -11.152452\n",
       "2002-09-21 -26.541846 -64.284543 -51.494623 -11.322065\n",
       "2002-09-22 -25.661374 -65.026010 -51.538649 -13.639199\n",
       "2002-09-23 -26.225626 -62.956159 -52.396281 -13.955707\n",
       "2002-09-24 -26.480931 -63.022269 -52.637981 -14.701805\n",
       "2002-09-25 -26.083261 -62.062299 -52.518720 -13.822675\n",
       "2002-09-26 -26.353005 -61.762479 -52.643215 -15.084380\n",
       "\n",
       "[1000 rows x 4 columns]"
      ]
     },
     "execution_count": 138,
     "metadata": {},
     "output_type": "execute_result"
    }
   ],
   "source": [
    "pd.read_hdf('foo.h5', 'df')"
   ]
  },
  {
   "cell_type": "markdown",
   "metadata": {},
   "source": [
    "- Excel： 参考 [MS Execl](http://pandas.pydata.org/pandas-docs/stable/io.html#io-excel)"
   ]
  },
  {
   "cell_type": "code",
   "execution_count": 139,
   "metadata": {
    "collapsed": true
   },
   "outputs": [],
   "source": [
    "df.to_excel('foo.xlsx', sheet_name='Sheet1')"
   ]
  },
  {
   "cell_type": "markdown",
   "metadata": {},
   "source": [
    "从excel文件中读取："
   ]
  },
  {
   "cell_type": "code",
   "execution_count": 140,
   "metadata": {},
   "outputs": [
    {
     "data": {
      "text/html": [
       "<div>\n",
       "<style>\n",
       "    .dataframe thead tr:only-child th {\n",
       "        text-align: right;\n",
       "    }\n",
       "\n",
       "    .dataframe thead th {\n",
       "        text-align: left;\n",
       "    }\n",
       "\n",
       "    .dataframe tbody tr th {\n",
       "        vertical-align: top;\n",
       "    }\n",
       "</style>\n",
       "<table border=\"1\" class=\"dataframe\">\n",
       "  <thead>\n",
       "    <tr style=\"text-align: right;\">\n",
       "      <th></th>\n",
       "      <th>A</th>\n",
       "      <th>B</th>\n",
       "      <th>C</th>\n",
       "      <th>D</th>\n",
       "    </tr>\n",
       "  </thead>\n",
       "  <tbody>\n",
       "    <tr>\n",
       "      <th>2000-01-01</th>\n",
       "      <td>1.082907</td>\n",
       "      <td>-0.325267</td>\n",
       "      <td>1.501412</td>\n",
       "      <td>0.806588</td>\n",
       "    </tr>\n",
       "    <tr>\n",
       "      <th>2000-01-02</th>\n",
       "      <td>-0.390239</td>\n",
       "      <td>1.485422</td>\n",
       "      <td>1.637137</td>\n",
       "      <td>-0.287609</td>\n",
       "    </tr>\n",
       "    <tr>\n",
       "      <th>2000-01-03</th>\n",
       "      <td>-1.630259</td>\n",
       "      <td>2.181742</td>\n",
       "      <td>0.205632</td>\n",
       "      <td>0.485612</td>\n",
       "    </tr>\n",
       "    <tr>\n",
       "      <th>2000-01-04</th>\n",
       "      <td>-0.814284</td>\n",
       "      <td>0.976177</td>\n",
       "      <td>-0.041520</td>\n",
       "      <td>-2.364813</td>\n",
       "    </tr>\n",
       "    <tr>\n",
       "      <th>2000-01-05</th>\n",
       "      <td>0.346017</td>\n",
       "      <td>1.823468</td>\n",
       "      <td>0.196548</td>\n",
       "      <td>-2.183941</td>\n",
       "    </tr>\n",
       "    <tr>\n",
       "      <th>2000-01-06</th>\n",
       "      <td>0.126223</td>\n",
       "      <td>0.631177</td>\n",
       "      <td>1.162831</td>\n",
       "      <td>-1.669294</td>\n",
       "    </tr>\n",
       "    <tr>\n",
       "      <th>2000-01-07</th>\n",
       "      <td>0.420296</td>\n",
       "      <td>0.611453</td>\n",
       "      <td>1.420287</td>\n",
       "      <td>-1.438602</td>\n",
       "    </tr>\n",
       "    <tr>\n",
       "      <th>2000-01-08</th>\n",
       "      <td>-1.448791</td>\n",
       "      <td>0.174334</td>\n",
       "      <td>0.909444</td>\n",
       "      <td>0.479558</td>\n",
       "    </tr>\n",
       "    <tr>\n",
       "      <th>2000-01-09</th>\n",
       "      <td>-0.726470</td>\n",
       "      <td>0.491716</td>\n",
       "      <td>2.243013</td>\n",
       "      <td>-0.287284</td>\n",
       "    </tr>\n",
       "    <tr>\n",
       "      <th>2000-01-10</th>\n",
       "      <td>-2.493253</td>\n",
       "      <td>1.233458</td>\n",
       "      <td>2.696824</td>\n",
       "      <td>-0.098912</td>\n",
       "    </tr>\n",
       "    <tr>\n",
       "      <th>2000-01-11</th>\n",
       "      <td>-2.360882</td>\n",
       "      <td>2.448383</td>\n",
       "      <td>0.694195</td>\n",
       "      <td>-0.402914</td>\n",
       "    </tr>\n",
       "    <tr>\n",
       "      <th>2000-01-12</th>\n",
       "      <td>-3.317021</td>\n",
       "      <td>1.655499</td>\n",
       "      <td>0.220614</td>\n",
       "      <td>1.081317</td>\n",
       "    </tr>\n",
       "    <tr>\n",
       "      <th>2000-01-13</th>\n",
       "      <td>-2.078842</td>\n",
       "      <td>0.526617</td>\n",
       "      <td>1.909355</td>\n",
       "      <td>0.824377</td>\n",
       "    </tr>\n",
       "    <tr>\n",
       "      <th>2000-01-14</th>\n",
       "      <td>-0.577502</td>\n",
       "      <td>-2.757631</td>\n",
       "      <td>1.534116</td>\n",
       "      <td>1.825914</td>\n",
       "    </tr>\n",
       "    <tr>\n",
       "      <th>2000-01-15</th>\n",
       "      <td>-0.628536</td>\n",
       "      <td>-3.424130</td>\n",
       "      <td>0.428258</td>\n",
       "      <td>1.076253</td>\n",
       "    </tr>\n",
       "    <tr>\n",
       "      <th>2000-01-16</th>\n",
       "      <td>-0.386027</td>\n",
       "      <td>-3.407319</td>\n",
       "      <td>-0.660861</td>\n",
       "      <td>-0.499728</td>\n",
       "    </tr>\n",
       "    <tr>\n",
       "      <th>2000-01-17</th>\n",
       "      <td>0.093089</td>\n",
       "      <td>-4.282567</td>\n",
       "      <td>0.391214</td>\n",
       "      <td>-1.401088</td>\n",
       "    </tr>\n",
       "    <tr>\n",
       "      <th>2000-01-18</th>\n",
       "      <td>-1.814478</td>\n",
       "      <td>-2.994067</td>\n",
       "      <td>-0.086989</td>\n",
       "      <td>-1.515834</td>\n",
       "    </tr>\n",
       "    <tr>\n",
       "      <th>2000-01-19</th>\n",
       "      <td>-3.207990</td>\n",
       "      <td>-2.682761</td>\n",
       "      <td>0.304814</td>\n",
       "      <td>-0.395277</td>\n",
       "    </tr>\n",
       "    <tr>\n",
       "      <th>2000-01-20</th>\n",
       "      <td>-4.317207</td>\n",
       "      <td>-2.443054</td>\n",
       "      <td>0.462006</td>\n",
       "      <td>-2.139112</td>\n",
       "    </tr>\n",
       "    <tr>\n",
       "      <th>2000-01-21</th>\n",
       "      <td>-5.973586</td>\n",
       "      <td>-3.610452</td>\n",
       "      <td>1.302625</td>\n",
       "      <td>-2.240089</td>\n",
       "    </tr>\n",
       "    <tr>\n",
       "      <th>2000-01-22</th>\n",
       "      <td>-4.640426</td>\n",
       "      <td>-4.884383</td>\n",
       "      <td>2.037940</td>\n",
       "      <td>-1.600981</td>\n",
       "    </tr>\n",
       "    <tr>\n",
       "      <th>2000-01-23</th>\n",
       "      <td>-4.248220</td>\n",
       "      <td>-6.927911</td>\n",
       "      <td>3.497491</td>\n",
       "      <td>-3.671478</td>\n",
       "    </tr>\n",
       "    <tr>\n",
       "      <th>2000-01-24</th>\n",
       "      <td>-4.053939</td>\n",
       "      <td>-9.194235</td>\n",
       "      <td>3.996642</td>\n",
       "      <td>-1.591770</td>\n",
       "    </tr>\n",
       "    <tr>\n",
       "      <th>2000-01-25</th>\n",
       "      <td>-4.446411</td>\n",
       "      <td>-11.121203</td>\n",
       "      <td>4.572510</td>\n",
       "      <td>-2.457533</td>\n",
       "    </tr>\n",
       "    <tr>\n",
       "      <th>2000-01-26</th>\n",
       "      <td>-5.186590</td>\n",
       "      <td>-10.054767</td>\n",
       "      <td>5.703868</td>\n",
       "      <td>-0.717003</td>\n",
       "    </tr>\n",
       "    <tr>\n",
       "      <th>2000-01-27</th>\n",
       "      <td>-6.975257</td>\n",
       "      <td>-9.760684</td>\n",
       "      <td>5.103802</td>\n",
       "      <td>-1.817393</td>\n",
       "    </tr>\n",
       "    <tr>\n",
       "      <th>2000-01-28</th>\n",
       "      <td>-6.966099</td>\n",
       "      <td>-9.996140</td>\n",
       "      <td>5.439866</td>\n",
       "      <td>-1.993961</td>\n",
       "    </tr>\n",
       "    <tr>\n",
       "      <th>2000-01-29</th>\n",
       "      <td>-7.135128</td>\n",
       "      <td>-10.895678</td>\n",
       "      <td>5.820445</td>\n",
       "      <td>-1.662442</td>\n",
       "    </tr>\n",
       "    <tr>\n",
       "      <th>2000-01-30</th>\n",
       "      <td>-6.671058</td>\n",
       "      <td>-10.581426</td>\n",
       "      <td>6.590109</td>\n",
       "      <td>-1.590529</td>\n",
       "    </tr>\n",
       "    <tr>\n",
       "      <th>...</th>\n",
       "      <td>...</td>\n",
       "      <td>...</td>\n",
       "      <td>...</td>\n",
       "      <td>...</td>\n",
       "    </tr>\n",
       "    <tr>\n",
       "      <th>2002-08-28</th>\n",
       "      <td>-24.855846</td>\n",
       "      <td>-64.893788</td>\n",
       "      <td>-51.369954</td>\n",
       "      <td>-14.761095</td>\n",
       "    </tr>\n",
       "    <tr>\n",
       "      <th>2002-08-29</th>\n",
       "      <td>-24.133857</td>\n",
       "      <td>-65.711824</td>\n",
       "      <td>-51.455660</td>\n",
       "      <td>-15.987826</td>\n",
       "    </tr>\n",
       "    <tr>\n",
       "      <th>2002-08-30</th>\n",
       "      <td>-24.903995</td>\n",
       "      <td>-65.701684</td>\n",
       "      <td>-51.867143</td>\n",
       "      <td>-16.648941</td>\n",
       "    </tr>\n",
       "    <tr>\n",
       "      <th>2002-08-31</th>\n",
       "      <td>-26.656935</td>\n",
       "      <td>-66.154515</td>\n",
       "      <td>-50.559595</td>\n",
       "      <td>-16.202978</td>\n",
       "    </tr>\n",
       "    <tr>\n",
       "      <th>2002-09-01</th>\n",
       "      <td>-29.013040</td>\n",
       "      <td>-66.200206</td>\n",
       "      <td>-51.096939</td>\n",
       "      <td>-16.823300</td>\n",
       "    </tr>\n",
       "    <tr>\n",
       "      <th>2002-09-02</th>\n",
       "      <td>-29.208242</td>\n",
       "      <td>-66.483606</td>\n",
       "      <td>-50.999569</td>\n",
       "      <td>-17.191903</td>\n",
       "    </tr>\n",
       "    <tr>\n",
       "      <th>2002-09-03</th>\n",
       "      <td>-29.426409</td>\n",
       "      <td>-67.104961</td>\n",
       "      <td>-50.022280</td>\n",
       "      <td>-15.673341</td>\n",
       "    </tr>\n",
       "    <tr>\n",
       "      <th>2002-09-04</th>\n",
       "      <td>-28.830741</td>\n",
       "      <td>-66.191113</td>\n",
       "      <td>-50.422663</td>\n",
       "      <td>-14.930490</td>\n",
       "    </tr>\n",
       "    <tr>\n",
       "      <th>2002-09-05</th>\n",
       "      <td>-28.238567</td>\n",
       "      <td>-63.952420</td>\n",
       "      <td>-51.613794</td>\n",
       "      <td>-15.146274</td>\n",
       "    </tr>\n",
       "    <tr>\n",
       "      <th>2002-09-06</th>\n",
       "      <td>-26.241322</td>\n",
       "      <td>-63.400261</td>\n",
       "      <td>-50.134051</td>\n",
       "      <td>-16.590744</td>\n",
       "    </tr>\n",
       "    <tr>\n",
       "      <th>2002-09-07</th>\n",
       "      <td>-26.163171</td>\n",
       "      <td>-63.475275</td>\n",
       "      <td>-50.698776</td>\n",
       "      <td>-16.797731</td>\n",
       "    </tr>\n",
       "    <tr>\n",
       "      <th>2002-09-08</th>\n",
       "      <td>-27.547412</td>\n",
       "      <td>-64.421646</td>\n",
       "      <td>-51.708649</td>\n",
       "      <td>-16.045778</td>\n",
       "    </tr>\n",
       "    <tr>\n",
       "      <th>2002-09-09</th>\n",
       "      <td>-28.924865</td>\n",
       "      <td>-66.134762</td>\n",
       "      <td>-51.365990</td>\n",
       "      <td>-16.608699</td>\n",
       "    </tr>\n",
       "    <tr>\n",
       "      <th>2002-09-10</th>\n",
       "      <td>-27.414578</td>\n",
       "      <td>-66.344535</td>\n",
       "      <td>-51.614181</td>\n",
       "      <td>-16.481718</td>\n",
       "    </tr>\n",
       "    <tr>\n",
       "      <th>2002-09-11</th>\n",
       "      <td>-27.336475</td>\n",
       "      <td>-64.404186</td>\n",
       "      <td>-52.810833</td>\n",
       "      <td>-15.312977</td>\n",
       "    </tr>\n",
       "    <tr>\n",
       "      <th>2002-09-12</th>\n",
       "      <td>-28.390124</td>\n",
       "      <td>-63.877958</td>\n",
       "      <td>-54.247530</td>\n",
       "      <td>-15.902703</td>\n",
       "    </tr>\n",
       "    <tr>\n",
       "      <th>2002-09-13</th>\n",
       "      <td>-29.458357</td>\n",
       "      <td>-63.229419</td>\n",
       "      <td>-54.920337</td>\n",
       "      <td>-14.257208</td>\n",
       "    </tr>\n",
       "    <tr>\n",
       "      <th>2002-09-14</th>\n",
       "      <td>-29.985167</td>\n",
       "      <td>-62.539700</td>\n",
       "      <td>-54.715688</td>\n",
       "      <td>-14.251853</td>\n",
       "    </tr>\n",
       "    <tr>\n",
       "      <th>2002-09-15</th>\n",
       "      <td>-30.398369</td>\n",
       "      <td>-62.910940</td>\n",
       "      <td>-53.614339</td>\n",
       "      <td>-14.299855</td>\n",
       "    </tr>\n",
       "    <tr>\n",
       "      <th>2002-09-16</th>\n",
       "      <td>-29.304959</td>\n",
       "      <td>-62.555394</td>\n",
       "      <td>-54.171977</td>\n",
       "      <td>-14.159070</td>\n",
       "    </tr>\n",
       "    <tr>\n",
       "      <th>2002-09-17</th>\n",
       "      <td>-29.842844</td>\n",
       "      <td>-62.628072</td>\n",
       "      <td>-53.355462</td>\n",
       "      <td>-13.359068</td>\n",
       "    </tr>\n",
       "    <tr>\n",
       "      <th>2002-09-18</th>\n",
       "      <td>-28.653425</td>\n",
       "      <td>-61.718701</td>\n",
       "      <td>-51.314580</td>\n",
       "      <td>-12.859732</td>\n",
       "    </tr>\n",
       "    <tr>\n",
       "      <th>2002-09-19</th>\n",
       "      <td>-29.267362</td>\n",
       "      <td>-61.660742</td>\n",
       "      <td>-50.683900</td>\n",
       "      <td>-11.481917</td>\n",
       "    </tr>\n",
       "    <tr>\n",
       "      <th>2002-09-20</th>\n",
       "      <td>-27.515315</td>\n",
       "      <td>-63.868932</td>\n",
       "      <td>-50.827311</td>\n",
       "      <td>-11.152452</td>\n",
       "    </tr>\n",
       "    <tr>\n",
       "      <th>2002-09-21</th>\n",
       "      <td>-26.541846</td>\n",
       "      <td>-64.284543</td>\n",
       "      <td>-51.494623</td>\n",
       "      <td>-11.322065</td>\n",
       "    </tr>\n",
       "    <tr>\n",
       "      <th>2002-09-22</th>\n",
       "      <td>-25.661374</td>\n",
       "      <td>-65.026010</td>\n",
       "      <td>-51.538649</td>\n",
       "      <td>-13.639199</td>\n",
       "    </tr>\n",
       "    <tr>\n",
       "      <th>2002-09-23</th>\n",
       "      <td>-26.225626</td>\n",
       "      <td>-62.956159</td>\n",
       "      <td>-52.396281</td>\n",
       "      <td>-13.955707</td>\n",
       "    </tr>\n",
       "    <tr>\n",
       "      <th>2002-09-24</th>\n",
       "      <td>-26.480931</td>\n",
       "      <td>-63.022269</td>\n",
       "      <td>-52.637981</td>\n",
       "      <td>-14.701805</td>\n",
       "    </tr>\n",
       "    <tr>\n",
       "      <th>2002-09-25</th>\n",
       "      <td>-26.083261</td>\n",
       "      <td>-62.062299</td>\n",
       "      <td>-52.518720</td>\n",
       "      <td>-13.822675</td>\n",
       "    </tr>\n",
       "    <tr>\n",
       "      <th>2002-09-26</th>\n",
       "      <td>-26.353005</td>\n",
       "      <td>-61.762479</td>\n",
       "      <td>-52.643215</td>\n",
       "      <td>-15.084380</td>\n",
       "    </tr>\n",
       "  </tbody>\n",
       "</table>\n",
       "<p>1000 rows × 4 columns</p>\n",
       "</div>"
      ],
      "text/plain": [
       "                    A          B          C          D\n",
       "2000-01-01   1.082907  -0.325267   1.501412   0.806588\n",
       "2000-01-02  -0.390239   1.485422   1.637137  -0.287609\n",
       "2000-01-03  -1.630259   2.181742   0.205632   0.485612\n",
       "2000-01-04  -0.814284   0.976177  -0.041520  -2.364813\n",
       "2000-01-05   0.346017   1.823468   0.196548  -2.183941\n",
       "2000-01-06   0.126223   0.631177   1.162831  -1.669294\n",
       "2000-01-07   0.420296   0.611453   1.420287  -1.438602\n",
       "2000-01-08  -1.448791   0.174334   0.909444   0.479558\n",
       "2000-01-09  -0.726470   0.491716   2.243013  -0.287284\n",
       "2000-01-10  -2.493253   1.233458   2.696824  -0.098912\n",
       "2000-01-11  -2.360882   2.448383   0.694195  -0.402914\n",
       "2000-01-12  -3.317021   1.655499   0.220614   1.081317\n",
       "2000-01-13  -2.078842   0.526617   1.909355   0.824377\n",
       "2000-01-14  -0.577502  -2.757631   1.534116   1.825914\n",
       "2000-01-15  -0.628536  -3.424130   0.428258   1.076253\n",
       "2000-01-16  -0.386027  -3.407319  -0.660861  -0.499728\n",
       "2000-01-17   0.093089  -4.282567   0.391214  -1.401088\n",
       "2000-01-18  -1.814478  -2.994067  -0.086989  -1.515834\n",
       "2000-01-19  -3.207990  -2.682761   0.304814  -0.395277\n",
       "2000-01-20  -4.317207  -2.443054   0.462006  -2.139112\n",
       "2000-01-21  -5.973586  -3.610452   1.302625  -2.240089\n",
       "2000-01-22  -4.640426  -4.884383   2.037940  -1.600981\n",
       "2000-01-23  -4.248220  -6.927911   3.497491  -3.671478\n",
       "2000-01-24  -4.053939  -9.194235   3.996642  -1.591770\n",
       "2000-01-25  -4.446411 -11.121203   4.572510  -2.457533\n",
       "2000-01-26  -5.186590 -10.054767   5.703868  -0.717003\n",
       "2000-01-27  -6.975257  -9.760684   5.103802  -1.817393\n",
       "2000-01-28  -6.966099  -9.996140   5.439866  -1.993961\n",
       "2000-01-29  -7.135128 -10.895678   5.820445  -1.662442\n",
       "2000-01-30  -6.671058 -10.581426   6.590109  -1.590529\n",
       "...               ...        ...        ...        ...\n",
       "2002-08-28 -24.855846 -64.893788 -51.369954 -14.761095\n",
       "2002-08-29 -24.133857 -65.711824 -51.455660 -15.987826\n",
       "2002-08-30 -24.903995 -65.701684 -51.867143 -16.648941\n",
       "2002-08-31 -26.656935 -66.154515 -50.559595 -16.202978\n",
       "2002-09-01 -29.013040 -66.200206 -51.096939 -16.823300\n",
       "2002-09-02 -29.208242 -66.483606 -50.999569 -17.191903\n",
       "2002-09-03 -29.426409 -67.104961 -50.022280 -15.673341\n",
       "2002-09-04 -28.830741 -66.191113 -50.422663 -14.930490\n",
       "2002-09-05 -28.238567 -63.952420 -51.613794 -15.146274\n",
       "2002-09-06 -26.241322 -63.400261 -50.134051 -16.590744\n",
       "2002-09-07 -26.163171 -63.475275 -50.698776 -16.797731\n",
       "2002-09-08 -27.547412 -64.421646 -51.708649 -16.045778\n",
       "2002-09-09 -28.924865 -66.134762 -51.365990 -16.608699\n",
       "2002-09-10 -27.414578 -66.344535 -51.614181 -16.481718\n",
       "2002-09-11 -27.336475 -64.404186 -52.810833 -15.312977\n",
       "2002-09-12 -28.390124 -63.877958 -54.247530 -15.902703\n",
       "2002-09-13 -29.458357 -63.229419 -54.920337 -14.257208\n",
       "2002-09-14 -29.985167 -62.539700 -54.715688 -14.251853\n",
       "2002-09-15 -30.398369 -62.910940 -53.614339 -14.299855\n",
       "2002-09-16 -29.304959 -62.555394 -54.171977 -14.159070\n",
       "2002-09-17 -29.842844 -62.628072 -53.355462 -13.359068\n",
       "2002-09-18 -28.653425 -61.718701 -51.314580 -12.859732\n",
       "2002-09-19 -29.267362 -61.660742 -50.683900 -11.481917\n",
       "2002-09-20 -27.515315 -63.868932 -50.827311 -11.152452\n",
       "2002-09-21 -26.541846 -64.284543 -51.494623 -11.322065\n",
       "2002-09-22 -25.661374 -65.026010 -51.538649 -13.639199\n",
       "2002-09-23 -26.225626 -62.956159 -52.396281 -13.955707\n",
       "2002-09-24 -26.480931 -63.022269 -52.637981 -14.701805\n",
       "2002-09-25 -26.083261 -62.062299 -52.518720 -13.822675\n",
       "2002-09-26 -26.353005 -61.762479 -52.643215 -15.084380\n",
       "\n",
       "[1000 rows x 4 columns]"
      ]
     },
     "execution_count": 140,
     "metadata": {},
     "output_type": "execute_result"
    }
   ],
   "source": [
    "pd.read_excel('foo.xlsx', 'Sheet1', index_col=None, na_values=['NA'])"
   ]
  }
 ],
 "metadata": {
  "kernelspec": {
   "display_name": "Python 3",
   "language": "python",
   "name": "python3"
  },
  "language_info": {
   "codemirror_mode": {
    "name": "ipython",
    "version": 3
   },
   "file_extension": ".py",
   "mimetype": "text/x-python",
   "name": "python",
   "nbconvert_exporter": "python",
   "pygments_lexer": "ipython3",
   "version": "3.6.3"
  }
 },
 "nbformat": 4,
 "nbformat_minor": 2
}
